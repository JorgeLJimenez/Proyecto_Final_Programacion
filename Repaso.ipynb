{
 "cells": [
  {
   "cell_type": "markdown",
   "id": "4b1eb503",
   "metadata": {},
   "source": [
    "# Teoría\n",
    "\n",
    "## ¿Qué es MyQSL?\n",
    "MySQL es un sistema de gestión de bases de datos relacional.\n",
    "## ¿Qué es una base de datos relacional?\n",
    "Una base de datos relacional (RDB) es una forma de estructurar información en tablas, filas y columnas. Un RDB tiene la capacidad de establecer vínculos (o relaciones) entre información mediante la unión de tablas, lo que facilita la comprensión y la obtención de estadísticas sobre la relación entre varios datos.\n",
    "## MySQL Connector\n",
    "MySQL Connector/Python enables Python programs to access MySQL databases. MySQL Connector/Python includes support for converting parameter values back and forth between Python and MySQL data types.  \n",
    "MySQL Python/Connector is an interface for connecting to a MySQL database server from \n",
    "Python. It implements the Python Database API and is built on top of the MySQL.\n",
    "\n",
    "## connect()\n",
    "The connect() constructor creates a connection to the MySQL server and returns an object of the\n",
    "MySQLConnection class.\n",
    "\n",
    "## Exception\n",
    "Cuando una porción de código quiere indicar que ocurrió un error, se dice que debe lanzar una excepción. An exception is an event, which occurs during the execution of a program that disrupts the normal flow of the program's instructions. Raising an exception is a technique for interrupting the normal flow of execution in a program, signaling that some exceptional circumstance has arisen, and returning directly to an enclosing part of the program that was designated to react to that circumstance.\n",
    "\n",
    "## raise\n",
    "The raise keyword is used to raise an exception. You can define what kind of error to raise, and the text to print to the user."
   ]
  },
  {
   "cell_type": "markdown",
   "id": "3426cd68",
   "metadata": {},
   "source": [
    "## contraseña mal dada:\n",
    "### MySQLInterfaceError: Access denied for user 'root'@'localhost' (using password: YES)\n",
    "### ProgrammingError: 1045 (28000): Access denied for user 'root'@'localhost' (using password: YES)\n",
    "## el host no existe:\n",
    "### MySQLInterfaceError: Unknown MySQL server host 'localhos' (11001)\n",
    "### DatabaseError: 2005 (HY000): Unknown MySQL server host 'localhos' (11001)"
   ]
  },
  {
   "cell_type": "code",
   "execution_count": 36,
   "id": "5496cae0",
   "metadata": {},
   "outputs": [
    {
     "name": "stdout",
     "output_type": "stream",
     "text": [
      "<class 'mysql.connector.connection_cext.CMySQLConnection'>\n",
      "<class 'mysql.connector.cursor_cext.CMySQLCursor'>\n",
      "CMySQLCursor: SHOW DATABASES\n",
      "('information_schema',)\n",
      "('mydb_thermo',)\n",
      "('mysql',)\n",
      "('performance_schema',)\n",
      "('sys',)\n",
      "('testdb',)\n",
      "[]\n",
      "CMySQLCursor: SHOW DATABASES\n",
      "<class 'mysql.connector.connection_cext.CMySQLConnection'>\n",
      "<class 'mysql.connector.cursor_cext.CMySQLCursor'>\n"
     ]
    }
   ],
   "source": [
    "import mysql.connector \n",
    "conn = mysql.connector.connect(\n",
    "        host=\"localhost\", # The MySQL hostname defines the location of your MySQL server and database\n",
    "        user=\"root\",\n",
    "        passwd=\"Himenesumusic_13\",\n",
    "    )\n",
    "cursor=conn.cursor()\n",
    "\n",
    "cursor.execute(\"SHOW DATABASES\")\n",
    "\n",
    "print(type(conn))\n",
    "print(type(cursor))\n",
    "\n",
    "print(cursor)\n",
    "\n",
    "# para ver mis bases de datos, puedo usar:\n",
    "for x in cursor:\n",
    "    print(x)\n",
    "    \n",
    "# o también puedo usar:\n",
    "print(cursor.fetchall())\n",
    "\n",
    "\n",
    "\n",
    "conn.close()\n",
    "\n",
    "print(cursor) # aún funciona\n",
    "for x in cursor:\n",
    "    print(x) # Al cerrar la conexión, ya no me muestra las bases de datos\n",
    "\n",
    "print(type(conn)) # aún funciona\n",
    "print(type(cursor)) # aún funciona\n",
    "\n",
    "# cursor=conn.cursor() # Al cerrar la conexión, aparece la excepción 'OperationalError: MySQL Connection not available.'"
   ]
  },
  {
   "cell_type": "markdown",
   "id": "09d4cb24",
   "metadata": {},
   "source": [
    "## cursor()\n",
    "The MySQLCursor class instantiates objects that can execute operations such as SQL statements. Cursor objects interact with the MySQL server using a MySQLConnection object. To create a cursor, use the cursor() method of a connection object: import mysql.  \n",
    "All DDL (Data Definition Language) statements are executed using a handle structure known as a cursor.  \n",
    "The MySQLCursor of mysql-connector-python (and similar libraries) is used to execute statements to communicate with the MySQL database. Using the methods of it you can execute SQL statements, fetch data from the result sets, call procedures.  \n",
    "Itera sobre datos.  \n",
    "Itera sobre registros.\n",
    "\n",
    "## MySQL statement (sentencia de MySQL)\n",
    "### Listado de sentencias básicas en SQL\n",
    "SELECT se utiliza para consultar datos.  \n",
    "DISTINCT sirve para eliminar los duplicados de las consultas de datos.  \n",
    "WHERE se utiliza para incluir las condiciones de los datos que queremos consultar.  \n",
    "AND y OR se utilizan para incluir 2 o más condiciones a una consulta.  \n",
    "ORDER BY se utiliza para ordenar los resultados de una consulta.  \n",
    "INSERT se utiliza para insertar datos.  \n",
    "UPDATE se utiliza para actualizar o modificar datos ya existentes.  \n",
    "DELETE se utiliza para borrar datos.\n",
    "\n",
    "\n",
    "## ROLLBACK AND COMMIT\n",
    "ROLLBACK: fuerza que se deshaga la transacción en caso de haber un problema o querer abandonarla. Cierra la transacción.  \n",
    "COMMIT: confirma el conjunto de operaciones convirtiendo los datos en definitivos. Marca el éxito de la operación de bloque y cierra la transacción.  \n",
    "COMMIT: Termina la transacción guardando en la base de datos todos los cambios realizados por la transacción. Cualquier tipo de bloqueo que se mantuviera durante la transacción queda liberado.  \n",
    "ROLLBACK: Termina la transacción deshaciendo todos los cambios que hubiera realizado sobre la base de datos.\n",
    "\n",
    "## Query (Consulta)\n",
    "Una consulta o query de una base de datos, es un lenguaje estándar que permite traer datos de una o más tablas, para adicionar, actualizar o eliminar contenidos, de una manera rápida y poderosa. Hacer una consulta puede ser leer tablas, actualizar, insertar, eliminar, etc\n",
    "\n",
    "## CRUD\n",
    "Create \"crear un registro\"  \n",
    "Read \"leer uno o más registros\"  \n",
    "Update \"actualizar un registro\"  \n",
    "Delete \"eliminar\""
   ]
  },
  {
   "cell_type": "markdown",
   "id": "d27e60ab",
   "metadata": {},
   "source": [
    "## Como usar try-except cuando voy a abrir una conexión con MySQL"
   ]
  },
  {
   "cell_type": "code",
   "execution_count": 56,
   "id": "f904f647",
   "metadata": {},
   "outputs": [
    {
     "name": "stdout",
     "output_type": "stream",
     "text": [
      "...\n",
      "[('information_schema',), ('mydb_thermo',), ('mysql',), ('performance_schema',), ('sys',), ('testdb',)]\n"
     ]
    }
   ],
   "source": [
    "import mysql.connector \n",
    "from mysql.connector import errorcode\n",
    "\n",
    "try:\n",
    "    conn = mysql.connector.connect(\n",
    "            host=\"localhot\", # The MySQL hostname defines the location of your MySQL server and database\n",
    "            user=\"root\",\n",
    "            passwd=\"Himenesumusic_13\",\n",
    "            database='testdb'\n",
    "        )\n",
    "except mysql.connector.Error as err:\n",
    "    if err.errno == errorcode.ER_ACCESS_DENIED_ERROR:\n",
    "        print(err)\n",
    "    else:\n",
    "        print(err)\n",
    "        #print(\"Something is wrong with your user name or password\")\n",
    "    #elif err.errno == errorcode.ER_BAD_DB_ERROR:\n",
    "         #print(\"Database does not exist\")\n",
    "    #else:\n",
    "        #print(err) # caso en el cual, se imprimiría la excepción debido al host ingresado.\n",
    "else:\n",
    "    print(\"...\")\n",
    "    cursor=conn.cursor()\n",
    "    cursor.execute(\"SHOW DATABASES\")\n",
    "    print(cursor.fetchall())\n",
    "    conn.close()"
   ]
  },
  {
   "cell_type": "markdown",
   "id": "cd2394d6",
   "metadata": {},
   "source": [
    "## SyntaxError: positional argument follows keyword argument"
   ]
  },
  {
   "cell_type": "code",
   "execution_count": 67,
   "id": "fdbbd5a7",
   "metadata": {},
   "outputs": [
    {
     "ename": "SyntaxError",
     "evalue": "positional argument follows keyword argument (3721860876.py, line 4)",
     "output_type": "error",
     "traceback": [
      "\u001b[1;36m  Cell \u001b[1;32mIn[67], line 4\u001b[1;36m\u001b[0m\n\u001b[1;33m    funcionX(\"a\",a=\"a\",-1)\u001b[0m\n\u001b[1;37m                         ^\u001b[0m\n\u001b[1;31mSyntaxError\u001b[0m\u001b[1;31m:\u001b[0m positional argument follows keyword argument\n"
     ]
    }
   ],
   "source": [
    "def funcionX(*args,**kwargs):\n",
    "    print(\"X\")\n",
    "    \n",
    "funcionX(\"a\",a=\"a\",-1)"
   ]
  },
  {
   "cell_type": "markdown",
   "id": "8162efd2",
   "metadata": {},
   "source": [
    "## *list and **dict in a function call"
   ]
  },
  {
   "cell_type": "markdown",
   "id": "bd768044",
   "metadata": {},
   "source": [
    "### *t means \"treat the elements of this iterable as positional arguments to this function call.\""
   ]
  },
  {
   "cell_type": "code",
   "execution_count": 26,
   "id": "0e869773",
   "metadata": {},
   "outputs": [
    {
     "name": "stdout",
     "output_type": "stream",
     "text": [
      "1 2\n",
      "[1, 2, 3, 4]\n"
     ]
    }
   ],
   "source": [
    "def foo(x, y):\n",
    "    print(x, y)\n",
    "\n",
    "t = (1, 2)\n",
    "foo(*t)\n",
    "\n",
    "# you can also do this in a list/tuple/set literals:\n",
    "\n",
    "print([1, *(2, 3), 4])"
   ]
  },
  {
   "cell_type": "markdown",
   "id": "32ca0f08",
   "metadata": {},
   "source": [
    "### **d means \"treat the key-value pairs in the dictionary as additional named arguments to this function call.\""
   ]
  },
  {
   "cell_type": "code",
   "execution_count": 51,
   "id": "43bbd845",
   "metadata": {},
   "outputs": [
    {
     "name": "stdout",
     "output_type": "stream",
     "text": [
      "1 2\n",
      "1 2\n",
      "Por otro lado:\n",
      "{'b': 2, 'a': 1}\n",
      "{'1': 1}\n"
     ]
    }
   ],
   "source": [
    "def foo(x, y):\n",
    "    print(x, y)\n",
    "\n",
    "d = {'x':1, 'y':2}\n",
    "# estas dos formas de entregarle argumentos a la funcion son equivalentes:\n",
    "foo(y=2,x=1)\n",
    "foo(**d)\n",
    "\n",
    "print(\"Por otro lado:\")\n",
    "# you can also do this in a dictionary literals:\n",
    "d = {'a': 1}\n",
    "print({'b': 2, **d})\n",
    "print({'1':1})"
   ]
  },
  {
   "cell_type": "markdown",
   "id": "4b6f27be",
   "metadata": {},
   "source": [
    "## *list and **dict in a function signature"
   ]
  },
  {
   "cell_type": "markdown",
   "id": "8498f4f0",
   "metadata": {},
   "source": [
    "### *t means \"take all additional positional arguments to this function and pack them into this parameter as a tuple.\""
   ]
  },
  {
   "cell_type": "code",
   "execution_count": 43,
   "id": "cf0b580f",
   "metadata": {},
   "outputs": [
    {
     "name": "stdout",
     "output_type": "stream",
     "text": [
      "(1, 2)\n"
     ]
    }
   ],
   "source": [
    "def foo(*t):\n",
    "    print(t)\n",
    "foo(1,2)"
   ]
  },
  {
   "cell_type": "markdown",
   "id": "11d78ce5",
   "metadata": {},
   "source": [
    "### **d means \"take all additional named arguments to this function and insert them into this parameter as dictionary entries.\""
   ]
  },
  {
   "cell_type": "code",
   "execution_count": 46,
   "id": "8e072147",
   "metadata": {},
   "outputs": [
    {
     "name": "stdout",
     "output_type": "stream",
     "text": [
      "{'x': 1, 'y': 2}\n"
     ]
    }
   ],
   "source": [
    "def foo(**d):\n",
    "    print(d)\n",
    "\n",
    "foo(x=1, y=2)"
   ]
  },
  {
   "cell_type": "markdown",
   "id": "6fe902bb",
   "metadata": {},
   "source": [
    "### Note that parameters that appear after the starred parameter (the one marked *) are keyword-only:"
   ]
  },
  {
   "cell_type": "code",
   "execution_count": 60,
   "id": "add2924b",
   "metadata": {},
   "outputs": [
    {
     "ename": "TypeError",
     "evalue": "f() takes 1 positional argument but 2 were given",
     "output_type": "error",
     "traceback": [
      "\u001b[1;31m---------------------------------------------------------------------------\u001b[0m",
      "\u001b[1;31mTypeError\u001b[0m                                 Traceback (most recent call last)",
      "Cell \u001b[1;32mIn[60], line 4\u001b[0m\n\u001b[0;32m      1\u001b[0m \u001b[38;5;28;01mdef\u001b[39;00m \u001b[38;5;21mf\u001b[39m(a, \u001b[38;5;241m*\u001b[39m, b): \u001b[38;5;241m.\u001b[39m\u001b[38;5;241m.\u001b[39m\u001b[38;5;241m.\u001b[39m\n\u001b[0;32m      3\u001b[0m f(\u001b[38;5;241m1\u001b[39m, b\u001b[38;5;241m=\u001b[39m\u001b[38;5;241m2\u001b[39m)  \u001b[38;5;66;03m# fine\u001b[39;00m\n\u001b[1;32m----> 4\u001b[0m \u001b[43mf\u001b[49m\u001b[43m(\u001b[49m\u001b[38;5;241;43m1\u001b[39;49m\u001b[43m,\u001b[49m\u001b[43m \u001b[49m\u001b[38;5;241;43m2\u001b[39;49m\u001b[43m)\u001b[49m    \u001b[38;5;66;03m# error: b is keyword-only\u001b[39;00m\n",
      "\u001b[1;31mTypeError\u001b[0m: f() takes 1 positional argument but 2 were given"
     ]
    }
   ],
   "source": [
    "def f(a, *, b): ...\n",
    "\n",
    "f(1, b=2)  # fine\n",
    "f(1, 2)    # error: b is keyword-only"
   ]
  },
  {
   "cell_type": "markdown",
   "id": "eafd73f4",
   "metadata": {},
   "source": [
    "###  positional-only parameters, meaning parameters that cannot be used as keyword arguments. They appear before a / (a pun on * preceding keyword-only args)."
   ]
  },
  {
   "cell_type": "code",
   "execution_count": 55,
   "id": "acf1c47d",
   "metadata": {},
   "outputs": [
    {
     "ename": "TypeError",
     "evalue": "f() got some positional-only arguments passed as keyword arguments: 'a'",
     "output_type": "error",
     "traceback": [
      "\u001b[1;31m---------------------------------------------------------------------------\u001b[0m",
      "\u001b[1;31mTypeError\u001b[0m                                 Traceback (most recent call last)",
      "Cell \u001b[1;32mIn[55], line 5\u001b[0m\n\u001b[0;32m      3\u001b[0m f(  \u001b[38;5;241m1\u001b[39m,   \u001b[38;5;241m2\u001b[39m, k\u001b[38;5;241m=\u001b[39m\u001b[38;5;241m3\u001b[39m)  \u001b[38;5;66;03m# fine\u001b[39;00m\n\u001b[0;32m      4\u001b[0m f(  \u001b[38;5;241m1\u001b[39m, p\u001b[38;5;241m=\u001b[39m\u001b[38;5;241m2\u001b[39m, k\u001b[38;5;241m=\u001b[39m\u001b[38;5;241m3\u001b[39m)  \u001b[38;5;66;03m# fine\u001b[39;00m\n\u001b[1;32m----> 5\u001b[0m \u001b[43mf\u001b[49m\u001b[43m(\u001b[49m\u001b[43ma\u001b[49m\u001b[38;5;241;43m=\u001b[39;49m\u001b[38;5;241;43m1\u001b[39;49m\u001b[43m,\u001b[49m\u001b[43m \u001b[49m\u001b[43mp\u001b[49m\u001b[38;5;241;43m=\u001b[39;49m\u001b[38;5;241;43m2\u001b[39;49m\u001b[43m,\u001b[49m\u001b[43m \u001b[49m\u001b[43mk\u001b[49m\u001b[38;5;241;43m=\u001b[39;49m\u001b[38;5;241;43m3\u001b[39;49m\u001b[43m)\u001b[49m  \u001b[38;5;66;03m# error: a is positional-only\u001b[39;00m\n",
      "\u001b[1;31mTypeError\u001b[0m: f() got some positional-only arguments passed as keyword arguments: 'a'"
     ]
    }
   ],
   "source": [
    "def f(a, /, p, *, k): ...\n",
    "\n",
    "f(  1,   2, k=3)  # fine\n",
    "f(  1, p=2, k=3)  # fine\n",
    "f(a=1, p=2, k=3)  # error: a is positional-only"
   ]
  },
  {
   "cell_type": "code",
   "execution_count": 73,
   "id": "32bc9ab6",
   "metadata": {},
   "outputs": [
    {
     "name": "stdout",
     "output_type": "stream",
     "text": [
      "['2', '3', '9', '0']\n",
      "['23', '90']\n",
      "['77']\n",
      "77\n"
     ]
    }
   ],
   "source": [
    "import re\n",
    "i=re.findall(r'\\d','pepito23juanita90')\n",
    "print(i)\n",
    "\n",
    "i=re.findall(r'\\d+','pepito23juanita90')\n",
    "print(i)\n",
    "\n",
    "i=re.findall(r'\\d+','tb_process77')\n",
    "print(i)\n",
    "print(i[0])"
   ]
  },
  {
   "cell_type": "markdown",
   "id": "edebe4e2",
   "metadata": {},
   "source": [
    "# DECORATORS"
   ]
  },
  {
   "cell_type": "markdown",
   "id": "130291e0",
   "metadata": {},
   "source": [
    "## (Context) Defining Functions Inside other Functions"
   ]
  },
  {
   "cell_type": "code",
   "execution_count": 91,
   "id": "8a225ec1",
   "metadata": {},
   "outputs": [
    {
     "data": {
      "text/plain": [
       "5"
      ]
     },
     "execution_count": 91,
     "metadata": {},
     "output_type": "execute_result"
    }
   ],
   "source": [
    "def plus_one(number):\n",
    "    def add_one(number):\n",
    "        return number + 1\n",
    "    return add_one(number)\n",
    "plus_one(4)"
   ]
  },
  {
   "cell_type": "markdown",
   "id": "222cff7d",
   "metadata": {},
   "source": [
    "## (Context) Passing Functions as Arguments to other Functions"
   ]
  },
  {
   "cell_type": "code",
   "execution_count": 92,
   "id": "5ebdcd6d",
   "metadata": {},
   "outputs": [
    {
     "data": {
      "text/plain": [
       "6"
      ]
     },
     "execution_count": 92,
     "metadata": {},
     "output_type": "execute_result"
    }
   ],
   "source": [
    "def plus_one(number):\n",
    "    return number + 1\n",
    "\n",
    "def function_call(function):\n",
    "    return function(5)\n",
    "\n",
    "function_call(plus_one)"
   ]
  },
  {
   "cell_type": "markdown",
   "id": "cd1da582",
   "metadata": {},
   "source": [
    "## (Context) Functions Returning other Functions"
   ]
  },
  {
   "cell_type": "code",
   "execution_count": 93,
   "id": "6f529cbd",
   "metadata": {},
   "outputs": [
    {
     "name": "stdout",
     "output_type": "stream",
     "text": [
      "<function hello_function.<locals>.say_hi at 0x000001CA861F9DA0>\n"
     ]
    },
    {
     "data": {
      "text/plain": [
       "'Hi'"
      ]
     },
     "execution_count": 93,
     "metadata": {},
     "output_type": "execute_result"
    }
   ],
   "source": [
    "def hello_function():\n",
    "    def say_hi():\n",
    "        return \"Hi\"\n",
    "    return say_hi\n",
    "hello = hello_function() # hello = say_hi\n",
    "print(hello)\n",
    "hello() # llamo a la funcion say_hi()"
   ]
  },
  {
   "cell_type": "markdown",
   "id": "449a8606",
   "metadata": {},
   "source": [
    "## (Context) Nested Functions have access to the Enclosing Function's Variable Scope - Las funciones anidadas tienen acceso al ámbito variable de la función envolvente"
   ]
  },
  {
   "cell_type": "code",
   "execution_count": 4,
   "id": "cbc70cc7",
   "metadata": {},
   "outputs": [
    {
     "name": "stdout",
     "output_type": "stream",
     "text": [
      "Some random message\n"
     ]
    }
   ],
   "source": [
    "def print_message(message):\n",
    "    \"Enclosing Function\"\n",
    "    def message_sender():\n",
    "        \"Nested Function\"\n",
    "        print(message)\n",
    "    message_sender()\n",
    "\n",
    "print_message(\"Some random message\")"
   ]
  },
  {
   "cell_type": "markdown",
   "id": "f32a608c",
   "metadata": {},
   "source": [
    "## Creating Decorators - a simple decorator that will convert a sentence to uppercase\n",
    "wrapper - n. envoltura.  \n",
    "uppercase - n. mayúscula."
   ]
  },
  {
   "cell_type": "code",
   "execution_count": 12,
   "id": "3ba5fdc0",
   "metadata": {},
   "outputs": [
    {
     "data": {
      "text/plain": [
       "'HELLO THERE'"
      ]
     },
     "execution_count": 12,
     "metadata": {},
     "output_type": "execute_result"
    }
   ],
   "source": [
    "def uppercase_decorator(function): # function = say_hi\n",
    "    def wrapper():\n",
    "        func = function() # func = 'hello there'\n",
    "        make_uppercase = func.upper() \n",
    "        return make_uppercase\n",
    "    \n",
    "    return wrapper\n",
    "\n",
    "def say_hi():\n",
    "    return 'hello there'\n",
    "\n",
    "decorate = uppercase_decorator(say_hi) # decorate = wrapper\n",
    "decorate() "
   ]
  },
  {
   "cell_type": "markdown",
   "id": "1c04475a",
   "metadata": {},
   "source": [
    "## However, Python provides a much easier way for us to apply decorators. We simply use the @ symbol before the function we'd like to decorate. Let's show that in practice below."
   ]
  },
  {
   "cell_type": "code",
   "execution_count": 18,
   "id": "85c4aec1",
   "metadata": {},
   "outputs": [
    {
     "data": {
      "text/plain": [
       "'HELLO THERE'"
      ]
     },
     "execution_count": 18,
     "metadata": {},
     "output_type": "execute_result"
    }
   ],
   "source": [
    "@uppercase_decorator\n",
    "def say_hi():\n",
    "    return 'hello there'\n",
    "\n",
    "say_hi()"
   ]
  },
  {
   "cell_type": "markdown",
   "id": "603e6598",
   "metadata": {},
   "source": [
    "## Applying Multiple Decorators to a Single Function"
   ]
  },
  {
   "cell_type": "code",
   "execution_count": 22,
   "id": "ed7f6d6b",
   "metadata": {},
   "outputs": [
    {
     "data": {
      "text/plain": [
       "['hello', 'there']"
      ]
     },
     "execution_count": 22,
     "metadata": {},
     "output_type": "execute_result"
    }
   ],
   "source": [
    "def split_string(function):\n",
    "    def wrapper():\n",
    "        func = function()\n",
    "        splitted_string = func.split()\n",
    "        return splitted_string\n",
    "\n",
    "    return wrapper\n",
    "\n",
    "def say_hi():\n",
    "    return 'hello there'\n",
    "\n",
    "decorate = split_string(say_hi) # decorate = wrapper()\n",
    "decorate() "
   ]
  },
  {
   "cell_type": "code",
   "execution_count": 25,
   "id": "0f500f7c",
   "metadata": {},
   "outputs": [
    {
     "data": {
      "text/plain": [
       "['hello', 'there']"
      ]
     },
     "execution_count": 25,
     "metadata": {},
     "output_type": "execute_result"
    }
   ],
   "source": [
    "@split_string\n",
    "def say_hi():\n",
    "    return 'hello there'\n",
    "say_hi()"
   ]
  },
  {
   "cell_type": "code",
   "execution_count": 31,
   "id": "8199d593",
   "metadata": {},
   "outputs": [
    {
     "data": {
      "text/plain": [
       "['HELLO', 'THERE']"
      ]
     },
     "execution_count": 31,
     "metadata": {},
     "output_type": "execute_result"
    }
   ],
   "source": [
    "@split_string\n",
    "@uppercase_decorator \n",
    "def say_hi():\n",
    "    return 'hello there'\n",
    "say_hi()"
   ]
  },
  {
   "cell_type": "markdown",
   "id": "d412da51",
   "metadata": {},
   "source": [
    "### Así se escribiría lo anterior en un solo bloque de código:"
   ]
  },
  {
   "cell_type": "code",
   "execution_count": 32,
   "id": "f7df125c",
   "metadata": {},
   "outputs": [
    {
     "data": {
      "text/plain": [
       "['HELLO', 'THERE']"
      ]
     },
     "execution_count": 32,
     "metadata": {},
     "output_type": "execute_result"
    }
   ],
   "source": [
    "#observación: el orden de los decoradores importa. Si los intercambio de posición, hay error!\n",
    "#The decorators will be applied in the order that we've called them. The application of decorators is from the bottom up.\n",
    "def uppercase_decorator(function):\n",
    "    def wrapper():\n",
    "        func = function() # func = 'hello there'\n",
    "        make_uppercase = func.upper()\n",
    "        return make_uppercase\n",
    "    \n",
    "    return wrapper\n",
    "\n",
    "def split_string(function):\n",
    "    def wrapper():\n",
    "        func = function()\n",
    "        splitted_string = func.split()\n",
    "        return splitted_string\n",
    "\n",
    "    return wrapper\n",
    "\n",
    "@split_string\n",
    "@uppercase_decorator \n",
    "def say_hi():\n",
    "    return 'hello there'\n",
    "say_hi()"
   ]
  },
  {
   "cell_type": "markdown",
   "id": "c018832d",
   "metadata": {},
   "source": [
    "## Accepting Arguments in Decorator Functions"
   ]
  },
  {
   "cell_type": "code",
   "execution_count": 34,
   "id": "82367897",
   "metadata": {},
   "outputs": [
    {
     "name": "stdout",
     "output_type": "stream",
     "text": [
      "My arguments are: Nairobi, Accra\n",
      "Cities I love are Nairobi and Accra\n"
     ]
    }
   ],
   "source": [
    "# define a decorator that accepts arguments\n",
    "def decorator_with_arguments(function):\n",
    "    def wrapper_accepting_arguments(arg1, arg2):\n",
    "        print(\"My arguments are: {0}, {1}\".format(arg1,arg2))\n",
    "        function(arg1, arg2)\n",
    "    return wrapper_accepting_arguments\n",
    "    \n",
    "\n",
    "@decorator_with_arguments\n",
    "def cities(city_one, city_two):\n",
    "    print(\"Cities I love are {0} and {1}\".format(city_one, city_two))\n",
    "\n",
    "cities(\"Nairobi\", \"Accra\")"
   ]
  },
  {
   "cell_type": "markdown",
   "id": "f919c6e0",
   "metadata": {},
   "source": [
    "## Defining General Purpose Decorators"
   ]
  },
  {
   "cell_type": "code",
   "execution_count": 49,
   "id": "c57fc6ba",
   "metadata": {},
   "outputs": [
    {
     "name": "stdout",
     "output_type": "stream",
     "text": [
      "The positional arguments are ()\n",
      "The keyword arguments are {}\n",
      "No arguments here.\n"
     ]
    }
   ],
   "source": [
    "def a_decorator_passing_arbitrary_arguments(function_to_decorate): # function_to_decorate = function_with_no_argument()\n",
    "    def a_wrapper_accepting_arbitrary_arguments(*args,**kwargs):\n",
    "        print('The positional arguments are', args)\n",
    "        print('The keyword arguments are', kwargs)\n",
    "        function_to_decorate(*args)\n",
    "    return a_wrapper_accepting_arbitrary_arguments\n",
    "\n",
    "@a_decorator_passing_arbitrary_arguments\n",
    "def function_with_no_argument():\n",
    "    print(\"No arguments here.\")\n",
    "\n",
    "function_with_no_argument()"
   ]
  },
  {
   "cell_type": "code",
   "execution_count": 50,
   "id": "5ef05884",
   "metadata": {},
   "outputs": [
    {
     "name": "stdout",
     "output_type": "stream",
     "text": [
      "The positional arguments are (1, 2, 3)\n",
      "The keyword arguments are {}\n",
      "1 2 3\n"
     ]
    }
   ],
   "source": [
    "def a_decorator_passing_arbitrary_arguments(function_to_decorate): # function_to_decorate = function_with_arguments(a, b, c)\n",
    "    def a_wrapper_accepting_arbitrary_arguments(*args,**kwargs):\n",
    "        print('The positional arguments are', args)\n",
    "        print('The keyword arguments are', kwargs)\n",
    "        function_to_decorate(*args)\n",
    "    return a_wrapper_accepting_arbitrary_arguments\n",
    "\n",
    "@a_decorator_passing_arbitrary_arguments\n",
    "def function_with_arguments(a, b, c):\n",
    "    print(a, b, c)\n",
    "\n",
    "function_with_arguments(1,2,3)"
   ]
  },
  {
   "cell_type": "code",
   "execution_count": 52,
   "id": "c711a32d",
   "metadata": {},
   "outputs": [
    {
     "name": "stdout",
     "output_type": "stream",
     "text": [
      "The positional arguments are ()\n",
      "The keyword arguments are {'first_name': 'Derrick', 'last_name': 'Mwiti'}\n",
      "This has shown keyword arguments\n"
     ]
    }
   ],
   "source": [
    "# Keyword arguments are passed using keywords\n",
    "def a_decorator_passing_arbitrary_arguments(function_to_decorate): # function_to_decorate = function_with_keyword_arguments()\n",
    "    def a_wrapper_accepting_arbitrary_arguments(*args,**kwargs):\n",
    "        print('The positional arguments are', args)\n",
    "        print('The keyword arguments are', kwargs)\n",
    "        function_to_decorate(*args)\n",
    "    return a_wrapper_accepting_arbitrary_arguments\n",
    "\n",
    "@a_decorator_passing_arbitrary_arguments\n",
    "def function_with_keyword_arguments():\n",
    "    print(\"This has shown keyword arguments\")\n",
    "\n",
    "function_with_keyword_arguments(first_name=\"Derrick\", last_name=\"Mwiti\")"
   ]
  },
  {
   "cell_type": "code",
   "execution_count": 310,
   "id": "1b169691",
   "metadata": {},
   "outputs": [
    {
     "name": "stdout",
     "output_type": "stream",
     "text": [
      "The positional arguments are (<__main__.clase object at 0x000001A0AA3F1190>,)\n",
      "The keyword arguments are {'first_name': 'Derrick', 'last_name': 'Mwiti'}\n"
     ]
    },
    {
     "ename": "TypeError",
     "evalue": "clase.function_with_keyword_arguments() takes 0 positional arguments but 1 was given",
     "output_type": "error",
     "traceback": [
      "\u001b[1;31m---------------------------------------------------------------------------\u001b[0m",
      "\u001b[1;31mTypeError\u001b[0m                                 Traceback (most recent call last)",
      "Cell \u001b[1;32mIn[310], line 15\u001b[0m\n\u001b[0;32m     12\u001b[0m         \u001b[38;5;28mprint\u001b[39m(\u001b[38;5;124m\"\u001b[39m\u001b[38;5;124mThis has shown keyword arguments\u001b[39m\u001b[38;5;124m\"\u001b[39m)\n\u001b[0;32m     14\u001b[0m obj\u001b[38;5;241m=\u001b[39mclase()\n\u001b[1;32m---> 15\u001b[0m \u001b[43mobj\u001b[49m\u001b[38;5;241;43m.\u001b[39;49m\u001b[43mfunction_with_keyword_arguments\u001b[49m\u001b[43m(\u001b[49m\u001b[43mfirst_name\u001b[49m\u001b[38;5;241;43m=\u001b[39;49m\u001b[38;5;124;43m\"\u001b[39;49m\u001b[38;5;124;43mDerrick\u001b[39;49m\u001b[38;5;124;43m\"\u001b[39;49m\u001b[43m,\u001b[49m\u001b[43m \u001b[49m\u001b[43mlast_name\u001b[49m\u001b[38;5;241;43m=\u001b[39;49m\u001b[38;5;124;43m\"\u001b[39;49m\u001b[38;5;124;43mMwiti\u001b[39;49m\u001b[38;5;124;43m\"\u001b[39;49m\u001b[43m)\u001b[49m\n",
      "Cell \u001b[1;32mIn[310], line 6\u001b[0m, in \u001b[0;36ma_decorator_passing_arbitrary_arguments.<locals>.a_wrapper_accepting_arbitrary_arguments\u001b[1;34m(*args, **kwargs)\u001b[0m\n\u001b[0;32m      4\u001b[0m \u001b[38;5;28mprint\u001b[39m(\u001b[38;5;124m'\u001b[39m\u001b[38;5;124mThe positional arguments are\u001b[39m\u001b[38;5;124m'\u001b[39m, args)\n\u001b[0;32m      5\u001b[0m \u001b[38;5;28mprint\u001b[39m(\u001b[38;5;124m'\u001b[39m\u001b[38;5;124mThe keyword arguments are\u001b[39m\u001b[38;5;124m'\u001b[39m, kwargs)\n\u001b[1;32m----> 6\u001b[0m \u001b[43mfunction_to_decorate\u001b[49m\u001b[43m(\u001b[49m\u001b[38;5;241;43m*\u001b[39;49m\u001b[43margs\u001b[49m\u001b[43m)\u001b[49m\n",
      "\u001b[1;31mTypeError\u001b[0m: clase.function_with_keyword_arguments() takes 0 positional arguments but 1 was given"
     ]
    }
   ],
   "source": [
    "# Keyword arguments are passed using keywords\n",
    "def a_decorator_passing_arbitrary_arguments(function_to_decorate): # function_to_decorate = function_with_keyword_arguments()\n",
    "    def a_wrapper_accepting_arbitrary_arguments(*args,**kwargs):\n",
    "        print('The positional arguments are', args)\n",
    "        print('The keyword arguments are', kwargs)\n",
    "        function_to_decorate(*args)\n",
    "    return a_wrapper_accepting_arbitrary_arguments\n",
    "\n",
    "class clase:\n",
    "    @a_decorator_passing_arbitrary_arguments\n",
    "    def function_with_keyword_arguments():\n",
    "        print(\"This has shown keyword arguments\")\n",
    "\n",
    "obj=clase()\n",
    "obj.function_with_keyword_arguments(first_name=\"Derrick\", last_name=\"Mwiti\")"
   ]
  },
  {
   "cell_type": "code",
   "execution_count": 53,
   "id": "cf6b2738",
   "metadata": {},
   "outputs": [
    {
     "name": "stdout",
     "output_type": "stream",
     "text": [
      "Hola\n"
     ]
    }
   ],
   "source": [
    "hola() #en Jupyter, no importa el orden del codigo en las celdas, como en cualquier otro entorno de programacion en Python."
   ]
  },
  {
   "cell_type": "code",
   "execution_count": 46,
   "id": "3ff8dfe1",
   "metadata": {},
   "outputs": [],
   "source": [
    "def hola():\n",
    "    print(\"Hola\")"
   ]
  },
  {
   "cell_type": "code",
   "execution_count": 1,
   "id": "e6f1d26a",
   "metadata": {},
   "outputs": [
    {
     "name": "stdout",
     "output_type": "stream",
     "text": [
      "Hola\n"
     ]
    },
    {
     "data": {
      "text/plain": [
       "<__main__.Hola at 0x275fc3a8c50>"
      ]
     },
     "execution_count": 1,
     "metadata": {},
     "output_type": "execute_result"
    }
   ],
   "source": []
  },
  {
   "cell_type": "code",
   "execution_count": 11,
   "id": "9d55ae66",
   "metadata": {},
   "outputs": [
    {
     "name": "stdout",
     "output_type": "stream",
     "text": [
      "Hola\n",
      "Jorge\n"
     ]
    }
   ],
   "source": [
    "class prueba:\n",
    "    def __init__(self):\n",
    "        f()\n",
    "        self.check()\n",
    "    def check(self):\n",
    "        print(\"Jorge\")\n",
    "\n",
    "def f():\n",
    "    print(\"Hola\")\n",
    "    \n",
    "p=prueba()"
   ]
  },
  {
   "cell_type": "code",
   "execution_count": 307,
   "id": "1e01232c",
   "metadata": {},
   "outputs": [
    {
     "ename": "NameError",
     "evalue": "name 'a' is not defined",
     "output_type": "error",
     "traceback": [
      "\u001b[1;31m---------------------------------------------------------------------------\u001b[0m",
      "\u001b[1;31mNameError\u001b[0m                                 Traceback (most recent call last)",
      "Cell \u001b[1;32mIn[307], line 5\u001b[0m\n\u001b[0;32m      2\u001b[0m     \u001b[38;5;28mprint\u001b[39m(\u001b[38;5;124mf\u001b[39m\u001b[38;5;124m\"\u001b[39m\u001b[38;5;124mvalor = \u001b[39m\u001b[38;5;132;01m{\u001b[39;00ma\u001b[38;5;132;01m}\u001b[39;00m\u001b[38;5;124m\"\u001b[39m)\n\u001b[0;32m      3\u001b[0m     func(a)\n\u001b[1;32m----> 5\u001b[0m \u001b[38;5;28;43;01mclass\u001b[39;49;00m\u001b[43m \u001b[49m\u001b[38;5;21;43;01mclase\u001b[39;49;00m\u001b[43m(\u001b[49m\u001b[43m)\u001b[49m\u001b[43m:\u001b[49m\n\u001b[0;32m      6\u001b[0m \u001b[43m    \u001b[49m\u001b[38;5;28;43;01mdef\u001b[39;49;00m\u001b[43m \u001b[49m\u001b[38;5;21;43m__init__\u001b[39;49m\u001b[43m(\u001b[49m\u001b[38;5;28;43mself\u001b[39;49m\u001b[43m,\u001b[49m\u001b[43m \u001b[49m\u001b[43ma\u001b[49m\u001b[43m)\u001b[49m\u001b[43m:\u001b[49m\n\u001b[0;32m      7\u001b[0m \u001b[43m        \u001b[49m\u001b[38;5;28;43mself\u001b[39;49m\u001b[38;5;241;43m.\u001b[39;49m\u001b[43mfuncion\u001b[49m\u001b[43m(\u001b[49m\u001b[43ma\u001b[49m\u001b[43m)\u001b[49m\u001b[43m \u001b[49m\n",
      "Cell \u001b[1;32mIn[307], line 9\u001b[0m, in \u001b[0;36mclase\u001b[1;34m()\u001b[0m\n\u001b[0;32m      6\u001b[0m \u001b[38;5;28;01mdef\u001b[39;00m \u001b[38;5;21m__init__\u001b[39m(\u001b[38;5;28mself\u001b[39m, a):\n\u001b[0;32m      7\u001b[0m     \u001b[38;5;28mself\u001b[39m\u001b[38;5;241m.\u001b[39mfuncion(a) \n\u001b[1;32m----> 9\u001b[0m \u001b[43m\u001b[49m\u001b[38;5;129;43m@decorador\u001b[39;49m\n\u001b[0;32m     10\u001b[0m \u001b[43m\u001b[49m\u001b[38;5;28;43;01mdef\u001b[39;49;00m\u001b[43m \u001b[49m\u001b[38;5;21;43mfuncion\u001b[39;49m\u001b[43m(\u001b[49m\u001b[38;5;28;43mself\u001b[39;49m\u001b[43m,\u001b[49m\u001b[43m \u001b[49m\u001b[43ma\u001b[49m\u001b[43m)\u001b[49m\u001b[43m:\u001b[49m\n\u001b[0;32m     11\u001b[0m \u001b[43m    \u001b[49m\u001b[38;5;28;43mprint\u001b[39;49m\u001b[43m(\u001b[49m\u001b[38;5;124;43mf\u001b[39;49m\u001b[38;5;124;43m\"\u001b[39;49m\u001b[38;5;124;43mprueba = \u001b[39;49m\u001b[38;5;132;43;01m{\u001b[39;49;00m\u001b[38;5;28;43mstr\u001b[39;49m\u001b[43m(\u001b[49m\u001b[43ma\u001b[49m\u001b[43m)\u001b[49m\u001b[38;5;132;43;01m}\u001b[39;49;00m\u001b[38;5;124;43m\"\u001b[39;49m\u001b[43m)\u001b[49m\n",
      "Cell \u001b[1;32mIn[307], line 2\u001b[0m, in \u001b[0;36mdecorador\u001b[1;34m(func)\u001b[0m\n\u001b[0;32m      1\u001b[0m \u001b[38;5;28;01mdef\u001b[39;00m \u001b[38;5;21mdecorador\u001b[39m(func):\n\u001b[1;32m----> 2\u001b[0m     \u001b[38;5;28mprint\u001b[39m(\u001b[38;5;124mf\u001b[39m\u001b[38;5;124m\"\u001b[39m\u001b[38;5;124mvalor = \u001b[39m\u001b[38;5;132;01m{\u001b[39;00m\u001b[43ma\u001b[49m\u001b[38;5;132;01m}\u001b[39;00m\u001b[38;5;124m\"\u001b[39m)\n\u001b[0;32m      3\u001b[0m     func(a)\n",
      "\u001b[1;31mNameError\u001b[0m: name 'a' is not defined"
     ]
    }
   ],
   "source": [
    "def decorador(func):\n",
    "    print(f\"valor = {a}\")\n",
    "    func(a)\n",
    "    \n",
    "class clase():\n",
    "    def __init__(self, a):\n",
    "        self.funcion(a) \n",
    "        \n",
    "    @decorador\n",
    "    def funcion(self, a):\n",
    "        print(f\"prueba = {str(a)}\")\n",
    "        \n",
    "obj=clase([1,2,3])"
   ]
  },
  {
   "cell_type": "code",
   "execution_count": 92,
   "id": "146bf553",
   "metadata": {},
   "outputs": [
    {
     "name": "stdout",
     "output_type": "stream",
     "text": [
      "True\n"
     ]
    }
   ],
   "source": [
    "import os\n",
    "from pathlib import Path\n",
    "\n",
    "path = Path(r'C:\\Users\\Windows 10\\Desktop\\UNIQUINDÍO\\5to Semestre\\Parcial2\\data_base3.xlsx')\n",
    "\n",
    "print(path.is_file())"
   ]
  },
  {
   "cell_type": "code",
   "execution_count": 16,
   "id": "229fd534",
   "metadata": {},
   "outputs": [
    {
     "name": "stdout",
     "output_type": "stream",
     "text": [
      "['state', 'P', 'V', 'T']\n"
     ]
    }
   ],
   "source": [
    "L=[('state', b'varchar(255)', 'YES', '', None, ''), \n",
    "   ('P', b'float(7,2)', 'YES', '', None, ''), \n",
    "   ('V', b'float(7,2)', 'YES', '', None, ''), \n",
    "   ('T', b'float(7,2)', 'YES', '', None, '')]\n",
    "L[1][0]\n",
    "len(L)\n",
    "\n",
    "M=[]\n",
    "for i in range(len(L)): \n",
    "    M.append(L[i][0])\n",
    "print(M)"
   ]
  },
  {
   "cell_type": "code",
   "execution_count": 17,
   "id": "de404d52",
   "metadata": {},
   "outputs": [
    {
     "name": "stdout",
     "output_type": "stream",
     "text": [
      "{'12': 'erg', '43f': 'y6', '97': '44', '984': 'rgrrg', '87': 'efrb'}\n"
     ]
    }
   ],
   "source": [
    "df1={'12':'erg','43f':'y6'}\n",
    "df2={'97':'44','984':'rgrrg','87':'efrb'}\n",
    "df={**df1,**df2}\n",
    "print(df)"
   ]
  },
  {
   "cell_type": "code",
   "execution_count": 92,
   "id": "873f81e9",
   "metadata": {},
   "outputs": [
    {
     "name": "stdout",
     "output_type": "stream",
     "text": [
      "[['dfs1', 'dfp1'], ['dfs3', 'dfp3'], ['dfs2', 'dfp2'], ['dfs1', 'dfp1'], ['dfs3', 'dfp3'], ['dfs2', 'dfp2']]\n"
     ]
    }
   ],
   "source": [
    "'''Codigo que me permite ordenar según numero del string en el key de dfs'''\n",
    "import re\n",
    "dfs1='dfs1'\n",
    "dfs2='dfs2'\n",
    "dfs3='dfs3'\n",
    "dfp1='dfp1'\n",
    "dfp2='dfp2'\n",
    "dfp3='dfp3'\n",
    "\n",
    "dfs={'tb_processes1':dfp1,'tb_processes3':dfp3,'tb_states2':dfs2,'tb_states1':dfs1,'tb_states2':dfs2,'tb_states3':dfs3,'tb_processes2':dfp2}\n",
    "ordered=[]\n",
    "\n",
    "'''Voy a organizar las tablas para poder relacionar pares de tablas, una tabla de estados y la otra de los procesos entre esos estados'''\n",
    "'''[[tb_states1,tb_processes1],[tb_states2,tb_processes2],...,[tb_statesn,tb_processesn]]'''\n",
    "'''Los nombres de las pares de tablas que se relacionan deben terminar en un mismo número. Para esto extraigo caracteres numericos del nombre'''\n",
    "for x,y in zip(dfs.keys(),dfs.values()):\n",
    "    i=re.findall(r'\\d',x)[0] # este metodo me retorna una lista de strings con los números del string original x, y me paro en el indice 0 para obtener el primer string(número). En este caso particular, retorna una lista de un solo elemento)\n",
    "    for u,w in zip(dfs.keys(),dfs.values()):\n",
    "        j=re.findall(r'\\d',u)[0]\n",
    "        if j==i and x!=u: # si los nombres tienen el mismo número de terminación pero no son iguales (dfs1 != dfs1).\n",
    "            # Para poner primero tabla de estados, luego tabla de procesos.\n",
    "            if x.find('states') != -1: # si x es el nombre de la tabla de estados.\n",
    "                ordered.append([y,w])\n",
    "            else: # sino x es el nombre de la tabla de procesos.\n",
    "                ordered.append([w,y])\n",
    "            break # no se va a encontrar un tercer nombre con igual número de terminación. No siga buscando/iterando.\n",
    "print(ordered)"
   ]
  },
  {
   "cell_type": "code",
   "execution_count": 56,
   "id": "e33388f4",
   "metadata": {},
   "outputs": [
    {
     "data": {
      "text/plain": [
       "'0'"
      ]
     },
     "execution_count": 56,
     "metadata": {},
     "output_type": "execute_result"
    }
   ],
   "source": [
    "\n",
    "re.findall(r'\\d+',\"tb_st0.2ates123\")[0]"
   ]
  },
  {
   "cell_type": "code",
   "execution_count": 62,
   "id": "f3bb10c7",
   "metadata": {},
   "outputs": [
    {
     "name": "stdout",
     "output_type": "stream",
     "text": [
      "0\n",
      "1\n",
      "2\n"
     ]
    }
   ],
   "source": [
    "for i in range(10):\n",
    "    if i == 3:\n",
    "        break\n",
    "    print(i)"
   ]
  },
  {
   "cell_type": "code",
   "execution_count": 82,
   "id": "b8505d50",
   "metadata": {},
   "outputs": [
    {
     "data": {
      "text/html": [
       "<div>\n",
       "<style scoped>\n",
       "    .dataframe tbody tr th:only-of-type {\n",
       "        vertical-align: middle;\n",
       "    }\n",
       "\n",
       "    .dataframe tbody tr th {\n",
       "        vertical-align: top;\n",
       "    }\n",
       "\n",
       "    .dataframe thead th {\n",
       "        text-align: right;\n",
       "    }\n",
       "</style>\n",
       "<table border=\"1\" class=\"dataframe\">\n",
       "  <thead>\n",
       "    <tr style=\"text-align: right;\">\n",
       "      <th></th>\n",
       "      <th>names</th>\n",
       "      <th>A1</th>\n",
       "      <th>A2</th>\n",
       "      <th>A3</th>\n",
       "      <th>B2</th>\n",
       "      <th>A4</th>\n",
       "      <th>B3</th>\n",
       "    </tr>\n",
       "  </thead>\n",
       "  <tbody>\n",
       "    <tr>\n",
       "      <th>0</th>\n",
       "      <td>a</td>\n",
       "      <td>1</td>\n",
       "      <td>32</td>\n",
       "      <td>1</td>\n",
       "      <td>9</td>\n",
       "      <td>6</td>\n",
       "      <td>2</td>\n",
       "    </tr>\n",
       "    <tr>\n",
       "      <th>1</th>\n",
       "      <td>r</td>\n",
       "      <td>5</td>\n",
       "      <td>7</td>\n",
       "      <td>3</td>\n",
       "      <td>4</td>\n",
       "      <td>5</td>\n",
       "      <td>8</td>\n",
       "    </tr>\n",
       "    <tr>\n",
       "      <th>2</th>\n",
       "      <td>h</td>\n",
       "      <td>79</td>\n",
       "      <td>9</td>\n",
       "      <td>7</td>\n",
       "      <td>6</td>\n",
       "      <td>7</td>\n",
       "      <td>9</td>\n",
       "    </tr>\n",
       "    <tr>\n",
       "      <th>3</th>\n",
       "      <td>m</td>\n",
       "      <td>44</td>\n",
       "      <td>0</td>\n",
       "      <td>9</td>\n",
       "      <td>3</td>\n",
       "      <td>8</td>\n",
       "      <td>5</td>\n",
       "    </tr>\n",
       "    <tr>\n",
       "      <th>4</th>\n",
       "      <td>l</td>\n",
       "      <td>68</td>\n",
       "      <td>32</td>\n",
       "      <td>5</td>\n",
       "      <td>4</td>\n",
       "      <td>9</td>\n",
       "      <td>87</td>\n",
       "    </tr>\n",
       "    <tr>\n",
       "      <th>5</th>\n",
       "      <td>y</td>\n",
       "      <td>5</td>\n",
       "      <td>5</td>\n",
       "      <td>7</td>\n",
       "      <td>3</td>\n",
       "      <td>2</td>\n",
       "      <td>4</td>\n",
       "    </tr>\n",
       "    <tr>\n",
       "      <th>6</th>\n",
       "      <td>r</td>\n",
       "      <td>7</td>\n",
       "      <td>7</td>\n",
       "      <td>7</td>\n",
       "      <td>7</td>\n",
       "      <td>3</td>\n",
       "      <td>2</td>\n",
       "    </tr>\n",
       "    <tr>\n",
       "      <th>7</th>\n",
       "      <td>q</td>\n",
       "      <td>47</td>\n",
       "      <td>9</td>\n",
       "      <td>0</td>\n",
       "      <td>9</td>\n",
       "      <td>8</td>\n",
       "      <td>4</td>\n",
       "    </tr>\n",
       "    <tr>\n",
       "      <th>8</th>\n",
       "      <td>a</td>\n",
       "      <td>4</td>\n",
       "      <td>47</td>\n",
       "      <td>9</td>\n",
       "      <td>1</td>\n",
       "      <td>9</td>\n",
       "      <td>6</td>\n",
       "    </tr>\n",
       "    <tr>\n",
       "      <th>9</th>\n",
       "      <td>q</td>\n",
       "      <td>7</td>\n",
       "      <td>8563</td>\n",
       "      <td>2</td>\n",
       "      <td>1</td>\n",
       "      <td>9</td>\n",
       "      <td>84</td>\n",
       "    </tr>\n",
       "    <tr>\n",
       "      <th>10</th>\n",
       "      <td>a</td>\n",
       "      <td>468</td>\n",
       "      <td>27</td>\n",
       "      <td>1</td>\n",
       "      <td>2</td>\n",
       "      <td>6</td>\n",
       "      <td>2</td>\n",
       "    </tr>\n",
       "    <tr>\n",
       "      <th>11</th>\n",
       "      <td>a</td>\n",
       "      <td>0</td>\n",
       "      <td>57</td>\n",
       "      <td>0</td>\n",
       "      <td>9</td>\n",
       "      <td>4</td>\n",
       "      <td>1</td>\n",
       "    </tr>\n",
       "    <tr>\n",
       "      <th>12</th>\n",
       "      <td>m</td>\n",
       "      <td>85</td>\n",
       "      <td>73</td>\n",
       "      <td>3</td>\n",
       "      <td>0</td>\n",
       "      <td>4</td>\n",
       "      <td>57</td>\n",
       "    </tr>\n",
       "    <tr>\n",
       "      <th>13</th>\n",
       "      <td>kl</td>\n",
       "      <td>43</td>\n",
       "      <td>2</td>\n",
       "      <td>0</td>\n",
       "      <td>7</td>\n",
       "      <td>6</td>\n",
       "      <td>8</td>\n",
       "    </tr>\n",
       "    <tr>\n",
       "      <th>14</th>\n",
       "      <td>i</td>\n",
       "      <td>5</td>\n",
       "      <td>3</td>\n",
       "      <td>0</td>\n",
       "      <td>4</td>\n",
       "      <td>79</td>\n",
       "      <td>42</td>\n",
       "    </tr>\n",
       "    <tr>\n",
       "      <th>15</th>\n",
       "      <td>y</td>\n",
       "      <td>77</td>\n",
       "      <td>6</td>\n",
       "      <td>9</td>\n",
       "      <td>0</td>\n",
       "      <td>9</td>\n",
       "      <td>2</td>\n",
       "    </tr>\n",
       "    <tr>\n",
       "      <th>16</th>\n",
       "      <td>h</td>\n",
       "      <td>4</td>\n",
       "      <td>3</td>\n",
       "      <td>2</td>\n",
       "      <td>0</td>\n",
       "      <td>3</td>\n",
       "      <td>67</td>\n",
       "    </tr>\n",
       "    <tr>\n",
       "      <th>17</th>\n",
       "      <td>a</td>\n",
       "      <td>634</td>\n",
       "      <td>5</td>\n",
       "      <td>3</td>\n",
       "      <td>5</td>\n",
       "      <td>1</td>\n",
       "      <td>4</td>\n",
       "    </tr>\n",
       "    <tr>\n",
       "      <th>18</th>\n",
       "      <td>r</td>\n",
       "      <td>2</td>\n",
       "      <td>7</td>\n",
       "      <td>41</td>\n",
       "      <td>3</td>\n",
       "      <td>8</td>\n",
       "      <td>7</td>\n",
       "    </tr>\n",
       "    <tr>\n",
       "      <th>19</th>\n",
       "      <td>x</td>\n",
       "      <td>3</td>\n",
       "      <td>10</td>\n",
       "      <td>3</td>\n",
       "      <td>58</td>\n",
       "      <td>2</td>\n",
       "      <td>8</td>\n",
       "    </tr>\n",
       "  </tbody>\n",
       "</table>\n",
       "</div>"
      ],
      "text/plain": [
       "   names   A1    A2  A3  B2  A4  B3\n",
       "0      a    1    32   1   9   6   2\n",
       "1      r    5     7   3   4   5   8\n",
       "2      h   79     9   7   6   7   9\n",
       "3      m   44     0   9   3   8   5\n",
       "4      l   68    32   5   4   9  87\n",
       "5      y    5     5   7   3   2   4\n",
       "6      r    7     7   7   7   3   2\n",
       "7      q   47     9   0   9   8   4\n",
       "8      a    4    47   9   1   9   6\n",
       "9      q    7  8563   2   1   9  84\n",
       "10     a  468    27   1   2   6   2\n",
       "11     a    0    57   0   9   4   1\n",
       "12     m   85    73   3   0   4  57\n",
       "13    kl   43     2   0   7   6   8\n",
       "14     i    5     3   0   4  79  42\n",
       "15     y   77     6   9   0   9   2\n",
       "16     h    4     3   2   0   3  67\n",
       "17     a  634     5   3   5   1   4\n",
       "18     r    2     7  41   3   8   7\n",
       "19     x    3    10   3  58   2   8"
      ]
     },
     "metadata": {},
     "output_type": "display_data"
    },
    {
     "name": "stdout",
     "output_type": "stream",
     "text": [
      "a\n",
      "r\n",
      "h\n",
      "m\n",
      "l\n",
      "y\n",
      "r\n",
      "q\n",
      "a\n",
      "q\n",
      "a\n",
      "a\n",
      "m\n",
      "kl\n",
      "i\n",
      "y\n",
      "h\n",
      "a\n",
      "r\n",
      "x\n",
      "siguiente columna\n",
      "1\n",
      "5\n",
      "79\n",
      "44\n",
      "68\n",
      "5\n",
      "7\n",
      "47\n",
      "4\n",
      "7\n",
      "468\n",
      "0\n",
      "85\n",
      "43\n",
      "5\n",
      "77\n",
      "4\n",
      "634\n",
      "2\n",
      "3\n",
      "siguiente columna\n",
      "32\n",
      "7\n",
      "9\n",
      "0\n",
      "32\n",
      "5\n",
      "7\n",
      "9\n",
      "47\n",
      "8563\n",
      "27\n",
      "57\n",
      "73\n",
      "2\n",
      "3\n",
      "6\n",
      "3\n",
      "5\n",
      "7\n",
      "10\n",
      "siguiente columna\n",
      "1\n",
      "3\n",
      "7\n",
      "9\n",
      "5\n",
      "7\n",
      "7\n",
      "0\n",
      "9\n",
      "2\n",
      "1\n",
      "0\n",
      "3\n",
      "0\n",
      "0\n",
      "9\n",
      "2\n",
      "3\n",
      "41\n",
      "3\n",
      "siguiente columna\n",
      "9\n",
      "4\n",
      "6\n",
      "3\n",
      "4\n",
      "3\n",
      "7\n",
      "9\n",
      "1\n",
      "1\n",
      "2\n",
      "9\n",
      "0\n",
      "7\n",
      "4\n",
      "0\n",
      "0\n",
      "5\n",
      "3\n",
      "58\n",
      "siguiente columna\n",
      "6\n",
      "5\n",
      "7\n",
      "8\n",
      "9\n",
      "2\n",
      "3\n",
      "8\n",
      "9\n",
      "9\n",
      "6\n",
      "4\n",
      "4\n",
      "6\n",
      "79\n",
      "9\n",
      "3\n",
      "1\n",
      "8\n",
      "2\n",
      "siguiente columna\n",
      "2\n",
      "8\n",
      "9\n",
      "5\n",
      "87\n",
      "4\n",
      "2\n",
      "4\n",
      "6\n",
      "84\n",
      "2\n",
      "1\n",
      "57\n",
      "8\n",
      "42\n",
      "2\n",
      "67\n",
      "4\n",
      "7\n",
      "8\n",
      "siguiente columna\n"
     ]
    }
   ],
   "source": [
    "import pandas as pd\n",
    "import xlrd\n",
    "\n",
    "df=pd.read_excel('tb_states77.xlsx')\n",
    "display(df)\n",
    "#print(df.columns.values[1])\n",
    "\n",
    "for i in df.columns.values: # itero en los nombres de las columnas (e.g. i='P')\n",
    "    col=df[i].tolist() # columna\n",
    "    n=len()\n",
    "    for j in range(n):\n",
    "        print(j)\n",
    "    print(\"siguiente columna\")\n",
    "    "
   ]
  },
  {
   "cell_type": "code",
   "execution_count": 89,
   "id": "4420f7c1",
   "metadata": {},
   "outputs": [
    {
     "name": "stdout",
     "output_type": "stream",
     "text": [
      "3,13\n"
     ]
    }
   ],
   "source": [
    "n,m=0,10\n",
    "for i in range(3):\n",
    "    n+=i\n",
    "    m+=i\n",
    "print(f\"{n},{m}\")"
   ]
  },
  {
   "cell_type": "code",
   "execution_count": 90,
   "id": "ef5e913c",
   "metadata": {},
   "outputs": [
    {
     "data": {
      "text/plain": [
       "2.718281828459045"
      ]
     },
     "execution_count": 90,
     "metadata": {},
     "output_type": "execute_result"
    }
   ],
   "source": [
    "import math\n",
    "math.e"
   ]
  },
  {
   "cell_type": "code",
   "execution_count": 96,
   "id": "15b52d59",
   "metadata": {},
   "outputs": [
    {
     "name": "stdout",
     "output_type": "stream",
     "text": [
      "...\n",
      "dfs2\n",
      "...\n",
      "['dfs2', 'dfs1', 'dfs3']\n",
      "...\n",
      "Usando filter (menos eficiente.)\n",
      "['dfs2', 'dfs1', 'dfs3']\n",
      "3\n"
     ]
    },
    {
     "data": {
      "text/plain": [
       "[['dfs1', 'dfp1'], ['dfs3', 'dfp3'], ['dfs2', 'dfp2']]"
      ]
     },
     "execution_count": 96,
     "metadata": {},
     "output_type": "execute_result"
    }
   ],
   "source": [
    "'''Codigo que me permite ordenar según numero del string en el key de dfs'''\n",
    "import re\n",
    "dfs1='dfs1'\n",
    "dfs2='dfs2'\n",
    "dfs3='dfs3'\n",
    "dfp1='dfp1'\n",
    "dfp2='dfp2'\n",
    "dfp3='dfp3'\n",
    "\n",
    "dfs={'tb_processes1':dfp1,'tb_processes3':dfp3,'tb_states2':dfs2,'tb_states1':dfs1,'tb_states2':dfs2,'tb_states3':dfs3,'tb_processes2':dfp2}\n",
    "ordered=[]\n",
    "dfs.keys()\n",
    "print(\"...\")\n",
    "print(dfs['tb_states2'])\n",
    "print(\"...\")\n",
    "\n",
    "list_states_tbs=[dfs[i] for i in dfs.keys() if i.find('states') != -1]\n",
    "print(list_states_tbs)\n",
    "print(\"...\")\n",
    "\n",
    "print(\"Usando filter (menos eficiente.)\")\n",
    "list_states_tbs2=[dfs[j] for j in list(filter(lambda i: i.find('states') != -1, list(dfs.keys())))]\n",
    "print(list(list_states_tbs2))\n",
    "\n",
    "'''Voy a organizar las tablas para poder relacionar pares de tablas, una tabla de estados y la otra de los procesos entre esos estados'''\n",
    "'''[[tb_states1,tb_processes1],[tb_states2,tb_processes2],...,[tb_statesn,tb_processesn]]'''\n",
    "'''Los nombres de las pares de tablas que se relacionan deben terminar en un mismo número. Para esto extraigo caracteres numericos del nombre'''\n",
    "for x,y in zip(dfs.keys(),dfs.values()):\n",
    "    i=re.findall(r'\\d',x)[0] # este metodo me retorna una lista de strings con los números del string original x, y me paro en el indice 0 para obtener el primer string(número). En este caso particular, retorna una lista de un solo elemento)\n",
    "    for u,w in zip(dfs.keys(),dfs.values()):\n",
    "        j=re.findall(r'\\d',u)[0]\n",
    "        if j==i and x!=u: # si los nombres tienen el mismo número de terminación pero no son iguales (dfs1 != dfs1).\n",
    "            # Para poner primero tabla de estados, luego tabla de procesos.\n",
    "            if x.find('states') != -1: # si x es el nombre de la tabla de estados.\n",
    "                ordered.append([y,w])\n",
    "            else: # sino x es el nombre de la tabla de procesos.\n",
    "                ordered.append([w,y])\n",
    "            break # no se va a encontrar un tercer nombre con igual número de terminación. No siga buscando/iterando.\n",
    "\n",
    "n=int(len(ordered)/2)\n",
    "print(n)\n",
    "ordered=ordered[:n]\n",
    "ordered\n",
    "\n",
    "# list.remove(element)"
   ]
  },
  {
   "cell_type": "code",
   "execution_count": 73,
   "id": "cd564966",
   "metadata": {},
   "outputs": [
    {
     "name": "stdout",
     "output_type": "stream",
     "text": [
      "[-0.2, 0.0, 0.004]\n",
      "[0, 2, 4, 6, 8, 10] [1, 3, 5, 7, 9, -11]\n"
     ]
    }
   ],
   "source": [
    "try:\n",
    "    print(list(map(lambda x,y,z:(x+y)/z,[1,2,3],[-3,-2,1],[10,100,1000])))\n",
    "except ZeroDivisionError:\n",
    "    print(\"Dividiendo por cero!\")\n",
    "##############################\n",
    "func1D=lambda x:x**2\n",
    "\n",
    "list(map(func1D,[1,2,3,4,5]))\n",
    "\n",
    "eval('5**2/3')\n",
    "\n",
    "#g=lamda x: eval('x**2-1/x')\n",
    "############################\n",
    "lista=[0,1,2,3,4,5,6,7,8,9,10,-11]\n",
    "even=filter(lambda x: x % 2 == 0, lista)\n",
    "odd=filter(lambda x: x % 2 != 0, lista)\n",
    "print(list(even), list(odd))"
   ]
  },
  {
   "cell_type": "code",
   "execution_count": 77,
   "id": "0b425f8b",
   "metadata": {},
   "outputs": [
    {
     "data": {
      "text/plain": [
       "[2, 4, 6]"
      ]
     },
     "execution_count": 77,
     "metadata": {},
     "output_type": "execute_result"
    }
   ],
   "source": [
    "[i for i in [1,2,3,4,5,6] if i%2==0]"
   ]
  },
  {
   "cell_type": "code",
   "execution_count": 93,
   "id": "a0ba6e8c",
   "metadata": {},
   "outputs": [
    {
     "data": {
      "text/plain": [
       "['tb_processes1',\n",
       " 'tb_processes3',\n",
       " 'tb_states2',\n",
       " 'tb_states1',\n",
       " 'tb_states3',\n",
       " 'tb_processes2']"
      ]
     },
     "execution_count": 93,
     "metadata": {},
     "output_type": "execute_result"
    }
   ],
   "source": [
    "dfs={'tb_processes1':dfp1,'tb_processes3':dfp3,'tb_states2':dfs2,'tb_states1':dfs1,'tb_states2':dfs2,'tb_states3':dfs3,'tb_processes2':dfp2}\n",
    "list(dfs.keys())"
   ]
  },
  {
   "cell_type": "code",
   "execution_count": 110,
   "id": "33a03ce2",
   "metadata": {},
   "outputs": [
    {
     "name": "stdout",
     "output_type": "stream",
     "text": [
      "[[1  2  3  4]\n",
      " [5  6  7  8]\n",
      " [9  10  11  12]\n",
      " [13  14  15  16]\n",
      " [17  18  19  20]\n",
      " [21  22  23  24]]\n",
      "[[ 1  2  3  4]\n",
      " [ 5  6  7  8]\n",
      " [ 9 10 11 12]\n",
      " [13 14 15 16]\n",
      " [17 18 19 20]\n",
      " [21 22 23 24]]\n",
      "[[1, 5, 9, 13, 17, 21], [2, 6, 10, 14, 18, 22], [3, 7, 11, 15, 19, 23], [4, 8, 12, 16, 20, 24]]\n",
      "Matriz convertida a cuadrada:\n",
      "[[1  2  3  4  64  44]\n",
      " [5  6  7  8  32  58]\n",
      " [9  10  11  12  29  3]\n",
      " [13  14  15  16  82  10]\n",
      " [17  18  19  20  39  56]\n",
      " [21  22  23  24  60  10]]\n",
      "[[1, 5, 9, 13, 17, 21], [2, 6, 10, 14, 18, 22], [3, 7, 11, 15, 19, 23], [4, 8, 12, 16, 20, 24], [64, 32, 29, 82, 39, 60], [44, 58, 3, 10, 56, 10]]\n",
      "Matriz cuadrada transpuesta:\n",
      "[[1  5  9  13  17  21]\n",
      " [2  6  10  14  18  22]\n",
      " [3  7  11  15  19  23]\n",
      " [4  8  12  16  20  24]\n",
      " [64  32  29  82  39  60]\n",
      " [44  58  3  10  56  10]]\n",
      "Determinante:\n",
      "2.171718294855366e-25\n",
      "Matriz inversa:\n",
      "[[-350409752407485.75  131599965137348.7  65370558852488.71  448956360647574.25  131624503635417.42  -427141635865343.8]\n",
      " [472218856815802.0  155692680490202.4  -274798460361389.3  -803079605762645.5  -553310413430363.0  1003276942248393.0]\n",
      " [106791543590853.06  -706185256392452.4  353485244165311.44  259290129582569.0  711747315954475.5  -725128976900756.0]\n",
      " [-228600647999169.34  418892610764901.2  -144057342656410.8  94833115532502.19  -290061406159529.8  148993670517706.66]\n",
      " [0.011485735457576883  -0.012226750648388279  -0.012226750648388279  0.012875138940348262  0.002408299370137069  -0.002315672471285647]\n",
      " [0.0017435651548503852  -0.006916141780906482  -0.006916141780906482  0.006540185544391867  0.026614795603309833  -0.021066262740739097]]\n",
      "Autovalores y autovectores:\n",
      "([(143.9216718980341+0j), (-30.53770702235051+9.83804805179555j), (-30.53770702235051-9.83804805179555j), (0.15374214666698663+0j), (-1.0449587402575388e-13+0j), (-5.23314378375321e-15+0j)], [[(-0.3878057937391233+0j), (-0.24331986355733035-0.38976679550426874j), (-0.24331986355733035+0.38976679550426874j), (-0.4190678233585099+0j), (-0.3404360081234366+0j), (0.11108957261137783+0j)], [(-0.3616021982137513+0j), (0.29854738298880207-0.27174228262602435j), (0.29854738298880207+0.27174228262602435j), (0.13887910115436872+0j), (0.13410281928813858+0j), (-0.5478826287055573+0j)], [(-0.21404111769319478+0j), (-0.11855562426517102+0.11320102304898666j), (-0.11855562426517102-0.11320102304898666j), (0.7588512231192259+0j), (0.7531023857941822+0j), (0.7624965395769843+0j)], [(-0.4594880687390654+0j), (-0.5881456701340466+0j), (-0.5881456701340466-0j), (-0.47877526503879064+0j), (-0.5467691969588842+0j), (-0.3257034834828055+0j)], [(-0.4980419396942326+0j), (0.3711751437691225-0.01347380660843095j), (0.3711751437691225+0.01347380660843095j), (-0.0033759391849905074+0j), (2.474765917522997e-15+0j), (3.473378433983108e-16+0j)], [(-0.4624520056373957+0j), (-0.23035816775261345+0.24919917302421235j), (-0.23035816775261345-0.24919917302421235j), (-0.0015570742517166663+0j), (9.940890699683926e-16+0j), (-4.2176738126937736e-16+0j)]])\n",
      "La solución del sistema Ax=b, donde\n",
      "b = [[-80.34075414828878], [-59.60804468427252], [-35.36303378079313], [-85.99349816648234], [89.17877165774183], [3.6726538964930313]]\n",
      "A = [[1, 2, 3, 4, 64, 44], [5, 6, 7, 8, 32, 58], [9, 10, 11, 12, 29, 3], [13, 14, 15, 16, 82, 10], [17, 18, 19, 20, 39, 56], [21, 22, 23, 24, 60, 10]]\n",
      "es\n",
      "x = [[-1.0441893929219664e+16], [-1.410047753688618e+16], [5.952663686143153e+16], [-3.498426539532568e+16], [-0.6624986741803677], [2.250446358568231]]\n",
      "\n"
     ]
    }
   ],
   "source": [
    "import numpy as np\n",
    "import random \n",
    "#from numpy.linalg import eig, LinAlgError\n",
    "import pandas as pd\n",
    "\n",
    "def convert_to_string(function_to_decorate):\n",
    "    def wrapper(ref):\n",
    "        func=function_to_decorate(ref)\n",
    "        return str(func)\n",
    "    return wrapper\n",
    "def get_matrix_form(function_to_decorate):\n",
    "    def wrapper(ref):\n",
    "        func=function_to_decorate(ref)\n",
    "        return func.replace('],',']\\n')\n",
    "    return wrapper\n",
    "def replace_comma(function_to_decorate):\n",
    "    def wrapper(ref):\n",
    "        func=function_to_decorate(ref)\n",
    "        return func.replace(',',' ')\n",
    "    return wrapper\n",
    "\n",
    "class Matrix:\n",
    "    def __init__(self,listdf):\n",
    "        self.M=listdf\n",
    "        self.shape=self.__get_shape__(listdf)\n",
    "        pass\n",
    "    @replace_comma\n",
    "    @get_matrix_form\n",
    "    @convert_to_string\n",
    "    def __str__(self):\n",
    "        return self.M \n",
    "    def __get_shape__(self,L):\n",
    "        return [len(L),len(L[0])] # [m,n]\n",
    "    def __sum__(self,otra):\n",
    "        return [list(map(lambda x,y:x+y,self.M[k],otra[k])) for k in range(self.shape[0])]\n",
    "    def __transpose__(self):\n",
    "        T=[]\n",
    "        for j in range(self.shape[1]): T+=[[self.M[i][j] for i in range(self.shape[0])]]\n",
    "        return T\n",
    "\n",
    "'''subclase de mi superclase Matrix'''\n",
    "class SquaredMatrix(Matrix):\n",
    "    def __init__(self,Mx):\n",
    "        m,n=len(Mx),len(Mx[0])\n",
    "        '''super() gives you access to attributes and methods in a superclass from the subclass that inherits from it'''\n",
    "        if m==n: # si es cuadrada...\n",
    "            super().__init__(Mx)\n",
    "        else:\n",
    "            super().__init__(convert_to_squared(Mx,m,n,m-n)) # sino convertir a cuadrada.\n",
    "    def __determinant__(self):\n",
    "        return np.linalg.det(np.array(self.M))\n",
    "    def __inverse__(self):\n",
    "        try:\n",
    "            return np.linalg.inv(np.array(self.M)).tolist()\n",
    "        except LinAlgError:\n",
    "            print(\"Singular matrix. La matrix no tiene inversa.\")\n",
    "            return [[]]\n",
    "    def __eigen__(self):\n",
    "        eigenval,eigenvec=np.linalg.eig(np.array(self.M))\n",
    "        return eigenval.tolist(),eigenvec.tolist()\n",
    "    def __solve__(self,b): # resuelve el sistema Ax=b\n",
    "        x=np.linalg.solve(np.array(self.M),np.array(b))\n",
    "        return x.tolist()\n",
    "    \n",
    "def convert_to_squared(M,m,n,l=None):\n",
    "    '''np.random.randint(arg1,arg2,[m,n]) me da un objeto de tipo 'numpy.ndarray'. Si lo convierto a lista,\n",
    "    obtengo una lista de m-filas por n-columnas con valores aleatorios en el intervalo entre arg1 y arg2.\n",
    "    '''\n",
    "    if l!=None:         \n",
    "        return [M[j]+np.random.randint(0.01,100,[1,l])[0].tolist() for j in range(m)] # agrego l columnas aleatorias.\n",
    "    else:\n",
    "        \n",
    "        return M+[np.random.randint(0.01,100,[1,n]).tolist()[0] for j in range(n-m)] # agrego una fila aleatoria.\n",
    "\n",
    "dict={'P':[1,2,3,4,5],'V':[10,20,30,40,50],'T':[100,200,300,400,500]}\n",
    "\n",
    "df=pd.DataFrame(dict)\n",
    "listdf = df.values.tolist()\n",
    "'''\n",
    "display( df )\n",
    "print( listdf )\n",
    "colP = df['P'].values.tolist()\n",
    "print( colP )\n",
    "matrix = np.array( listdf )\n",
    "print( matrix )\n",
    "print( matrix[0] )\n",
    "print( matrix[0][1])\n",
    "'''\n",
    "obj=Matrix([[1,2,3,4],[5,6,7,8],[9,10,11,12],[13,14,15,16],[17,18,19,20],[21,22,23,24]])\n",
    "print(obj) # usando el método especial __str__()\n",
    "print(np.array(obj.M)) \n",
    "M=obj.M\n",
    "m=obj.shape[0]\n",
    "n=obj.shape[1]\n",
    "print(obj.__transpose__())\n",
    "\n",
    "obj2=SquaredMatrix(M)\n",
    "print(\"Matriz convertida a cuadrada:\")\n",
    "print(obj2)\n",
    "if m < n: \n",
    "    obj2=SquaredMatrix(M) # agrego una fila con valores aleatorios.\n",
    "    print(\"Matriz convertida a cuadrada:\")\n",
    "    print(obj2) # usando el método especial __str__()\n",
    "    pass \n",
    "elif m > n: \n",
    "    obj2=SquaredMatrix(M) # # agrego m-n columnas con valores aleatorios.\n",
    "    print(\"Matriz convertida a cuadrada:\")\n",
    "    print(obj2) # usando el método especial __str__()\n",
    "elif m==n: \n",
    "    print(\"La matriz ya es cuadrada!\")\n",
    "    print(obj)\n",
    "    \n",
    "print(obj2.__transpose__())\n",
    "print(\"Matriz cuadrada transpuesta:\")\n",
    "obj2_T=SquaredMatrix(obj2.__transpose__())\n",
    "print(obj2_T)\n",
    "print(\"Determinante:\")\n",
    "print(obj2.__determinant__())\n",
    "print(\"Matriz inversa:\")\n",
    "obj2_I=Matrix(obj2.__inverse__())\n",
    "print(obj2_I)\n",
    "print(\"Autovalores y autovectores:\")\n",
    "print(obj2.__eigen__())\n",
    "b=[[random.uniform(-100, 100)] for i in range(m)]\n",
    "print(f\"La solución del sistema Ax=b, donde\\nb = {b}\\nA = {obj2.M}\\nes\")\n",
    "print(f\"x = {obj2.__solve__(b)}\")\n",
    "print()\n",
    "#print(np.array(obj2.M)) \n",
    "    \n",
    "\n"
   ]
  },
  {
   "cell_type": "code",
   "execution_count": 125,
   "id": "0da1c003",
   "metadata": {},
   "outputs": [
    {
     "name": "stdout",
     "output_type": "stream",
     "text": [
      "[[4, 4, 4], [14, 35, 26]]\n",
      "...\n",
      "[4, 4, 4]\n",
      "...\n",
      "<class 'map'>\n",
      "[1, 4, 2, 5]\n",
      "[[1], [4], [2], [5]]\n",
      "[[1, 4], [2, 5], [3, 6]]\n"
     ]
    }
   ],
   "source": [
    "M1=[[1,2,3],[4,5,6]]\n",
    "M2=[[3,2,1],[10,30,20]]\n",
    "print([list(map(lambda x,y:x+y,M1[k],M2[k])) for k in range(len(M1))])\n",
    "print(\"...\")\n",
    "print(list(map(lambda x,y:x+y,M1[0],M2[0])))\n",
    "print(\"...\")\n",
    "print(type(map(lambda x,y:x+y,M1[0],M2[0])))\n",
    "j=0\n",
    "[M1[i][j] for i in range(len(M1))]\n",
    "\n",
    "T=[]\n",
    "for j in range(len(M1)):\n",
    "    T+=[M1[i][j] for i in range(len(M1))]\n",
    "print(T)\n",
    "\n",
    "T=[]\n",
    "for j in range(len(M1)):\n",
    "    T+=[[M1[i][j]] for i in range(len(M1))]\n",
    "print(T)\n",
    "\n",
    "T=[]\n",
    "for j in range(len(M1[0])): T+=[[M1[i][j] for i in range(len(M1))]]\n",
    "print(T)"
   ]
  },
  {
   "cell_type": "code",
   "execution_count": null,
   "id": "2bb191e1",
   "metadata": {},
   "outputs": [],
   "source": [
    "def f(A,l=None):\n",
    "    if l:\n",
    "        print(\"llena l columnas.\")\n",
    "    else:\n",
    "        print(\"llena una fila.\")\n",
    "f(5,1)"
   ]
  },
  {
   "cell_type": "code",
   "execution_count": 244,
   "id": "a4e01ab0",
   "metadata": {},
   "outputs": [
    {
     "name": "stdout",
     "output_type": "stream",
     "text": [
      "[23, 43, 47, 87, 90, 4, 11]\n"
     ]
    },
    {
     "data": {
      "text/plain": [
       "[53, 48, 18, 45, 78, 33, 29, 40, 76, 67]"
      ]
     },
     "execution_count": 244,
     "metadata": {},
     "output_type": "execute_result"
    }
   ],
   "source": [
    "import numpy as np\n",
    "import random \n",
    "from numpy.linalg import eig, LinAlgError\n",
    "import pandas as pd\n",
    "\n",
    "M=np.random.randint(0.01,100,[1,7])[0].tolist()\n",
    "M+[np.random.randint(0.01,100,[1,n]).tolist() for j in range(n-m)]\n",
    "print(M)\n",
    "np.random.randint(0.01,100,[1,10]).tolist()[0]"
   ]
  },
  {
   "cell_type": "code",
   "execution_count": 90,
   "id": "e74d654b",
   "metadata": {},
   "outputs": [
    {
     "name": "stdout",
     "output_type": "stream",
     "text": [
      "[[1  2  3]\n",
      " [4  5  6]\n",
      " [7  8  9]\n",
      " [10  11  12]]\n"
     ]
    }
   ],
   "source": [
    "def convert_to_string(function_to_decorate):\n",
    "    def wrapper(ref):\n",
    "        func=function_to_decorate(ref)\n",
    "        return str(func)\n",
    "    return wrapper\n",
    "def get_matrix_form(function_to_decorate):\n",
    "    def wrapper(sel):\n",
    "        func=function_to_decorate(sel)\n",
    "        return func.replace('],',']\\n')\n",
    "    return wrapper\n",
    "def replace_comma(function_to_decorate):\n",
    "    def wrapper(self):\n",
    "        func=function_to_decorate(self)\n",
    "        return func.replace(',',' ')\n",
    "    return wrapper\n",
    "\n",
    "class tre(object):\n",
    "    def __init__(self,M):\n",
    "        self.M=M\n",
    "        pass\n",
    "    @replace_comma\n",
    "    @get_matrix_form\n",
    "    @convert_to_string\n",
    "    def __str__(self):\n",
    "        return self.M\n",
    "    \n",
    "obj=tre([[1,2,3],[4,5,6],[7,8,9],[10,11,12]])\n",
    "print(obj)\n",
    "\n",
    "# el tipo de dato de una función se define como el tipo de dato de lo que retorna."
   ]
  },
  {
   "cell_type": "markdown",
   "id": "b97d196a",
   "metadata": {},
   "source": [
    "## Class Decorators: Using Decorators with methods defined in a Class"
   ]
  },
  {
   "cell_type": "code",
   "execution_count": 321,
   "id": "4884ebd4",
   "metadata": {},
   "outputs": [
    {
     "name": "stdout",
     "output_type": "stream",
     "text": [
      "2\n"
     ]
    }
   ],
   "source": [
    "def integer_check(method):\n",
    "    def inner(ref):\n",
    "        if not isinstance(ref._val1, int) or not isinstance(ref._val2, int):\n",
    "            raise TypeError('val1 and val2 must be integers')\n",
    "        else:\n",
    "            return method(ref)\n",
    "    return inner\n",
    "\n",
    "\n",
    "class NumericalOps(object):\n",
    "    def __init__(self, val1, val2):\n",
    "        self._val1 = val1\n",
    "        self._val2 = val2\n",
    "\n",
    "    @integer_check\n",
    "    def multiply_together(self):\n",
    "        return self._val1 * self._val2\n",
    "\n",
    "    #def power(self, exponent):\n",
    "     #   return self.multiply_together() ** exponent\n",
    "\n",
    "# x = NumericalOps(2, 'my_string')\n",
    "\n",
    "# print(x.multiply_together())\n",
    "\n",
    "y = NumericalOps(1, 2)\n",
    "\n",
    "print(y.multiply_together())\n",
    "#print(y.power(3))"
   ]
  },
  {
   "cell_type": "code",
   "execution_count": 338,
   "id": "5e5a1578",
   "metadata": {},
   "outputs": [
    {
     "name": "stdout",
     "output_type": "stream",
     "text": [
      "-7\n",
      "Superclase\n"
     ]
    }
   ],
   "source": [
    "class superclase:\n",
    "    def __init__(self,atr1):\n",
    "        self.atr=atr1\n",
    "    def method1(self):\n",
    "        print(\"Superclase\")\n",
    "class subclase(superclase):\n",
    "    def __init__(self,atr2):\n",
    "        super().__init__(atr2)\n",
    "sub=subclase(-7)\n",
    "print(sub.atr)\n",
    "sub.method1()"
   ]
  },
  {
   "cell_type": "code",
   "execution_count": 371,
   "id": "8402cd04",
   "metadata": {},
   "outputs": [
    {
     "name": "stdout",
     "output_type": "stream",
     "text": [
      "-2.0000000000000004\n",
      "0.0\n"
     ]
    }
   ],
   "source": [
    "import numpy as np\n",
    "import random \n",
    "#from numpy.linalg import eig, LinAlgError\n",
    "import pandas as pd\n",
    "\n",
    "try:\n",
    "    print(np.linalg.det(np.array([[1,2],[3,4]])))\n",
    "    print(np.linalg.det(np.array([[1,2,3],[4,5,6],[7,8,9]])))\n",
    "except LinAlgError:\n",
    "    print(\"Singular matrix. La matrix no tiene inversa.\")\n",
    "\n"
   ]
  },
  {
   "cell_type": "code",
   "execution_count": 382,
   "id": "ab032e27",
   "metadata": {},
   "outputs": [
    {
     "data": {
      "text/plain": [
       "-11.930526989170588"
      ]
     },
     "execution_count": 382,
     "metadata": {},
     "output_type": "execute_result"
    }
   ],
   "source": [
    "import random\n",
    "\n",
    "random.uniform(-100, 100)"
   ]
  },
  {
   "cell_type": "code",
   "execution_count": 71,
   "id": "6caa8145",
   "metadata": {},
   "outputs": [
    {
     "data": {
      "image/png": "[encoded data removed]",
      "text/plain": [
       "<Figure size 640x480 with 1 Axes>"
      ]
     },
     "metadata": {},
     "output_type": "display_data"
    }
   ],
   "source": [
    "import numpy as np \n",
    "from matplotlib import pyplot as plt \n",
    "\n",
    "x_list = np.arange(-5, 5, 0.01)\n",
    "y_list = np.arange(-1, 1, 0.01)\n",
    "x, y = np.meshgrid(x_list, y_list)\n",
    "z_2 = np.sinc((x/np.pi)**2+(y/np.pi)**2)\n",
    "\n",
    "x = np.arange(1,11) \n",
    "y = 2 * x + 5 \n",
    "plt.title(\"Matplotlib demo\") \n",
    "plt.xlabel(\"x axis caption\") \n",
    "plt.ylabel(\"y axis caption\") \n",
    "plt.plot(x,y) \n",
    "plt.show()"
   ]
  },
  {
   "cell_type": "code",
   "execution_count": 72,
   "id": "8fe225b3",
   "metadata": {},
   "outputs": [
    {
     "data": {
      "image/png": "[encoded data removed]",
      "text/plain": [
       "<Figure size 640x480 with 2 Axes>"
      ]
     },
     "metadata": {},
     "output_type": "display_data"
    }
   ],
   "source": [
    "import numpy as np \n",
    "import matplotlib.pyplot as plt  \n",
    "   \n",
    "# Compute the x and y coordinates for points on sine and cosine curves \n",
    "x = np.arange(0, 3 * np.pi, 0.1) \n",
    "y_sin = np.sin(x) \n",
    "y_cos = np.cos(x)  \n",
    "   \n",
    "# Set up a subplot grid that has height 2 and width 1, \n",
    "# and set the first such subplot as active. \n",
    "plt.subplot(2, 1, 1)\n",
    "   \n",
    "# Make the first plot \n",
    "plt.plot(x, y_sin) \n",
    "plt.title('Sine')  \n",
    "   \n",
    "# Set the second subplot as active, and make the second plot. \n",
    "plt.subplot(2, 1, 2) \n",
    "plt.plot(x, y_cos) \n",
    "plt.title('Cosine')  \n",
    "   \n",
    "# Show the figure. \n",
    "plt.show()"
   ]
  },
  {
   "cell_type": "code",
   "execution_count": 73,
   "id": "d586af3e",
   "metadata": {},
   "outputs": [
    {
     "data": {
      "image/png": "[encoded data removed]",
      "text/plain": [
       "<Figure size 640x480 with 1 Axes>"
      ]
     },
     "metadata": {},
     "output_type": "display_data"
    }
   ],
   "source": [
    "from matplotlib import pyplot as plt \n",
    "x = [5,8,10] \n",
    "y = [12,16,6]  \n",
    "\n",
    "x2 = [6,9,11] \n",
    "y2 = [6,15,7] \n",
    "plt.bar(x, y, align = 'center') \n",
    "plt.bar(x2, y2, color = 'g', align = 'center') \n",
    "plt.title('Bar graph') \n",
    "plt.ylabel('Y axis') \n",
    "plt.xlabel('X axis')  \n",
    "\n",
    "plt.show()"
   ]
  },
  {
   "cell_type": "code",
   "execution_count": 76,
   "id": "69f7d948",
   "metadata": {},
   "outputs": [
    {
     "name": "stdout",
     "output_type": "stream",
     "text": [
      "P = 1\n",
      "V = 2\n",
      "T = 3\n"
     ]
    },
    {
     "ename": "TypeError",
     "evalue": "type.__new__() argument 2 must be tuple, not str",
     "output_type": "error",
     "traceback": [
      "\u001b[1;31m---------------------------------------------------------------------------\u001b[0m",
      "\u001b[1;31mTypeError\u001b[0m                                 Traceback (most recent call last)",
      "Cell \u001b[1;32mIn[76], line 2\u001b[0m\n\u001b[0;32m      1\u001b[0m P,V,T\u001b[38;5;241m=\u001b[39m\u001b[38;5;28minput\u001b[39m(\u001b[38;5;124m\"\u001b[39m\u001b[38;5;124mP = \u001b[39m\u001b[38;5;124m\"\u001b[39m),\u001b[38;5;28minput\u001b[39m(\u001b[38;5;124m\"\u001b[39m\u001b[38;5;124mV = \u001b[39m\u001b[38;5;124m\"\u001b[39m),\u001b[38;5;28minput\u001b[39m(\u001b[38;5;124m\"\u001b[39m\u001b[38;5;124mT = \u001b[39m\u001b[38;5;124m\"\u001b[39m) \n\u001b[1;32m----> 2\u001b[0m \u001b[38;5;28mprint\u001b[39m(\u001b[38;5;28;43mtype\u001b[39;49m\u001b[43m(\u001b[49m\u001b[43mP\u001b[49m\u001b[43m,\u001b[49m\u001b[43mV\u001b[49m\u001b[43m,\u001b[49m\u001b[43mT\u001b[49m\u001b[43m)\u001b[49m)\n",
      "\u001b[1;31mTypeError\u001b[0m: type.__new__() argument 2 must be tuple, not str"
     ]
    }
   ],
   "source": []
  },
  {
   "cell_type": "code",
   "execution_count": 2,
   "id": "ac3e8fed",
   "metadata": {},
   "outputs": [
    {
     "name": "stdout",
     "output_type": "stream",
     "text": [
      "error\n"
     ]
    }
   ],
   "source": [
    "try:\n",
    "    print(1/0)\n",
    "except:\n",
    "    print(\"error\")\n",
    "    exit(1)\n",
    "else:\n",
    "    print(\"el intento funcionó!\")\n",
    "    exit(0)"
   ]
  },
  {
   "cell_type": "code",
   "execution_count": 7,
   "id": "4ed04366",
   "metadata": {},
   "outputs": [
    {
     "name": "stdout",
     "output_type": "stream",
     "text": [
      "98.01039310343927\n",
      "23.366150390617324\n",
      "15.277089238146003\n",
      "56.801707687975146\n",
      "54.82784963017166\n",
      "11.917353900378625\n",
      "53.79598289590005\n",
      "27.3558172410451\n",
      "97.9118188273394\n",
      "23.52280138852575\n",
      "58.83543231435978\n",
      "63.62788072397589\n",
      "9.534567280853368\n",
      "22.35491340846375\n",
      "25.257846620728863\n",
      "63.657904817593746\n",
      "20.735391404017033\n",
      "56.86800968719694\n",
      "63.7978970213879\n",
      "24.504480479615655\n",
      "3.05492470244485\n",
      "13.602889064150038\n",
      "72.15046085958342\n",
      "51.30969702633003\n",
      "68.24268107158598\n",
      "65.39152897016167\n",
      "15.116960373786082\n",
      "22.913883437539916\n",
      "69.35117094870675\n",
      "18.39415917959516\n",
      "92.58092882852792\n",
      "72.57032177373884\n",
      "33.88319007848535\n",
      "25.65176820898094\n",
      "83.19493829053543\n",
      "24.747403070865857\n",
      "75.38064637487554\n",
      "72.0953014481806\n",
      "67.01803676953098\n",
      "44.22301038208099\n",
      "79.24794600869087\n",
      "80.56479666051746\n",
      "96.3204339633974\n",
      "27.86356820235727\n",
      "49.17960717575502\n",
      "78.2567409345589\n",
      "15.998278378732467\n",
      "52.52918771901\n",
      "29.834987474691122\n",
      "13.162458737242655\n",
      "4.473556894079566\n",
      "40.762521575077905\n",
      "42.13409670201721\n",
      "50.1905310313696\n",
      "29.11141793664345\n",
      "93.83342450325246\n",
      "77.49171593280694\n",
      "6.678285138794616\n",
      "59.008917324660324\n",
      "60.99964781567368\n",
      "35.0287623461871\n",
      "82.42742728532936\n",
      "31.114848309323285\n",
      "26.31556292216233\n",
      "49.87113884385784\n",
      "5.417582764334705\n",
      "21.518502495926594\n",
      "58.920607288670446\n",
      "43.0772935385766\n",
      "52.63574404338477\n",
      "93.33071361262103\n",
      "42.674665882818154\n",
      "52.324663672925595\n",
      "47.20697272269623\n",
      "87.2784551398245\n",
      "45.039671355130665\n",
      "86.00320718516384\n",
      "40.311590733143234\n",
      "59.43231373000039\n",
      "70.97687913733871\n",
      "18.107027416906586\n",
      "67.82652057061563\n",
      "61.76559666805521\n",
      "37.60031256833546\n",
      "44.23607679785844\n",
      "83.13542761356038\n",
      "29.79444915329108\n",
      "38.9805541940097\n",
      "81.03712443355792\n",
      "11.851399498803572\n",
      "88.01425983898962\n",
      "97.39590472088906\n",
      "89.29643790937206\n",
      "8.06201472892355\n",
      "95.03037777101144\n",
      "92.49207522259711\n",
      "32.11494815248245\n",
      "68.95015908141791\n",
      "41.36900511185988\n",
      "11.024116533621243\n",
      "82.7042959887062\n",
      "50.73633749802388\n",
      "97.39711118733129\n",
      "66.86297508596964\n",
      "19.974895430395044\n",
      "21.066582226245277\n",
      "5.19290377524535\n",
      "31.95191749123244\n",
      "42.10014099279723\n",
      "61.15891732064371\n",
      "32.85520760143079\n",
      "14.669161439542865\n",
      "36.30605962447602\n",
      "20.438999578615135\n",
      "62.500366049317925\n",
      "66.23891613390715\n",
      "17.59049133504098\n",
      "7.722243698535458\n",
      "59.91308130501908\n",
      "33.392511285073454\n",
      "51.42795293783139\n",
      "27.21434815758058\n",
      "97.35211624260818\n",
      "43.41766744434699\n",
      "36.42485286614493\n",
      "90.86494636138919\n",
      "17.004060249328923\n",
      "49.57029552917609\n",
      "21.064397287019286\n",
      "79.91355919316356\n",
      "55.206523406885744\n",
      "81.51325588872524\n",
      "22.524323469876016\n",
      "67.46085501093728\n",
      "37.73846775844659\n",
      "92.5008493061316\n",
      "90.54075038742997\n",
      "47.089976526412144\n",
      "22.52272270895842\n",
      "15.433317707022976\n",
      "32.97899319490113\n",
      "55.69251404758114\n",
      "56.22804893744028\n",
      "50.535359959150384\n",
      "81.5714589432593\n",
      "92.18043733221316\n",
      "84.80903235437388\n",
      "49.70168699717002\n",
      "15.191378529864764\n",
      "32.502392502730736\n",
      "76.42705564127257\n",
      "75.68547317283168\n",
      "44.363004106605544\n",
      "98.92478632642164\n",
      "17.063103502929867\n",
      "59.924132031715146\n",
      "97.0196753276158\n",
      "31.14656017660552\n",
      "6.5419242180031585\n",
      "8.705797291745565\n",
      "40.33983443490348\n",
      "71.28999117654523\n",
      "30.973033880171606\n",
      "37.73187721829645\n",
      "7.87649507228193\n",
      "99.89722251969312\n",
      "98.7297888703902\n",
      "33.98479240652462\n",
      "19.19478138227647\n",
      "12.891237202554183\n",
      "1.1330853098406424\n",
      "92.28193051846783\n",
      "72.01934488023328\n",
      "73.11625964822534\n",
      "56.892020912447904\n",
      "45.727252559581366\n",
      "46.85975971411304\n",
      "76.95449313110551\n",
      "61.933641989045626\n",
      "68.02267679271321\n",
      "14.018509127131484\n",
      "97.84002297527135\n",
      "91.78857328097595\n",
      "44.6348279726433\n",
      "67.79434514869813\n",
      "76.64048951926998\n",
      "61.57165778703194\n",
      "68.45273747918111\n",
      "30.95434656261412\n",
      "42.138473241426766\n",
      "51.61821843418058\n",
      "92.1946907244204\n",
      "71.24813066203957\n",
      "51.785938788511174\n",
      "21.5663604476525\n",
      "17.774087905367097\n",
      "16.50662213178814\n",
      "98.06936165361792\n",
      "30.812561571269093\n",
      "33.57545968971406\n",
      "18.58971511453862\n",
      "2.969320764534744\n",
      "5.562744100804307\n",
      "40.67450999370366\n",
      "75.28535658504377\n",
      "58.440750586069015\n",
      "80.39240021501324\n",
      "19.326657987953144\n",
      "41.353433627379324\n",
      "44.58243496879521\n",
      "69.56477295628235\n",
      "57.67720795402354\n",
      "48.69325616421148\n",
      "9.051708184124308\n",
      "9.130620575156723\n",
      "86.60107400499261\n",
      "54.76158065062613\n",
      "84.49724162372247\n",
      "81.0194627279465\n",
      "40.83602159837859\n",
      "67.23798704484038\n",
      "83.14297613127192\n",
      "38.88327539352105\n",
      "55.18687922024815\n",
      "49.12622981474514\n",
      "81.92704953084811\n",
      "40.620930193482074\n",
      "43.18995860702758\n",
      "3.421658909308245\n",
      "63.355633658919366\n",
      "53.55479704798153\n",
      "55.12701463530176\n",
      "6.921677466500942\n",
      "85.63093138435103\n",
      "31.48973126227763\n",
      "54.45650137291882\n",
      "57.60483324371678\n",
      "24.81790209565624\n",
      "13.850252183380963\n",
      "64.2422946990334\n",
      "60.27537519699254\n",
      "36.013522067976865\n",
      "52.753480636421166\n",
      "74.21280918577546\n",
      "31.131509545422055\n",
      "15.946785217759452\n",
      "96.17508173183361\n",
      "42.78378304318831\n",
      "69.91474903181904\n",
      "52.220195792293424\n",
      "39.64716885758547\n",
      "58.07272929364715\n",
      "50.51373963409978\n",
      "96.81330601374209\n",
      "43.66120998361427\n",
      "37.610997557137125\n",
      "62.686699519861676\n",
      "90.17560145542964\n",
      "79.68801843975899\n",
      "2.218197613857098\n",
      "82.70039737199318\n",
      "17.553214697501794\n",
      "72.5144939689379\n",
      "50.08041810788435\n",
      "42.800496510816245\n",
      "46.203749919958035\n",
      "0.805097576275926\n",
      "69.80276796555037\n",
      "36.95180892466823\n",
      "88.68172989557162\n",
      "0.9724646160303996\n",
      "31.234252498189562\n",
      "81.69501116871095\n",
      "75.94200616293546\n",
      "38.21845653009489\n",
      "95.56086117440596\n",
      "52.39229606588525\n",
      "34.23596099734352\n",
      "64.80100245901048\n",
      "4.639060428677921\n",
      "9.204770377399951\n",
      "73.40494792231573\n",
      "3.1869303818596317\n",
      "97.27498207350264\n",
      "76.33025853529227\n",
      "93.36320840261423\n",
      "47.86281811186034\n",
      "2.2671105490474686\n",
      "4.766213651410467\n",
      "20.0769214981265\n",
      "31.156706584295947\n",
      "25.81758723278662\n",
      "68.92390783019047\n",
      "57.580086429978486\n",
      "30.685895450264066\n",
      "13.770052082431494\n",
      "69.52094927805298\n",
      "25.89573843111865\n",
      "22.244874194970798\n",
      "17.05029750630438\n",
      "59.98141586884215\n",
      "6.912085074246866\n",
      "2.1371668478626926\n",
      "91.52614911555541\n",
      "25.470399101217655\n",
      "91.29859912466272\n",
      "17.280964217975146\n",
      "33.50588048045427\n",
      "66.04745210481177\n",
      "12.316607820719183\n",
      "79.4218099644421\n",
      "27.171818222155153\n",
      "21.27365189378424\n",
      "98.65076583968604\n",
      "65.5970502450631\n",
      "31.029439125395196\n",
      "85.43079615214111\n",
      "47.12518189441137\n",
      "84.94631782071099\n",
      "13.085948963792282\n",
      "17.145436399109837\n",
      "12.696222749246944\n",
      "80.5213090128287\n",
      "84.37484730883757\n",
      "82.2304805538335\n",
      "61.91216440008242\n",
      "14.419261666825667\n",
      "65.22625555389246\n",
      "22.409109443383702\n",
      "19.211236188813675\n",
      "74.09417605754808\n",
      "29.88072984357072\n",
      "79.64288300984124\n",
      "63.223736054791566\n",
      "89.66547405503486\n",
      "68.66306256566807\n",
      "31.135193922696914\n",
      "29.878733852807326\n",
      "89.99706284748184\n",
      "87.84847005565348\n",
      "87.76265934770433\n",
      "60.92855147925451\n",
      "74.58676485850745\n",
      "82.1068360658087\n",
      "46.508114051065995\n",
      "13.244624985814346\n",
      "7.670678485464322\n",
      "51.02420092823836\n",
      "89.69286404147545\n",
      "74.39783098633858\n",
      "5.642366159181556\n",
      "6.235123834035294\n",
      "88.41189881818856\n",
      "55.934362268595606\n",
      "56.91129546634423\n",
      "46.19844067947332\n",
      "46.21887458013315\n",
      "49.6513122271419\n",
      "23.176564152411295\n",
      "48.580087254738466\n",
      "28.3425169191003\n",
      "42.53669336559957\n",
      "37.89320449300424\n",
      "77.83814638314219\n",
      "82.0855653736234\n",
      "32.615493429011465\n",
      "20.701910940781886\n",
      "45.643613549464334\n",
      "64.50016823792099\n",
      "90.41575243740357\n",
      "46.80283599549742\n",
      "88.59952452420691\n",
      "0.9412297950783244\n",
      "29.54038159239022\n",
      "82.12563233618702\n",
      "45.07759673455922\n",
      "30.6929814235275\n",
      "12.199760363757905\n",
      "44.571107020591874\n",
      "56.26890934988329\n",
      "51.946804977512485\n",
      "99.97412701795815\n",
      "54.433609325447904\n",
      "33.71961279112898\n",
      "64.16850508185428\n",
      "53.71461945799846\n",
      "90.1484002374883\n",
      "63.25983975461559\n",
      "6.14083304350509\n",
      "78.79966866848278\n",
      "95.46958951955425\n",
      "51.34993881605069\n",
      "60.29387364078714\n",
      "9.90015596031344\n",
      "63.07204507419337\n",
      "73.66633843795402\n",
      "88.37275052091611\n",
      "89.93720359307218\n",
      "31.21788704924966\n",
      "17.042557928099612\n",
      "25.526508367684553\n",
      "53.9912204087032\n",
      "61.24141172281714\n",
      "62.921906678197224\n",
      "9.971070584355267\n",
      "80.81391976093994\n",
      "22.958913088128497\n",
      "59.934815108327676\n",
      "23.472492324246495\n",
      "45.283239855515276\n",
      "57.507712965199445\n",
      "92.44682028082471\n",
      "68.57839310042189\n",
      "88.82940006326517\n",
      "29.97088656171407\n",
      "74.56628167109857\n",
      "92.6833698742825\n",
      "63.87313443903313\n",
      "8.295691859547748\n",
      "14.475227273026281\n",
      "48.63255806034381\n",
      "77.50915654242925\n",
      "44.400429522276\n",
      "65.97154991988812\n",
      "31.585484982737622\n",
      "91.31219538740815\n",
      "58.3656761723647\n",
      "59.813662662154854\n",
      "6.80346346191103\n",
      "18.337192816946235\n",
      "53.85207786949996\n",
      "38.9210719966465\n",
      "79.60192999297895\n",
      "84.84765105009771\n",
      "66.16516104634717\n",
      "85.40453365692969\n",
      "6.512316837228072\n",
      "22.597822503099696\n",
      "43.01466302885948\n",
      "94.12405901220426\n",
      "8.053521566602706\n",
      "66.23833314009717\n",
      "57.50329695107945\n",
      "60.4486389887989\n",
      "73.92791310550272\n",
      "62.66174532566983\n",
      "83.51916403474893\n",
      "37.37513532070883\n",
      "61.55857374667214\n",
      "7.801089627471947\n",
      "66.65380329014432\n",
      "93.93424997162563\n",
      "40.10895451762242\n",
      "82.40170970561861\n",
      "23.491933825178602\n",
      "83.69576332950345\n",
      "27.296417257098994\n",
      "37.717051491853404\n",
      "25.129294258726976\n",
      "98.1408499370704\n",
      "43.29005346655109\n",
      "9.557515285924033\n",
      "70.22982784579152\n",
      "68.59396838147552\n",
      "4.451278340193121\n",
      "10.34060177356645\n",
      "59.91570011364665\n",
      "0.32230100955358276\n",
      "19.464548438751805\n",
      "13.16676459449907\n",
      "73.52170962845544\n",
      "48.46249817648527\n",
      "49.303623959668656\n",
      "89.1621820737433\n",
      "34.29130720805876\n",
      "6.415216266773493\n",
      "29.555040336388195\n",
      "6.548042048945235\n",
      "85.12077169305859\n",
      "62.147940861509724\n",
      "36.82692489008805\n",
      "33.899877523044275\n",
      "33.06518832301526\n",
      "63.69321351234669\n",
      "85.80027787125825\n",
      "85.3087652264535\n",
      "21.23909309304305\n",
      "79.38807689245145\n",
      "32.885148270615495\n",
      "75.5100973341454\n",
      "34.38560790748829\n",
      "60.72218703687749\n",
      "96.70619089579323\n",
      "31.40255872599427\n",
      "84.97487654160119\n",
      "38.91318458198313\n",
      "11.818235428262636\n",
      "5.741735512745505\n",
      "85.31701682692285\n",
      "8.93667115676009\n",
      "64.85342413421779\n",
      "15.643133335918403\n",
      "10.52552745908455\n",
      "22.469366016697723\n",
      "89.87665070836911\n",
      "16.49929502715086\n",
      "52.4737817024303\n",
      "16.140748132278915\n",
      "6.427398742274148\n",
      "11.793481225831993\n",
      "45.19881241098097\n",
      "49.31254734055729\n",
      "71.15790630963164\n",
      "29.300061998786\n",
      "62.70643200235075\n",
      "39.75930226586735\n",
      "17.430048539983922\n",
      "50.75011775822088\n",
      "48.57015661973067\n",
      "35.379715758122245\n",
      "67.15076108878752\n",
      "28.51464458366243\n",
      "43.49617587839985\n",
      "67.56697489735029\n",
      "40.043705898171666\n",
      "44.96559509429496\n",
      "34.985479032360246\n",
      "70.35159566281037\n",
      "99.33203842717887\n",
      "38.17748820115463\n",
      "11.037921745417323\n",
      "5.412542920240626\n",
      "42.08785846856635\n",
      "3.527484880671161\n",
      "38.81431734736225\n",
      "29.486873304769368\n",
      "47.5823642972385\n",
      "52.448722547214246\n",
      "30.724150410236216\n",
      "73.5167614965676\n",
      "69.60002525194714\n",
      "24.072826748898624\n",
      "5.606465038690245\n",
      "50.60759789890088\n",
      "9.128141910639552\n",
      "64.63886433367115\n",
      "88.68965393390069\n",
      "91.65541318308992\n",
      "59.14359434503829\n",
      "28.08500622454142\n",
      "48.724284276114325\n",
      "62.03832210274533\n",
      "78.5875526311036\n",
      "14.873123579656678\n",
      "38.99987539187775\n",
      "1.7147993994295785\n",
      "64.09275033889587\n",
      "26.139500332340926\n",
      "58.148941281652355\n",
      "98.33970244582774\n",
      "14.42665056006922\n",
      "31.1790490486208\n",
      "23.837233954995718\n",
      "85.12441055246697\n",
      "72.34671468271424\n",
      "83.2444681805647\n",
      "3.042456289127804\n",
      "18.915110268349935\n",
      "95.0133910346189\n",
      "90.9047674223918\n",
      "76.30934140069103\n",
      "36.2561611891022\n",
      "19.382173395094725\n",
      "96.11093689093687\n",
      "42.02977430369999\n",
      "32.607881106545854\n",
      "9.746827137712021\n",
      "44.214975991781444\n",
      "11.048038576345132\n",
      "66.63939556332889\n",
      "20.15061410631477\n",
      "80.47579848513584\n",
      "0.6252811466367469\n",
      "39.741692067902314\n",
      "34.77977089955596\n",
      "8.623181022820848\n",
      "27.802264610991845\n",
      "70.59395233358987\n",
      "11.116286553193955\n",
      "22.828331989779095\n",
      "36.49211817936726\n",
      "96.79641943967985\n",
      "22.280238672316678\n",
      "65.71701735150091\n",
      "85.29438048636572\n",
      "86.76935651310839\n",
      "99.26765337977136\n",
      "53.83277098594181\n",
      "84.5016138247199\n",
      "47.694830542691804\n",
      "49.68704697844502\n",
      "60.99633541888634\n",
      "27.165754822246335\n",
      "56.88065263594715\n",
      "63.008021525632394\n",
      "64.81560462653998\n",
      "83.52431566015986\n",
      "21.61291416489446\n",
      "44.423647236319894\n",
      "64.85595841880064\n",
      "95.17316266748485\n",
      "87.12197543363006\n",
      "68.99073041860433\n",
      "50.917008533938535\n",
      "87.28882679497507\n",
      "97.02032926901113\n",
      "42.112711791132575\n",
      "67.403016546934\n",
      "45.65513608447248\n",
      "90.626239918609\n",
      "72.33369905584165\n",
      "92.79938507235765\n",
      "32.07485047545544\n",
      "98.82542396798083\n",
      "52.554191474657905\n",
      "65.81793123748726\n",
      "88.95815398302868\n",
      "37.83141566839551\n",
      "48.426130184441476\n",
      "88.9554739594756\n",
      "66.51254788329263\n",
      "70.9080892393798\n",
      "3.8496630981425306\n",
      "57.6911266221153\n",
      "42.71814835099397\n",
      "33.46767092910331\n",
      "33.24654927602323\n",
      "44.61823442456655\n",
      "99.00325221050275\n",
      "25.344805579627018\n",
      "11.616962698198318\n",
      "64.79055408896177\n",
      "1.2861681522842616\n",
      "74.32471234890735\n",
      "59.305695085175444\n",
      "45.66499421406732\n",
      "45.82463375556918\n",
      "3.329664837547197\n",
      "6.8629430748956\n",
      "48.981235019046935\n",
      "32.33536076535973\n",
      "0.25022507037804065\n",
      "95.43444602485243\n",
      "29.605588985010467\n",
      "1.2007016096387546\n",
      "15.109757280765745\n",
      "0.8028542408019756\n",
      "3.0794309786134177\n",
      "68.46946569218217\n",
      "86.13455781860682\n",
      "0.6311728265308014\n",
      "37.1936342510772\n",
      "66.3071725610436\n",
      "81.60471291642466\n",
      "26.240282127452787\n",
      "86.39273440002894\n",
      "34.01981627508211\n",
      "43.35117410034317\n",
      "5.898010636846063\n",
      "70.55802426329244\n",
      "84.14903873741567\n",
      "84.3755704333635\n",
      "10.520538897414367\n",
      "77.00524718887475\n",
      "6.596566694265937\n",
      "81.58578993876347\n",
      "6.733909329978516\n",
      "45.4892336035982\n",
      "0.34225810582663163\n",
      "48.42739183807364\n",
      "35.76211747383591\n",
      "39.73943158850772\n",
      "75.92953956038009\n",
      "28.70935095849524\n",
      "30.846964888732142\n",
      "21.07346467496948\n",
      "99.39622262941427\n",
      "64.13692059834416\n",
      "71.11241841213275\n",
      "9.67625467522728\n",
      "8.555743172887631\n",
      "82.3326418194781\n",
      "45.95382424261604\n",
      "4.929266090699958\n",
      "48.3663816669367\n",
      "38.46560948611546\n",
      "57.715822165820086\n",
      "9.615237605767213\n",
      "42.73594129978141\n",
      "48.42813406770572\n",
      "47.75513668149234\n",
      "1.4733171853947735\n",
      "52.18758475116865\n",
      "66.19488743883898\n",
      "28.783665235157883\n",
      "96.22095117230758\n",
      "52.66252928830504\n",
      "93.73876356711307\n",
      "1.2267733115417845\n",
      "66.45468669685238\n",
      "54.710319153051245\n",
      "29.07165341662017\n",
      "45.297206267991875\n",
      "74.9437566729222\n",
      "42.04137236187019\n",
      "54.022524734694734\n",
      "15.817353937594225\n",
      "1.0435192824400863\n",
      "90.74025941079678\n",
      "84.43792525725603\n",
      "24.07605029979485\n",
      "10.630705842234445\n",
      "49.80784080054592\n",
      "68.17284825420565\n",
      "33.36345558506258\n",
      "41.15011576712192\n",
      "32.15903538437331\n",
      "49.02345362847706\n",
      "84.09274865688646\n",
      "66.15748720334084\n",
      "79.20599558588809\n",
      "1.6782708557955273\n",
      "90.94664627329223\n",
      "2.0819938701293172\n",
      "72.51777893759224\n",
      "61.49501382315934\n",
      "21.768358182716653\n",
      "80.606981155682\n",
      "25.915769540581547\n",
      "76.99710874605145\n",
      "96.46657314391356\n",
      "6.262256308480374\n",
      "45.17662705986266\n",
      "91.24523504680309\n",
      "42.30987597773309\n",
      "60.0787068991331\n",
      "27.146001307649282\n",
      "95.35395833498454\n",
      "77.1459894630562\n",
      "32.90802124037061\n",
      "69.17570459301685\n",
      "23.948496315035996\n",
      "22.175061549239928\n",
      "34.93660808610397\n",
      "46.028140823798424\n",
      "4.092688301492508\n",
      "63.833021766067255\n",
      "91.39281389533858\n",
      "6.111010753488843\n",
      "96.87492324417954\n",
      "0.8417349352928039\n",
      "74.68528468024614\n",
      "85.70003879627845\n",
      "75.81318615967363\n",
      "93.44054269064962\n",
      "5.963177752545623\n",
      "77.90500819788136\n",
      "69.29774015214024\n",
      "97.8780856410914\n",
      "46.095750490009436\n",
      "69.26443659950993\n",
      "82.82805999558906\n",
      "63.55065153691033\n",
      "29.226002799284178\n",
      "33.87602981961651\n",
      "60.11302248102085\n",
      "62.738789111832105\n",
      "92.24376007773841\n",
      "45.901718064297995\n",
      "78.3573286075402\n",
      "2.761227273584166\n",
      "47.124465224117515\n",
      "6.706339145771\n",
      "50.79014900911656\n",
      "4.51578294615892\n",
      "50.07890332875902\n",
      "21.617008850397823\n",
      "78.51086873770683\n",
      "59.52395723936783\n",
      "3.2958998069491874\n",
      "4.123827198836471\n",
      "20.249313110032162\n",
      "43.86353941797817\n",
      "13.736411626241251\n",
      "26.6998550123676\n",
      "29.83234971672473\n",
      "59.731842238799395\n",
      "42.289851950172356\n",
      "74.08997263404595\n",
      "0.3937311509525254\n",
      "99.74587073231909\n",
      "36.11647464161949\n",
      "31.313142185446697\n",
      "60.95242472944322\n",
      "56.44619533714816\n",
      "93.49055083447662\n",
      "0.4257721547422544\n",
      "41.69896804865787\n",
      "42.48732504272835\n",
      "70.93096608092297\n",
      "92.31337892794782\n",
      "20.103233343315942\n",
      "63.345034587462536\n",
      "13.774965513696348\n",
      "45.99678931536246\n",
      "94.61254945627707\n",
      "68.19266528970958\n",
      "42.86889348545839\n",
      "71.37468958227741\n",
      "1.7267302813729013\n",
      "22.530170298875817\n",
      "96.28993696975826\n",
      "31.384745185975426\n",
      "40.10138204930652\n",
      "13.994311836409723\n",
      "21.257305931193248\n",
      "85.7028324201789\n",
      "16.58120556862468\n",
      "1.3543546381219906\n",
      "85.04653817260333\n",
      "44.922719565041405\n",
      "3.2806417808802557\n",
      "95.50131779514197\n",
      "97.20848819489122\n",
      "42.72786895430056\n",
      "53.7459601790072\n",
      "66.2950445958919\n",
      "57.373520631977534\n",
      "57.9844538173259\n",
      "21.992593000699323\n",
      "41.076322339522605\n",
      "46.72856854509531\n",
      "81.62067429064152\n",
      "91.82818275421458\n",
      "5.487432802662107\n",
      "44.09056791255214\n",
      "79.11393521560557\n",
      "21.604466528295795\n",
      "50.591173921838006\n",
      "99.11262884589324\n",
      "6.336565023245456\n",
      "29.91716197971652\n",
      "49.17707063669528\n",
      "8.393997757504469\n",
      "71.42118466451898\n",
      "14.077124105465021\n",
      "48.20048791512356\n",
      "42.435089049606475\n",
      "41.687881158674536\n",
      "29.581946007600045\n",
      "83.51907717351918\n",
      "24.819440609380237\n",
      "37.269410876297904\n",
      "45.53832638066416\n",
      "89.0542371545519\n",
      "99.98165727373973\n",
      "30.97822223385248\n",
      "29.770734898135633\n",
      "5.35079962820042\n",
      "80.96012258850452\n",
      "30.25509385040307\n",
      "82.53374093102218\n",
      "47.92880356630385\n",
      "77.92665945403033\n",
      "7.3026324050401215\n",
      "98.30043044796575\n",
      "59.411294985399586\n",
      "37.26266961988405\n",
      "62.88069174944675\n",
      "14.626004147574589\n",
      "36.75890041822719\n",
      "84.32239740374156\n",
      "81.46521472026103\n",
      "38.688763550505946\n",
      "26.196750194875996\n",
      "35.82079129314746\n",
      "53.58506526972997\n",
      "45.773761554699576\n",
      "99.92151698410186\n",
      "22.440364894935115\n",
      "13.475638532577205\n",
      "27.835309270016996\n",
      "13.842342999502488\n",
      "81.38402215001572\n",
      "81.85609490630881\n",
      "70.90773467845204\n",
      "12.440199477015012\n",
      "55.616149911255356\n",
      "70.51731297112369\n",
      "26.160052846225092\n",
      "13.98617222425379\n",
      "50.095246351737785\n",
      "17.782073371485584\n",
      "39.45001896674059\n",
      "30.262679229635083\n",
      "80.07287483482088\n",
      "40.462807224815045\n",
      "87.77166106828344\n",
      "47.249021936407075\n",
      "73.31462709107997\n",
      "58.40597172236508\n",
      "80.39749246946435\n",
      "40.95461816474214\n",
      "13.155095315127774\n",
      "16.525406762429917\n",
      "20.15671056218834\n",
      "40.36105481398104\n",
      "34.94189700745447\n",
      "4.601278724342251\n",
      "26.652588520298416\n",
      "35.83631011509056\n",
      "72.50992426523123\n",
      "49.537081449353906\n",
      "52.94265660663745\n",
      "41.6833251261381\n",
      "19.76168767458667\n",
      "40.87243623431771\n",
      "7.848894396124384\n",
      "88.26438893765851\n",
      "16.58755708194444\n",
      "71.38704396586684\n",
      "82.24280752304236\n",
      "6.7727454165819605\n",
      "69.51258434935312\n",
      "32.72265838759254\n",
      "22.85959333417068\n",
      "75.13772191897417\n",
      "11.454255092837384\n",
      "42.19425120692936\n",
      "87.58988205749188\n",
      "1.0503769857757916\n",
      "61.57548732497641\n",
      "95.77275225297201\n",
      "51.845837755160474\n",
      "21.8843376900862\n",
      "35.30721391111754\n",
      "61.96710820005289\n",
      "83.3323494413438\n",
      "65.53266761357128\n",
      "59.859931577224614\n",
      "83.88817095330343\n",
      "86.03922800178509\n",
      "32.16272533952075\n",
      "63.25549008552179\n",
      "30.42545778694954\n",
      "57.71659934871555\n",
      "21.77395582920889\n",
      "42.36304069105225\n",
      "68.9719608790287\n",
      "20.02543054626583\n",
      "58.14871839039966\n",
      "83.85257026121032\n",
      "75.05009100621577\n",
      "67.81716378681497\n",
      "7.373245641690406\n",
      "2.73724388242802\n",
      "26.60567317265817\n",
      "79.32342979491433\n",
      "36.9788370012637\n",
      "31.513461306711566\n",
      "41.05305952631736\n",
      "43.090395840034766\n",
      "44.54972845517352\n",
      "48.73061201192542\n",
      "66.75817553504368\n",
      "77.17133208426807\n",
      "37.59359132733604\n",
      "70.82553915251218\n",
      "62.399270657751885\n",
      "53.600850800497234\n",
      "60.52004292965215\n",
      "15.91711778955377\n",
      "69.4608096416265\n",
      "74.69739483461764\n",
      "13.329952991376215\n",
      "54.08778762237161\n",
      "68.02812426044241\n",
      "26.13831456344049\n",
      "60.20143329307719\n",
      "34.906460384711565\n",
      "77.83943139188708\n",
      "92.6450109950387\n",
      "70.41707558986205\n",
      "10.806421638461183\n",
      "54.84621976401799\n",
      "66.74730069358748\n",
      "3.443505502903188\n",
      "79.80431493309699\n",
      "45.798669360807786\n",
      "78.57113732693438\n"
     ]
    }
   ],
   "source": [
    "import random\n",
    "\n",
    "for i in range(1000):\n",
    "    print(random.uniform(0,100)) # no se incluyen los límites."
   ]
  },
  {
   "cell_type": "code",
   "execution_count": 23,
   "id": "f21d70f2",
   "metadata": {},
   "outputs": [
    {
     "name": "stdout",
     "output_type": "stream",
     "text": [
      "{'P': 1, 'V': 3, 'T': '4', 'S': 7}\n"
     ]
    },
    {
     "data": {
      "text/plain": [
       "{'P': 1, 'V': 3, 'T': '4'}"
      ]
     },
     "execution_count": 23,
     "metadata": {},
     "output_type": "execute_result"
    }
   ],
   "source": [
    "dict={\"P\":1,\"V\":3,\"T\":'4'}\n",
    "#dict={str(i):1 for i in range(10)}\n",
    "dict2={**dict,'S':7}\n",
    "print(dict2)\n",
    "{**dict}"
   ]
  },
  {
   "cell_type": "code",
   "execution_count": 82,
   "id": "92ced3cd",
   "metadata": {},
   "outputs": [
    {
     "name": "stdout",
     "output_type": "stream",
     "text": [
      "<class 'tuple'>\n",
      "1 2\n",
      "1\n"
     ]
    }
   ],
   "source": [
    "def f():\n",
    "    return 1,2\n",
    "\n",
    "print(type(f()))\n",
    "(a,b)=1,2\n",
    "print(a,b)\n",
    "print(a)"
   ]
  },
  {
   "cell_type": "code",
   "execution_count": 88,
   "id": "6802eb20",
   "metadata": {},
   "outputs": [
    {
     "name": "stdout",
     "output_type": "stream",
     "text": [
      "1\n",
      "2\n"
     ]
    },
    {
     "ename": "KeyError",
     "evalue": "0",
     "output_type": "error",
     "traceback": [
      "\u001b[1;31m---------------------------------------------------------------------------\u001b[0m",
      "\u001b[1;31mKeyError\u001b[0m                                  Traceback (most recent call last)",
      "Cell \u001b[1;32mIn[88], line 6\u001b[0m\n\u001b[0;32m      3\u001b[0m \u001b[38;5;28;01mfor\u001b[39;00m i \u001b[38;5;129;01min\u001b[39;00m dic:\n\u001b[0;32m      4\u001b[0m     \u001b[38;5;28mprint\u001b[39m(i)\n\u001b[1;32m----> 6\u001b[0m \u001b[38;5;28mprint\u001b[39m(\u001b[43mdic\u001b[49m\u001b[43m[\u001b[49m\u001b[38;5;241;43m0\u001b[39;49m\u001b[43m]\u001b[49m)\n",
      "\u001b[1;31mKeyError\u001b[0m: 0"
     ]
    }
   ],
   "source": [
    "dic={'1':2,'2':3}\n",
    "\n",
    "for i in dic:\n",
    "    print(i)\n",
    "\n",
    "print(dic[0])"
   ]
  },
  {
   "cell_type": "code",
   "execution_count": 107,
   "id": "a69bd6c0",
   "metadata": {},
   "outputs": [
    {
     "name": "stdout",
     "output_type": "stream",
     "text": [
      "Más columnas que filas:\n",
      "[[1, 1, 1, 1], [1, 1, 1, 1]]\n",
      "[[1, 1, 1, 1], [1, 1, 1, 1], [0, 0, 0, 0], [0, 0, 0, 0]]\n",
      "Más filas que columnas:\n",
      "[[1, 1, 1, 1], [1, 1, 1, 1], [1, 1, 1, 1], [1, 1, 1, 1], [1, 1, 1, 1], [1, 1, 1, 1]]\n",
      "[[1, 1, 1, 1, 0, 0], [1, 1, 1, 1, 0, 0], [1, 1, 1, 1, 0, 0], [1, 1, 1, 1, 0, 0], [1, 1, 1, 1, 0, 0], [1, 1, 1, 1, 0, 0]]\n"
     ]
    }
   ],
   "source": [
    "print(\"Más columnas que filas:\")\n",
    "print([[1,1,1,1],[1,1,1,1]])\n",
    "print([[1,1,1,1],[1,1,1,1]]+[[0,0,0,0]]*2)\n",
    "print(\"Más filas que columnas:\")\n",
    "print([[1,1,1,1],[1,1,1,1],[1,1,1,1],[1,1,1,1],[1,1,1,1],[1,1,1,1]])\n",
    "print([[1,1,1,1]+[0,0],[1,1,1,1]+[0,0],[1,1,1,1]+[0,0],[1,1,1,1]+[0,0],[1,1,1,1]+[0,0],[1,1,1,1]+[0,0]])"
   ]
  },
  {
   "cell_type": "code",
   "execution_count": 118,
   "id": "4c8f85c6",
   "metadata": {},
   "outputs": [
    {
     "data": {
      "text/plain": [
       "[[1, 5], [2, 6], [3, 7], [4, 8]]"
      ]
     },
     "execution_count": 118,
     "metadata": {},
     "output_type": "execute_result"
    }
   ],
   "source": [
    "[[1, 5], [2, 6], [3, 7]] + [[4, 8]]"
   ]
  },
  {
   "cell_type": "code",
   "execution_count": 115,
   "id": "da3418d3",
   "metadata": {},
   "outputs": [
    {
     "data": {
      "text/plain": [
       "[]"
      ]
     },
     "execution_count": 115,
     "metadata": {},
     "output_type": "execute_result"
    }
   ],
   "source": [
    "[]"
   ]
  },
  {
   "cell_type": "code",
   "execution_count": null,
   "id": "1ca316c7",
   "metadata": {},
   "outputs": [],
   "source": [
    "def __add__(self,otra):\n",
    "        '''map me permite iterar el lambda, y retorna un objeto de la clase map. Voy armando filas.'''\n",
    "        return [list(map(lambda x,y:x+y,self.M[k],otra[k])) for k in range(self.shape[0])]\n",
    "    \n",
    "    "
   ]
  }
 ],
 "metadata": {
  "kernelspec": {
   "display_name": "Python 3 (ipykernel)",
   "language": "python",
   "name": "python3"
  },
  "language_info": {
   "codemirror_mode": {
    "name": "ipython",
    "version": 3
   },
   "file_extension": ".py",
   "mimetype": "text/x-python",
   "name": "python",
   "nbconvert_exporter": "python",
   "pygments_lexer": "ipython3",
   "version": "3.11.2"
  }
 },
 "nbformat": 4,
 "nbformat_minor": 5
}
