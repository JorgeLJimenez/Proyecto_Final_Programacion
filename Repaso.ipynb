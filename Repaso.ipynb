{
 "cells": [
  {
   "cell_type": "markdown",
   "id": "edebe4e2",
   "metadata": {},
   "source": [
    "# DECORATORS"
   ]
  },
  {
   "cell_type": "markdown",
   "id": "130291e0",
   "metadata": {},
   "source": [
    "## (Context) Defining Functions Inside other Functions"
   ]
  },
  {
   "cell_type": "code",
   "execution_count": 1,
   "id": "8a225ec1",
   "metadata": {},
   "outputs": [
    {
     "data": {
      "text/plain": [
       "5"
      ]
     },
     "execution_count": 1,
     "metadata": {},
     "output_type": "execute_result"
    }
   ],
   "source": [
    "def plus_one(number):\n",
    "    def add_one(number):\n",
    "        return number + 1\n",
    "\n",
    "\n",
    "    result = add_one(number)\n",
    "    return result\n",
    "plus_one(4)"
   ]
  },
  {
   "cell_type": "markdown",
   "id": "222cff7d",
   "metadata": {},
   "source": [
    "## (Context) Passing Functions as Arguments to other Functions"
   ]
  },
  {
   "cell_type": "code",
   "execution_count": 2,
   "id": "5ebdcd6d",
   "metadata": {},
   "outputs": [
    {
     "data": {
      "text/plain": [
       "6"
      ]
     },
     "execution_count": 2,
     "metadata": {},
     "output_type": "execute_result"
    }
   ],
   "source": [
    "def plus_one(number):\n",
    "    return number + 1\n",
    "\n",
    "def function_call(function):\n",
    "    number_to_add = 5\n",
    "    return function(number_to_add)\n",
    "\n",
    "function_call(plus_one)"
   ]
  },
  {
   "cell_type": "markdown",
   "id": "cd1da582",
   "metadata": {},
   "source": [
    "## (Context) Functions Returning other Functions"
   ]
  },
  {
   "cell_type": "code",
   "execution_count": 3,
   "id": "6f529cbd",
   "metadata": {},
   "outputs": [
    {
     "data": {
      "text/plain": [
       "'Hi'"
      ]
     },
     "execution_count": 3,
     "metadata": {},
     "output_type": "execute_result"
    }
   ],
   "source": [
    "def hello_function():\n",
    "    def say_hi():\n",
    "        return \"Hi\"\n",
    "    return say_hi\n",
    "hello = hello_function()\n",
    "hello() #llamo a la funcion say_hi()"
   ]
  },
  {
   "cell_type": "markdown",
   "id": "449a8606",
   "metadata": {},
   "source": [
    "## (Context) Nested Functions have access to the Enclosing Function's Variable Scope - Las funciones anidadas tienen acceso al ámbito variable de la función envolvente"
   ]
  },
  {
   "cell_type": "code",
   "execution_count": 4,
   "id": "cbc70cc7",
   "metadata": {},
   "outputs": [
    {
     "name": "stdout",
     "output_type": "stream",
     "text": [
      "Some random message\n"
     ]
    }
   ],
   "source": [
    "def print_message(message):\n",
    "    \"Enclosing Function\"\n",
    "    def message_sender():\n",
    "        \"Nested Function\"\n",
    "        print(message)\n",
    "\n",
    "    message_sender()\n",
    "\n",
    "print_message(\"Some random message\")"
   ]
  },
  {
   "cell_type": "markdown",
   "id": "f32a608c",
   "metadata": {},
   "source": [
    "## Creating Decorators - a simple decorator that will convert a sentence to uppercase\n",
    "wrapper - n. envoltura.  \n",
    "uppercase - n. mayúscula."
   ]
  },
  {
   "cell_type": "code",
   "execution_count": 12,
   "id": "3ba5fdc0",
   "metadata": {},
   "outputs": [
    {
     "data": {
      "text/plain": [
       "'HELLO THERE'"
      ]
     },
     "execution_count": 12,
     "metadata": {},
     "output_type": "execute_result"
    }
   ],
   "source": [
    "def uppercase_decorator(function):\n",
    "    def wrapper():\n",
    "        func = function() # func = 'hello there'\n",
    "        make_uppercase = func.upper()\n",
    "        return make_uppercase\n",
    "    \n",
    "    return wrapper\n",
    "\n",
    "def say_hi():\n",
    "    return 'hello there'\n",
    "\n",
    "decorate = uppercase_decorator(say_hi) # decorate = wrapper()\n",
    "decorate() "
   ]
  },
  {
   "cell_type": "markdown",
   "id": "1c04475a",
   "metadata": {},
   "source": [
    "## However, Python provides a much easier way for us to apply decorators. We simply use the @ symbol before the function we'd like to decorate. Let's show that in practice below."
   ]
  },
  {
   "cell_type": "code",
   "execution_count": 18,
   "id": "85c4aec1",
   "metadata": {},
   "outputs": [
    {
     "data": {
      "text/plain": [
       "'HELLO THERE'"
      ]
     },
     "execution_count": 18,
     "metadata": {},
     "output_type": "execute_result"
    }
   ],
   "source": [
    "@uppercase_decorator\n",
    "def say_hi():\n",
    "    return 'hello there'\n",
    "\n",
    "say_hi()"
   ]
  },
  {
   "cell_type": "markdown",
   "id": "603e6598",
   "metadata": {},
   "source": [
    "## Applying Multiple Decorators to a Single Function"
   ]
  },
  {
   "cell_type": "code",
   "execution_count": 22,
   "id": "ed7f6d6b",
   "metadata": {},
   "outputs": [
    {
     "data": {
      "text/plain": [
       "['hello', 'there']"
      ]
     },
     "execution_count": 22,
     "metadata": {},
     "output_type": "execute_result"
    }
   ],
   "source": [
    "def split_string(function):\n",
    "    def wrapper():\n",
    "        func = function()\n",
    "        splitted_string = func.split()\n",
    "        return splitted_string\n",
    "\n",
    "    return wrapper\n",
    "\n",
    "def say_hi():\n",
    "    return 'hello there'\n",
    "\n",
    "decorate = split_string(say_hi) # decorate = wrapper()\n",
    "decorate() "
   ]
  },
  {
   "cell_type": "code",
   "execution_count": 25,
   "id": "0f500f7c",
   "metadata": {},
   "outputs": [
    {
     "data": {
      "text/plain": [
       "['hello', 'there']"
      ]
     },
     "execution_count": 25,
     "metadata": {},
     "output_type": "execute_result"
    }
   ],
   "source": [
    "@split_string\n",
    "def say_hi():\n",
    "    return 'hello there'\n",
    "say_hi()"
   ]
  },
  {
   "cell_type": "code",
   "execution_count": 31,
   "id": "8199d593",
   "metadata": {},
   "outputs": [
    {
     "data": {
      "text/plain": [
       "['HELLO', 'THERE']"
      ]
     },
     "execution_count": 31,
     "metadata": {},
     "output_type": "execute_result"
    }
   ],
   "source": [
    "@split_string\n",
    "@uppercase_decorator \n",
    "def say_hi():\n",
    "    return 'hello there'\n",
    "say_hi()"
   ]
  },
  {
   "cell_type": "markdown",
   "id": "d412da51",
   "metadata": {},
   "source": [
    "### Así se escribiría lo anterior en un solo bloque de código:"
   ]
  },
  {
   "cell_type": "code",
   "execution_count": 32,
   "id": "f7df125c",
   "metadata": {},
   "outputs": [
    {
     "data": {
      "text/plain": [
       "['HELLO', 'THERE']"
      ]
     },
     "execution_count": 32,
     "metadata": {},
     "output_type": "execute_result"
    }
   ],
   "source": [
    "#observación: el orden de los decoradores importa. Si los intercambio de posición, hay error!\n",
    "#The decorators will be applied in the order that we've called them. The application of decorators is from the bottom up.\n",
    "def uppercase_decorator(function):\n",
    "    def wrapper():\n",
    "        func = function() # func = 'hello there'\n",
    "        make_uppercase = func.upper()\n",
    "        return make_uppercase\n",
    "    \n",
    "    return wrapper\n",
    "\n",
    "def split_string(function):\n",
    "    def wrapper():\n",
    "        func = function()\n",
    "        splitted_string = func.split()\n",
    "        return splitted_string\n",
    "\n",
    "    return wrapper\n",
    "\n",
    "@split_string\n",
    "@uppercase_decorator \n",
    "def say_hi():\n",
    "    return 'hello there'\n",
    "say_hi()"
   ]
  },
  {
   "cell_type": "markdown",
   "id": "c018832d",
   "metadata": {},
   "source": [
    "## Accepting Arguments in Decorator Functions"
   ]
  },
  {
   "cell_type": "code",
   "execution_count": 34,
   "id": "82367897",
   "metadata": {},
   "outputs": [
    {
     "name": "stdout",
     "output_type": "stream",
     "text": [
      "My arguments are: Nairobi, Accra\n",
      "Cities I love are Nairobi and Accra\n"
     ]
    }
   ],
   "source": [
    "# define a decorator that accepts arguments\n",
    "def decorator_with_arguments(function):\n",
    "    def wrapper_accepting_arguments(arg1, arg2):\n",
    "        print(\"My arguments are: {0}, {1}\".format(arg1,arg2))\n",
    "        function(arg1, arg2)\n",
    "    return wrapper_accepting_arguments\n",
    "    \n",
    "\n",
    "@decorator_with_arguments\n",
    "def cities(city_one, city_two):\n",
    "    print(\"Cities I love are {0} and {1}\".format(city_one, city_two))\n",
    "\n",
    "cities(\"Nairobi\", \"Accra\")"
   ]
  },
  {
   "cell_type": "markdown",
   "id": "f919c6e0",
   "metadata": {},
   "source": [
    "## Defining General Purpose Decorators"
   ]
  },
  {
   "cell_type": "code",
   "execution_count": 49,
   "id": "c57fc6ba",
   "metadata": {},
   "outputs": [
    {
     "name": "stdout",
     "output_type": "stream",
     "text": [
      "The positional arguments are ()\n",
      "The keyword arguments are {}\n",
      "No arguments here.\n"
     ]
    }
   ],
   "source": [
    "def a_decorator_passing_arbitrary_arguments(function_to_decorate): # function_to_decorate = function_with_no_argument()\n",
    "    def a_wrapper_accepting_arbitrary_arguments(*args,**kwargs):\n",
    "        print('The positional arguments are', args)\n",
    "        print('The keyword arguments are', kwargs)\n",
    "        function_to_decorate(*args)\n",
    "    return a_wrapper_accepting_arbitrary_arguments\n",
    "\n",
    "@a_decorator_passing_arbitrary_arguments\n",
    "def function_with_no_argument():\n",
    "    print(\"No arguments here.\")\n",
    "\n",
    "function_with_no_argument()"
   ]
  },
  {
   "cell_type": "code",
   "execution_count": 50,
   "id": "5ef05884",
   "metadata": {},
   "outputs": [
    {
     "name": "stdout",
     "output_type": "stream",
     "text": [
      "The positional arguments are (1, 2, 3)\n",
      "The keyword arguments are {}\n",
      "1 2 3\n"
     ]
    }
   ],
   "source": [
    "def a_decorator_passing_arbitrary_arguments(function_to_decorate): # function_to_decorate = function_with_arguments(a, b, c)\n",
    "    def a_wrapper_accepting_arbitrary_arguments(*args,**kwargs):\n",
    "        print('The positional arguments are', args)\n",
    "        print('The keyword arguments are', kwargs)\n",
    "        function_to_decorate(*args)\n",
    "    return a_wrapper_accepting_arbitrary_arguments\n",
    "\n",
    "@a_decorator_passing_arbitrary_arguments\n",
    "def function_with_arguments(a, b, c):\n",
    "    print(a, b, c)\n",
    "\n",
    "function_with_arguments(1,2,3)"
   ]
  },
  {
   "cell_type": "code",
   "execution_count": 52,
   "id": "c711a32d",
   "metadata": {},
   "outputs": [
    {
     "name": "stdout",
     "output_type": "stream",
     "text": [
      "The positional arguments are ()\n",
      "The keyword arguments are {'first_name': 'Derrick', 'last_name': 'Mwiti'}\n",
      "This has shown keyword arguments\n"
     ]
    }
   ],
   "source": [
    "# Keyword arguments are passed using keywords\n",
    "def a_decorator_passing_arbitrary_arguments(function_to_decorate): # function_to_decorate = function_with_keyword_arguments()\n",
    "    def a_wrapper_accepting_arbitrary_arguments(*args,**kwargs):\n",
    "        print('The positional arguments are', args)\n",
    "        print('The keyword arguments are', kwargs)\n",
    "        function_to_decorate(*args)\n",
    "    return a_wrapper_accepting_arbitrary_arguments\n",
    "\n",
    "@a_decorator_passing_arbitrary_arguments\n",
    "def function_with_keyword_arguments():\n",
    "    print(\"This has shown keyword arguments\")\n",
    "\n",
    "function_with_keyword_arguments(first_name=\"Derrick\", last_name=\"Mwiti\")"
   ]
  },
  {
   "cell_type": "code",
   "execution_count": null,
   "id": "1b169691",
   "metadata": {},
   "outputs": [],
   "source": [
    "# Keyword arguments are passed using keywords\n",
    "def a_decorator_passing_arbitrary_arguments(function_to_decorate): # function_to_decorate = function_with_keyword_arguments()\n",
    "    def a_wrapper_accepting_arbitrary_arguments(*args,**kwargs):\n",
    "        print('The positional arguments are', args)\n",
    "        print('The keyword arguments are', kwargs)\n",
    "        function_to_decorate(*args)\n",
    "    return a_wrapper_accepting_arbitrary_arguments\n",
    "\n",
    "class clase:\n",
    "    @a_decorator_passing_arbitrary_arguments\n",
    "    def function_with_keyword_arguments():\n",
    "        print(\"This has shown keyword arguments\")\n",
    "\n",
    "obj=clase()\n",
    "obj.function_with_keyword_arguments(first_name=\"Derrick\", last_name=\"Mwiti\")"
   ]
  },
  {
   "cell_type": "code",
   "execution_count": 53,
   "id": "cf6b2738",
   "metadata": {},
   "outputs": [
    {
     "name": "stdout",
     "output_type": "stream",
     "text": [
      "Hola\n"
     ]
    }
   ],
   "source": [
    "hola() #en Jupyter, no importa el orden del codigo en las celdas, como en cualquier otro entorno de programacion en Python."
   ]
  },
  {
   "cell_type": "code",
   "execution_count": 46,
   "id": "3ff8dfe1",
   "metadata": {},
   "outputs": [],
   "source": [
    "def hola():\n",
    "    print(\"Hola\")"
   ]
  },
  {
   "cell_type": "code",
   "execution_count": 1,
   "id": "e6f1d26a",
   "metadata": {},
   "outputs": [
    {
     "name": "stdout",
     "output_type": "stream",
     "text": [
      "Hola\n"
     ]
    },
    {
     "data": {
      "text/plain": [
       "<__main__.Hola at 0x275fc3a8c50>"
      ]
     },
     "execution_count": 1,
     "metadata": {},
     "output_type": "execute_result"
    }
   ],
   "source": []
  },
  {
   "cell_type": "code",
   "execution_count": 11,
   "id": "9d55ae66",
   "metadata": {},
   "outputs": [
    {
     "name": "stdout",
     "output_type": "stream",
     "text": [
      "Hola\n",
      "Jorge\n"
     ]
    }
   ],
   "source": [
    "class prueba:\n",
    "    def __init__(self):\n",
    "        f()\n",
    "        self.check()\n",
    "    def check(self):\n",
    "        print(\"Jorge\")\n",
    "\n",
    "def f():\n",
    "    print(\"Hola\")\n",
    "    \n",
    "p=prueba()"
   ]
  },
  {
   "cell_type": "code",
   "execution_count": 79,
   "id": "1e01232c",
   "metadata": {},
   "outputs": [
    {
     "name": "stdout",
     "output_type": "stream",
     "text": [
      "valor = 1\n"
     ]
    },
    {
     "ename": "TypeError",
     "evalue": "clase.funcion() missing 1 required positional argument: 'a'",
     "output_type": "error",
     "traceback": [
      "\u001b[1;31m---------------------------------------------------------------------------\u001b[0m",
      "\u001b[1;31mTypeError\u001b[0m                                 Traceback (most recent call last)",
      "Cell \u001b[1;32mIn[79], line 5\u001b[0m\n\u001b[0;32m      2\u001b[0m     \u001b[38;5;28mprint\u001b[39m(\u001b[38;5;124mf\u001b[39m\u001b[38;5;124m\"\u001b[39m\u001b[38;5;124mvalor = \u001b[39m\u001b[38;5;132;01m{\u001b[39;00ma\u001b[38;5;132;01m}\u001b[39;00m\u001b[38;5;124m\"\u001b[39m)\n\u001b[0;32m      3\u001b[0m     func(a)\n\u001b[1;32m----> 5\u001b[0m \u001b[38;5;28;43;01mclass\u001b[39;49;00m\u001b[43m \u001b[49m\u001b[38;5;21;43;01mclase\u001b[39;49;00m\u001b[43m(\u001b[49m\u001b[43m)\u001b[49m\u001b[43m:\u001b[49m\n\u001b[0;32m      6\u001b[0m \u001b[43m    \u001b[49m\u001b[38;5;28;43;01mdef\u001b[39;49;00m\u001b[43m \u001b[49m\u001b[38;5;21;43m__init__\u001b[39;49m\u001b[43m(\u001b[49m\u001b[38;5;28;43mself\u001b[39;49m\u001b[43m,\u001b[49m\u001b[43m \u001b[49m\u001b[43ma\u001b[49m\u001b[43m)\u001b[49m\u001b[43m:\u001b[49m\n\u001b[0;32m      7\u001b[0m \u001b[43m        \u001b[49m\u001b[38;5;28;43mself\u001b[39;49m\u001b[38;5;241;43m.\u001b[39;49m\u001b[43mfuncion\u001b[49m\u001b[43m(\u001b[49m\u001b[43ma\u001b[49m\u001b[43m)\u001b[49m\u001b[43m \u001b[49m\n",
      "Cell \u001b[1;32mIn[79], line 9\u001b[0m, in \u001b[0;36mclase\u001b[1;34m()\u001b[0m\n\u001b[0;32m      6\u001b[0m \u001b[38;5;28;01mdef\u001b[39;00m \u001b[38;5;21m__init__\u001b[39m(\u001b[38;5;28mself\u001b[39m, a):\n\u001b[0;32m      7\u001b[0m     \u001b[38;5;28mself\u001b[39m\u001b[38;5;241m.\u001b[39mfuncion(a) \n\u001b[1;32m----> 9\u001b[0m \u001b[43m\u001b[49m\u001b[38;5;129;43m@decorador\u001b[39;49m\n\u001b[0;32m     10\u001b[0m \u001b[43m\u001b[49m\u001b[38;5;28;43;01mdef\u001b[39;49;00m\u001b[43m \u001b[49m\u001b[38;5;21;43mfuncion\u001b[39;49m\u001b[43m(\u001b[49m\u001b[38;5;28;43mself\u001b[39;49m\u001b[43m,\u001b[49m\u001b[43m \u001b[49m\u001b[43ma\u001b[49m\u001b[43m)\u001b[49m\u001b[43m:\u001b[49m\n\u001b[0;32m     11\u001b[0m \u001b[43m    \u001b[49m\u001b[38;5;28;43mprint\u001b[39;49m\u001b[43m(\u001b[49m\u001b[38;5;124;43mf\u001b[39;49m\u001b[38;5;124;43m\"\u001b[39;49m\u001b[38;5;124;43mprueba = \u001b[39;49m\u001b[38;5;132;43;01m{\u001b[39;49;00m\u001b[38;5;28;43mstr\u001b[39;49m\u001b[43m(\u001b[49m\u001b[43ma\u001b[49m\u001b[43m)\u001b[49m\u001b[38;5;132;43;01m}\u001b[39;49;00m\u001b[38;5;124;43m\"\u001b[39;49m\u001b[43m)\u001b[49m\n",
      "Cell \u001b[1;32mIn[79], line 3\u001b[0m, in \u001b[0;36mdecorador\u001b[1;34m(func)\u001b[0m\n\u001b[0;32m      1\u001b[0m \u001b[38;5;28;01mdef\u001b[39;00m \u001b[38;5;21mdecorador\u001b[39m(func):\n\u001b[0;32m      2\u001b[0m     \u001b[38;5;28mprint\u001b[39m(\u001b[38;5;124mf\u001b[39m\u001b[38;5;124m\"\u001b[39m\u001b[38;5;124mvalor = \u001b[39m\u001b[38;5;132;01m{\u001b[39;00ma\u001b[38;5;132;01m}\u001b[39;00m\u001b[38;5;124m\"\u001b[39m)\n\u001b[1;32m----> 3\u001b[0m     \u001b[43mfunc\u001b[49m\u001b[43m(\u001b[49m\u001b[43ma\u001b[49m\u001b[43m)\u001b[49m\n",
      "\u001b[1;31mTypeError\u001b[0m: clase.funcion() missing 1 required positional argument: 'a'"
     ]
    }
   ],
   "source": [
    "def decorador(func):\n",
    "    print(f\"valor = {a}\")\n",
    "    func(a)\n",
    "    \n",
    "class clase():\n",
    "    def __init__(self, a):\n",
    "        self.funcion(a) \n",
    "        \n",
    "    @decorador\n",
    "    def funcion(self, a):\n",
    "        print(f\"prueba = {str(a)}\")\n",
    "        \n",
    "obj=clase([1,2,3])"
   ]
  },
  {
   "cell_type": "code",
   "execution_count": 92,
   "id": "146bf553",
   "metadata": {},
   "outputs": [
    {
     "name": "stdout",
     "output_type": "stream",
     "text": [
      "True\n"
     ]
    }
   ],
   "source": [
    "import os\n",
    "from pathlib import Path\n",
    "\n",
    "path = Path(r'C:\\Users\\Windows 10\\Desktop\\UNIQUINDÍO\\5to Semestre\\Parcial2\\data_base3.xlsx')\n",
    "\n",
    "print(path.is_file())"
   ]
  },
  {
   "cell_type": "code",
   "execution_count": 16,
   "id": "229fd534",
   "metadata": {},
   "outputs": [
    {
     "name": "stdout",
     "output_type": "stream",
     "text": [
      "['state', 'P', 'V', 'T']\n"
     ]
    }
   ],
   "source": [
    "L=[('state', b'varchar(255)', 'YES', '', None, ''), \n",
    "   ('P', b'float(7,2)', 'YES', '', None, ''), \n",
    "   ('V', b'float(7,2)', 'YES', '', None, ''), \n",
    "   ('T', b'float(7,2)', 'YES', '', None, '')]\n",
    "L[1][0]\n",
    "len(L)\n",
    "\n",
    "M=[]\n",
    "for i in range(len(L)): \n",
    "    M.append(L[i][0])\n",
    "print(M)"
   ]
  },
  {
   "cell_type": "code",
   "execution_count": 17,
   "id": "de404d52",
   "metadata": {},
   "outputs": [
    {
     "name": "stdout",
     "output_type": "stream",
     "text": [
      "{'12': 'erg', '43f': 'y6', '97': '44', '984': 'rgrrg', '87': 'efrb'}\n"
     ]
    }
   ],
   "source": [
    "df1={'12':'erg','43f':'y6'}\n",
    "df2={'97':'44','984':'rgrrg','87':'efrb'}\n",
    "df={**df1,**df2}\n",
    "print(df)"
   ]
  },
  {
   "cell_type": "code",
   "execution_count": null,
   "id": "87b416ba",
   "metadata": {},
   "outputs": [],
   "source": []
  }
 ],
 "metadata": {
  "kernelspec": {
   "display_name": "Python 3 (ipykernel)",
   "language": "python",
   "name": "python3"
  },
  "language_info": {
   "codemirror_mode": {
    "name": "ipython",
    "version": 3
   },
   "file_extension": ".py",
   "mimetype": "text/x-python",
   "name": "python",
   "nbconvert_exporter": "python",
   "pygments_lexer": "ipython3",
   "version": "3.11.2"
  }
 },
 "nbformat": 4,
 "nbformat_minor": 5
}
