{
 "cells": [
  {
   "cell_type": "markdown",
   "id": "aaf06114",
   "metadata": {},
   "source": [
    "# Teoría\n",
    "\n",
    "## ¿Qué es MyQSL?\n",
    "MySQL es un sistema de gestión de bases de datos relacional.\n",
    "## ¿Qué es una base de datos relacional?\n",
    "Una base de datos relacional (RDB) es una forma de estructurar información en tablas, filas y columnas. Un RDB tiene la capacidad de establecer vínculos (o relaciones) entre información mediante la unión de tablas, lo que facilita la comprensión y la obtención de estadísticas sobre la relación entre varios datos.\n",
    "## MySQL Connector\n",
    "MySQL Connector/Python enables Python programs to access MySQL databases. MySQL Connector/Python includes support for converting parameter values back and forth between Python and MySQL data types.  \n",
    "MySQL Python/Connector is an interface for connecting to a MySQL database server from \n",
    "Python. It implements the Python Database API and is built on top of the MySQL.\n",
    "\n",
    "## connect()\n",
    "The connect() constructor creates a connection to the MySQL server and returns an object of the\n",
    "MySQLConnection class.\n",
    "\n",
    "## Exception\n",
    "Cuando una porción de código quiere indicar que ocurrió un error, se dice que debe lanzar una excepción. An exception is an event, which occurs during the execution of a program that disrupts the normal flow of the program's instructions. Raising an exception is a technique for interrupting the normal flow of execution in a program, signaling that some exceptional circumstance has arisen, and returning directly to an enclosing part of the program that was designated to react to that circumstance.\n",
    "\n",
    "## raise\n",
    "The raise keyword is used to raise an exception. You can define what kind of error to raise, and the text to print to the user."
   ]
  },
  {
   "cell_type": "markdown",
   "id": "6835bcf0",
   "metadata": {},
   "source": [
    "## contraseña mal dada:\n",
    "### MySQLInterfaceError: Access denied for user 'root'@'localhost' (using password: YES)\n",
    "### ProgrammingError: 1045 (28000): Access denied for user 'root'@'localhost' (using password: YES)\n",
    "## el host no existe:\n",
    "### MySQLInterfaceError: Unknown MySQL server host 'localhos' (11001)\n",
    "### DatabaseError: 2005 (HY000): Unknown MySQL server host 'localhos' (11001)"
   ]
  },
  {
   "cell_type": "code",
   "execution_count": 36,
   "id": "91617159",
   "metadata": {},
   "outputs": [
    {
     "name": "stdout",
     "output_type": "stream",
     "text": [
      "<class 'mysql.connector.connection_cext.CMySQLConnection'>\n",
      "<class 'mysql.connector.cursor_cext.CMySQLCursor'>\n",
      "CMySQLCursor: SHOW DATABASES\n",
      "('information_schema',)\n",
      "('mydb_thermo',)\n",
      "('mysql',)\n",
      "('performance_schema',)\n",
      "('sys',)\n",
      "('testdb',)\n",
      "[]\n",
      "CMySQLCursor: SHOW DATABASES\n",
      "<class 'mysql.connector.connection_cext.CMySQLConnection'>\n",
      "<class 'mysql.connector.cursor_cext.CMySQLCursor'>\n"
     ]
    }
   ],
   "source": [
    "import mysql.connector \n",
    "conn = mysql.connector.connect(\n",
    "        host=\"localhost\", # The MySQL hostname defines the location of your MySQL server and database\n",
    "        user=\"root\",\n",
    "        passwd=\"Himenesumusic_13\",\n",
    "    )\n",
    "cursor=conn.cursor()\n",
    "\n",
    "cursor.execute(\"SHOW DATABASES\")\n",
    "\n",
    "print(type(conn))\n",
    "print(type(cursor))\n",
    "\n",
    "print(cursor)\n",
    "\n",
    "# para ver mis bases de datos, puedo usar:\n",
    "for x in cursor:\n",
    "    print(x)\n",
    "    \n",
    "# o también puedo usar:\n",
    "print(cursor.fetchall())\n",
    "\n",
    "\n",
    "\n",
    "conn.close()\n",
    "\n",
    "print(cursor) # aún funciona\n",
    "for x in cursor:\n",
    "    print(x) # Al cerrar la conexión, ya no me muestra las bases de datos\n",
    "\n",
    "print(type(conn)) # aún funciona\n",
    "print(type(cursor)) # aún funciona\n",
    "\n",
    "# cursor=conn.cursor() # Al cerrar la conexión, aparece la excepción 'OperationalError: MySQL Connection not available.'"
   ]
  },
  {
   "cell_type": "markdown",
   "id": "263126b7",
   "metadata": {},
   "source": [
    "## cursor()\n",
    "The MySQLCursor class instantiates objects that can execute operations such as SQL statements. Cursor objects interact with the MySQL server using a MySQLConnection object. To create a cursor, use the cursor() method of a connection object: import mysql.  \n",
    "All DDL (Data Definition Language) statements are executed using a handle structure known as a cursor.  \n",
    "The MySQLCursor of mysql-connector-python (and similar libraries) is used to execute statements to communicate with the MySQL database. Using the methods of it you can execute SQL statements, fetch data from the result sets, call procedures.  \n",
    "Itera sobre datos.  \n",
    "Itera sobre registros.\n",
    "\n",
    "## MySQL statement (sentencia de MySQL)\n",
    "### Listado de sentencias básicas en SQL\n",
    "SELECT se utiliza para consultar datos.  \n",
    "DISTINCT sirve para eliminar los duplicados de las consultas de datos.  \n",
    "WHERE se utiliza para incluir las condiciones de los datos que queremos consultar.  \n",
    "AND y OR se utilizan para incluir 2 o más condiciones a una consulta.  \n",
    "ORDER BY se utiliza para ordenar los resultados de una consulta.  \n",
    "INSERT se utiliza para insertar datos.  \n",
    "UPDATE se utiliza para actualizar o modificar datos ya existentes.  \n",
    "DELETE se utiliza para borrar datos.\n",
    "\n",
    "\n",
    "## ROLLBACK AND COMMIT\n",
    "ROLLBACK: fuerza que se deshaga la transacción en caso de haber un problema o querer abandonarla. Cierra la transacción.  \n",
    "COMMIT: confirma el conjunto de operaciones convirtiendo los datos en definitivos. Marca el éxito de la operación de bloque y cierra la transacción.  \n",
    "COMMIT: Termina la transacción guardando en la base de datos todos los cambios realizados por la transacción. Cualquier tipo de bloqueo que se mantuviera durante la transacción queda liberado.  \n",
    "ROLLBACK: Termina la transacción deshaciendo todos los cambios que hubiera realizado sobre la base de datos.\n",
    "\n",
    "## Query (Consulta)\n",
    "Una consulta o query de una base de datos, es un lenguaje estándar que permite traer datos de una o más tablas, para adicionar, actualizar o eliminar contenidos, de una manera rápida y poderosa. Hacer una consulta puede ser leer tablas, actualizar, insertar, eliminar, etc\n",
    "\n",
    "## CRUD\n",
    "Create \"crear un registro\"  \n",
    "Read \"leer uno o más registros\"  \n",
    "Update \"actualizar un registro\"  \n",
    "Delete \"eliminar\""
   ]
  },
  {
   "cell_type": "markdown",
   "id": "46e2e79e",
   "metadata": {},
   "source": [
    "## Como usar try-except cuando voy a abrir una conexión con MySQL"
   ]
  },
  {
   "cell_type": "code",
   "execution_count": 56,
   "id": "fa4ddd90",
   "metadata": {},
   "outputs": [
    {
     "name": "stdout",
     "output_type": "stream",
     "text": [
      "...\n",
      "[('information_schema',), ('mydb_thermo',), ('mysql',), ('performance_schema',), ('sys',), ('testdb',)]\n"
     ]
    }
   ],
   "source": [
    "import mysql.connector \n",
    "from mysql.connector import errorcode\n",
    "\n",
    "try:\n",
    "    conn = mysql.connector.connect(\n",
    "            host=\"localhot\", # The MySQL hostname defines the location of your MySQL server and database\n",
    "            user=\"root\",\n",
    "            passwd=\"Himenesumusic_13\",\n",
    "            database='testdb'\n",
    "        )\n",
    "except mysql.connector.Error as err:\n",
    "    if err.errno == errorcode.ER_ACCESS_DENIED_ERROR:\n",
    "        print(err)\n",
    "    else:\n",
    "        print(err)\n",
    "        #print(\"Something is wrong with your user name or password\")\n",
    "    #elif err.errno == errorcode.ER_BAD_DB_ERROR:\n",
    "         #print(\"Database does not exist\")\n",
    "    #else:\n",
    "        #print(err) # caso en el cual, se imprimiría la excepción debido al host ingresado.\n",
    "else:\n",
    "    print(\"...\")\n",
    "    cursor=conn.cursor()\n",
    "    cursor.execute(\"SHOW DATABASES\")\n",
    "    print(cursor.fetchall())\n",
    "    conn.close()"
   ]
  },
  {
   "cell_type": "markdown",
   "id": "5e9fa20c",
   "metadata": {},
   "source": [
    "## SyntaxError: positional argument follows keyword argument"
   ]
  },
  {
   "cell_type": "code",
   "execution_count": 67,
   "id": "7099aa0d",
   "metadata": {},
   "outputs": [
    {
     "ename": "SyntaxError",
     "evalue": "positional argument follows keyword argument (3721860876.py, line 4)",
     "output_type": "error",
     "traceback": [
      "\u001b[1;36m  Cell \u001b[1;32mIn[67], line 4\u001b[1;36m\u001b[0m\n\u001b[1;33m    funcionX(\"a\",a=\"a\",-1)\u001b[0m\n\u001b[1;37m                         ^\u001b[0m\n\u001b[1;31mSyntaxError\u001b[0m\u001b[1;31m:\u001b[0m positional argument follows keyword argument\n"
     ]
    }
   ],
   "source": [
    "def funcionX(*args,**kwargs):\n",
    "    print(\"X\")\n",
    "    \n",
    "funcionX(\"a\",a=\"a\",-1)"
   ]
  },
  {
   "cell_type": "markdown",
   "id": "edebe4e2",
   "metadata": {},
   "source": [
    "# DECORATORS"
   ]
  },
  {
   "cell_type": "markdown",
   "id": "130291e0",
   "metadata": {},
   "source": [
    "## (Context) Defining Functions Inside other Functions"
   ]
  },
  {
   "cell_type": "code",
   "execution_count": 1,
   "id": "8a225ec1",
   "metadata": {},
   "outputs": [
    {
     "data": {
      "text/plain": [
       "5"
      ]
     },
     "execution_count": 1,
     "metadata": {},
     "output_type": "execute_result"
    }
   ],
   "source": [
    "def plus_one(number):\n",
    "    def add_one(number):\n",
    "        return number + 1\n",
    "\n",
    "\n",
    "    result = add_one(number)\n",
    "    return result\n",
    "plus_one(4)"
   ]
  },
  {
   "cell_type": "markdown",
   "id": "222cff7d",
   "metadata": {},
   "source": [
    "## (Context) Passing Functions as Arguments to other Functions"
   ]
  },
  {
   "cell_type": "code",
   "execution_count": 2,
   "id": "5ebdcd6d",
   "metadata": {},
   "outputs": [
    {
     "data": {
      "text/plain": [
       "6"
      ]
     },
     "execution_count": 2,
     "metadata": {},
     "output_type": "execute_result"
    }
   ],
   "source": [
    "def plus_one(number):\n",
    "    return number + 1\n",
    "\n",
    "def function_call(function):\n",
    "    number_to_add = 5\n",
    "    return function(number_to_add)\n",
    "\n",
    "function_call(plus_one)"
   ]
  },
  {
   "cell_type": "markdown",
   "id": "cd1da582",
   "metadata": {},
   "source": [
    "## (Context) Functions Returning other Functions"
   ]
  },
  {
   "cell_type": "code",
   "execution_count": 3,
   "id": "6f529cbd",
   "metadata": {},
   "outputs": [
    {
     "data": {
      "text/plain": [
       "'Hi'"
      ]
     },
     "execution_count": 3,
     "metadata": {},
     "output_type": "execute_result"
    }
   ],
   "source": [
    "def hello_function():\n",
    "    def say_hi():\n",
    "        return \"Hi\"\n",
    "    return say_hi\n",
    "hello = hello_function()\n",
    "hello() #llamo a la funcion say_hi()"
   ]
  },
  {
   "cell_type": "markdown",
   "id": "449a8606",
   "metadata": {},
   "source": [
    "## (Context) Nested Functions have access to the Enclosing Function's Variable Scope - Las funciones anidadas tienen acceso al ámbito variable de la función envolvente"
   ]
  },
  {
   "cell_type": "code",
   "execution_count": 4,
   "id": "cbc70cc7",
   "metadata": {},
   "outputs": [
    {
     "name": "stdout",
     "output_type": "stream",
     "text": [
      "Some random message\n"
     ]
    }
   ],
   "source": [
    "def print_message(message):\n",
    "    \"Enclosing Function\"\n",
    "    def message_sender():\n",
    "        \"Nested Function\"\n",
    "        print(message)\n",
    "\n",
    "    message_sender()\n",
    "\n",
    "print_message(\"Some random message\")"
   ]
  },
  {
   "cell_type": "markdown",
   "id": "f32a608c",
   "metadata": {},
   "source": [
    "## Creating Decorators - a simple decorator that will convert a sentence to uppercase\n",
    "wrapper - n. envoltura.  \n",
    "uppercase - n. mayúscula."
   ]
  },
  {
   "cell_type": "code",
   "execution_count": 12,
   "id": "3ba5fdc0",
   "metadata": {},
   "outputs": [
    {
     "data": {
      "text/plain": [
       "'HELLO THERE'"
      ]
     },
     "execution_count": 12,
     "metadata": {},
     "output_type": "execute_result"
    }
   ],
   "source": [
    "def uppercase_decorator(function):\n",
    "    def wrapper():\n",
    "        func = function() # func = 'hello there'\n",
    "        make_uppercase = func.upper()\n",
    "        return make_uppercase\n",
    "    \n",
    "    return wrapper\n",
    "\n",
    "def say_hi():\n",
    "    return 'hello there'\n",
    "\n",
    "decorate = uppercase_decorator(say_hi) # decorate = wrapper()\n",
    "decorate() "
   ]
  },
  {
   "cell_type": "markdown",
   "id": "1c04475a",
   "metadata": {},
   "source": [
    "## However, Python provides a much easier way for us to apply decorators. We simply use the @ symbol before the function we'd like to decorate. Let's show that in practice below."
   ]
  },
  {
   "cell_type": "code",
   "execution_count": 18,
   "id": "85c4aec1",
   "metadata": {},
   "outputs": [
    {
     "data": {
      "text/plain": [
       "'HELLO THERE'"
      ]
     },
     "execution_count": 18,
     "metadata": {},
     "output_type": "execute_result"
    }
   ],
   "source": [
    "@uppercase_decorator\n",
    "def say_hi():\n",
    "    return 'hello there'\n",
    "\n",
    "say_hi()"
   ]
  },
  {
   "cell_type": "markdown",
   "id": "603e6598",
   "metadata": {},
   "source": [
    "## Applying Multiple Decorators to a Single Function"
   ]
  },
  {
   "cell_type": "code",
   "execution_count": 22,
   "id": "ed7f6d6b",
   "metadata": {},
   "outputs": [
    {
     "data": {
      "text/plain": [
       "['hello', 'there']"
      ]
     },
     "execution_count": 22,
     "metadata": {},
     "output_type": "execute_result"
    }
   ],
   "source": [
    "def split_string(function):\n",
    "    def wrapper():\n",
    "        func = function()\n",
    "        splitted_string = func.split()\n",
    "        return splitted_string\n",
    "\n",
    "    return wrapper\n",
    "\n",
    "def say_hi():\n",
    "    return 'hello there'\n",
    "\n",
    "decorate = split_string(say_hi) # decorate = wrapper()\n",
    "decorate() "
   ]
  },
  {
   "cell_type": "code",
   "execution_count": 25,
   "id": "0f500f7c",
   "metadata": {},
   "outputs": [
    {
     "data": {
      "text/plain": [
       "['hello', 'there']"
      ]
     },
     "execution_count": 25,
     "metadata": {},
     "output_type": "execute_result"
    }
   ],
   "source": [
    "@split_string\n",
    "def say_hi():\n",
    "    return 'hello there'\n",
    "say_hi()"
   ]
  },
  {
   "cell_type": "code",
   "execution_count": 31,
   "id": "8199d593",
   "metadata": {},
   "outputs": [
    {
     "data": {
      "text/plain": [
       "['HELLO', 'THERE']"
      ]
     },
     "execution_count": 31,
     "metadata": {},
     "output_type": "execute_result"
    }
   ],
   "source": [
    "@split_string\n",
    "@uppercase_decorator \n",
    "def say_hi():\n",
    "    return 'hello there'\n",
    "say_hi()"
   ]
  },
  {
   "cell_type": "markdown",
   "id": "d412da51",
   "metadata": {},
   "source": [
    "### Así se escribiría lo anterior en un solo bloque de código:"
   ]
  },
  {
   "cell_type": "code",
   "execution_count": 32,
   "id": "f7df125c",
   "metadata": {},
   "outputs": [
    {
     "data": {
      "text/plain": [
       "['HELLO', 'THERE']"
      ]
     },
     "execution_count": 32,
     "metadata": {},
     "output_type": "execute_result"
    }
   ],
   "source": [
    "#observación: el orden de los decoradores importa. Si los intercambio de posición, hay error!\n",
    "#The decorators will be applied in the order that we've called them. The application of decorators is from the bottom up.\n",
    "def uppercase_decorator(function):\n",
    "    def wrapper():\n",
    "        func = function() # func = 'hello there'\n",
    "        make_uppercase = func.upper()\n",
    "        return make_uppercase\n",
    "    \n",
    "    return wrapper\n",
    "\n",
    "def split_string(function):\n",
    "    def wrapper():\n",
    "        func = function()\n",
    "        splitted_string = func.split()\n",
    "        return splitted_string\n",
    "\n",
    "    return wrapper\n",
    "\n",
    "@split_string\n",
    "@uppercase_decorator \n",
    "def say_hi():\n",
    "    return 'hello there'\n",
    "say_hi()"
   ]
  },
  {
   "cell_type": "markdown",
   "id": "c018832d",
   "metadata": {},
   "source": [
    "## Accepting Arguments in Decorator Functions"
   ]
  },
  {
   "cell_type": "code",
   "execution_count": 34,
   "id": "82367897",
   "metadata": {},
   "outputs": [
    {
     "name": "stdout",
     "output_type": "stream",
     "text": [
      "My arguments are: Nairobi, Accra\n",
      "Cities I love are Nairobi and Accra\n"
     ]
    }
   ],
   "source": [
    "# define a decorator that accepts arguments\n",
    "def decorator_with_arguments(function):\n",
    "    def wrapper_accepting_arguments(arg1, arg2):\n",
    "        print(\"My arguments are: {0}, {1}\".format(arg1,arg2))\n",
    "        function(arg1, arg2)\n",
    "    return wrapper_accepting_arguments\n",
    "    \n",
    "\n",
    "@decorator_with_arguments\n",
    "def cities(city_one, city_two):\n",
    "    print(\"Cities I love are {0} and {1}\".format(city_one, city_two))\n",
    "\n",
    "cities(\"Nairobi\", \"Accra\")"
   ]
  },
  {
   "cell_type": "markdown",
   "id": "f919c6e0",
   "metadata": {},
   "source": [
    "## Defining General Purpose Decorators"
   ]
  },
  {
   "cell_type": "code",
   "execution_count": 49,
   "id": "c57fc6ba",
   "metadata": {},
   "outputs": [
    {
     "name": "stdout",
     "output_type": "stream",
     "text": [
      "The positional arguments are ()\n",
      "The keyword arguments are {}\n",
      "No arguments here.\n"
     ]
    }
   ],
   "source": [
    "def a_decorator_passing_arbitrary_arguments(function_to_decorate): # function_to_decorate = function_with_no_argument()\n",
    "    def a_wrapper_accepting_arbitrary_arguments(*args,**kwargs):\n",
    "        print('The positional arguments are', args)\n",
    "        print('The keyword arguments are', kwargs)\n",
    "        function_to_decorate(*args)\n",
    "    return a_wrapper_accepting_arbitrary_arguments\n",
    "\n",
    "@a_decorator_passing_arbitrary_arguments\n",
    "def function_with_no_argument():\n",
    "    print(\"No arguments here.\")\n",
    "\n",
    "function_with_no_argument()"
   ]
  },
  {
   "cell_type": "code",
   "execution_count": 50,
   "id": "5ef05884",
   "metadata": {},
   "outputs": [
    {
     "name": "stdout",
     "output_type": "stream",
     "text": [
      "The positional arguments are (1, 2, 3)\n",
      "The keyword arguments are {}\n",
      "1 2 3\n"
     ]
    }
   ],
   "source": [
    "def a_decorator_passing_arbitrary_arguments(function_to_decorate): # function_to_decorate = function_with_arguments(a, b, c)\n",
    "    def a_wrapper_accepting_arbitrary_arguments(*args,**kwargs):\n",
    "        print('The positional arguments are', args)\n",
    "        print('The keyword arguments are', kwargs)\n",
    "        function_to_decorate(*args)\n",
    "    return a_wrapper_accepting_arbitrary_arguments\n",
    "\n",
    "@a_decorator_passing_arbitrary_arguments\n",
    "def function_with_arguments(a, b, c):\n",
    "    print(a, b, c)\n",
    "\n",
    "function_with_arguments(1,2,3)"
   ]
  },
  {
   "cell_type": "code",
   "execution_count": 52,
   "id": "c711a32d",
   "metadata": {},
   "outputs": [
    {
     "name": "stdout",
     "output_type": "stream",
     "text": [
      "The positional arguments are ()\n",
      "The keyword arguments are {'first_name': 'Derrick', 'last_name': 'Mwiti'}\n",
      "This has shown keyword arguments\n"
     ]
    }
   ],
   "source": [
    "# Keyword arguments are passed using keywords\n",
    "def a_decorator_passing_arbitrary_arguments(function_to_decorate): # function_to_decorate = function_with_keyword_arguments()\n",
    "    def a_wrapper_accepting_arbitrary_arguments(*args,**kwargs):\n",
    "        print('The positional arguments are', args)\n",
    "        print('The keyword arguments are', kwargs)\n",
    "        function_to_decorate(*args)\n",
    "    return a_wrapper_accepting_arbitrary_arguments\n",
    "\n",
    "@a_decorator_passing_arbitrary_arguments\n",
    "def function_with_keyword_arguments():\n",
    "    print(\"This has shown keyword arguments\")\n",
    "\n",
    "function_with_keyword_arguments(first_name=\"Derrick\", last_name=\"Mwiti\")"
   ]
  },
  {
   "cell_type": "code",
   "execution_count": 310,
   "id": "1b169691",
   "metadata": {},
   "outputs": [
    {
     "name": "stdout",
     "output_type": "stream",
     "text": [
      "The positional arguments are (<__main__.clase object at 0x000001A0AA3F1190>,)\n",
      "The keyword arguments are {'first_name': 'Derrick', 'last_name': 'Mwiti'}\n"
     ]
    },
    {
     "ename": "TypeError",
     "evalue": "clase.function_with_keyword_arguments() takes 0 positional arguments but 1 was given",
     "output_type": "error",
     "traceback": [
      "\u001b[1;31m---------------------------------------------------------------------------\u001b[0m",
      "\u001b[1;31mTypeError\u001b[0m                                 Traceback (most recent call last)",
      "Cell \u001b[1;32mIn[310], line 15\u001b[0m\n\u001b[0;32m     12\u001b[0m         \u001b[38;5;28mprint\u001b[39m(\u001b[38;5;124m\"\u001b[39m\u001b[38;5;124mThis has shown keyword arguments\u001b[39m\u001b[38;5;124m\"\u001b[39m)\n\u001b[0;32m     14\u001b[0m obj\u001b[38;5;241m=\u001b[39mclase()\n\u001b[1;32m---> 15\u001b[0m \u001b[43mobj\u001b[49m\u001b[38;5;241;43m.\u001b[39;49m\u001b[43mfunction_with_keyword_arguments\u001b[49m\u001b[43m(\u001b[49m\u001b[43mfirst_name\u001b[49m\u001b[38;5;241;43m=\u001b[39;49m\u001b[38;5;124;43m\"\u001b[39;49m\u001b[38;5;124;43mDerrick\u001b[39;49m\u001b[38;5;124;43m\"\u001b[39;49m\u001b[43m,\u001b[49m\u001b[43m \u001b[49m\u001b[43mlast_name\u001b[49m\u001b[38;5;241;43m=\u001b[39;49m\u001b[38;5;124;43m\"\u001b[39;49m\u001b[38;5;124;43mMwiti\u001b[39;49m\u001b[38;5;124;43m\"\u001b[39;49m\u001b[43m)\u001b[49m\n",
      "Cell \u001b[1;32mIn[310], line 6\u001b[0m, in \u001b[0;36ma_decorator_passing_arbitrary_arguments.<locals>.a_wrapper_accepting_arbitrary_arguments\u001b[1;34m(*args, **kwargs)\u001b[0m\n\u001b[0;32m      4\u001b[0m \u001b[38;5;28mprint\u001b[39m(\u001b[38;5;124m'\u001b[39m\u001b[38;5;124mThe positional arguments are\u001b[39m\u001b[38;5;124m'\u001b[39m, args)\n\u001b[0;32m      5\u001b[0m \u001b[38;5;28mprint\u001b[39m(\u001b[38;5;124m'\u001b[39m\u001b[38;5;124mThe keyword arguments are\u001b[39m\u001b[38;5;124m'\u001b[39m, kwargs)\n\u001b[1;32m----> 6\u001b[0m \u001b[43mfunction_to_decorate\u001b[49m\u001b[43m(\u001b[49m\u001b[38;5;241;43m*\u001b[39;49m\u001b[43margs\u001b[49m\u001b[43m)\u001b[49m\n",
      "\u001b[1;31mTypeError\u001b[0m: clase.function_with_keyword_arguments() takes 0 positional arguments but 1 was given"
     ]
    }
   ],
   "source": [
    "# Keyword arguments are passed using keywords\n",
    "def a_decorator_passing_arbitrary_arguments(function_to_decorate): # function_to_decorate = function_with_keyword_arguments()\n",
    "    def a_wrapper_accepting_arbitrary_arguments(*args,**kwargs):\n",
    "        print('The positional arguments are', args)\n",
    "        print('The keyword arguments are', kwargs)\n",
    "        function_to_decorate(*args)\n",
    "    return a_wrapper_accepting_arbitrary_arguments\n",
    "\n",
    "class clase:\n",
    "    @a_decorator_passing_arbitrary_arguments\n",
    "    def function_with_keyword_arguments():\n",
    "        print(\"This has shown keyword arguments\")\n",
    "\n",
    "obj=clase()\n",
    "obj.function_with_keyword_arguments(first_name=\"Derrick\", last_name=\"Mwiti\")"
   ]
  },
  {
   "cell_type": "code",
   "execution_count": 53,
   "id": "cf6b2738",
   "metadata": {},
   "outputs": [
    {
     "name": "stdout",
     "output_type": "stream",
     "text": [
      "Hola\n"
     ]
    }
   ],
   "source": [
    "hola() #en Jupyter, no importa el orden del codigo en las celdas, como en cualquier otro entorno de programacion en Python."
   ]
  },
  {
   "cell_type": "code",
   "execution_count": 46,
   "id": "3ff8dfe1",
   "metadata": {},
   "outputs": [],
   "source": [
    "def hola():\n",
    "    print(\"Hola\")"
   ]
  },
  {
   "cell_type": "code",
   "execution_count": 1,
   "id": "e6f1d26a",
   "metadata": {},
   "outputs": [
    {
     "name": "stdout",
     "output_type": "stream",
     "text": [
      "Hola\n"
     ]
    },
    {
     "data": {
      "text/plain": [
       "<__main__.Hola at 0x275fc3a8c50>"
      ]
     },
     "execution_count": 1,
     "metadata": {},
     "output_type": "execute_result"
    }
   ],
   "source": []
  },
  {
   "cell_type": "code",
   "execution_count": 11,
   "id": "9d55ae66",
   "metadata": {},
   "outputs": [
    {
     "name": "stdout",
     "output_type": "stream",
     "text": [
      "Hola\n",
      "Jorge\n"
     ]
    }
   ],
   "source": [
    "class prueba:\n",
    "    def __init__(self):\n",
    "        f()\n",
    "        self.check()\n",
    "    def check(self):\n",
    "        print(\"Jorge\")\n",
    "\n",
    "def f():\n",
    "    print(\"Hola\")\n",
    "    \n",
    "p=prueba()"
   ]
  },
  {
   "cell_type": "code",
   "execution_count": 307,
   "id": "1e01232c",
   "metadata": {},
   "outputs": [
    {
     "ename": "NameError",
     "evalue": "name 'a' is not defined",
     "output_type": "error",
     "traceback": [
      "\u001b[1;31m---------------------------------------------------------------------------\u001b[0m",
      "\u001b[1;31mNameError\u001b[0m                                 Traceback (most recent call last)",
      "Cell \u001b[1;32mIn[307], line 5\u001b[0m\n\u001b[0;32m      2\u001b[0m     \u001b[38;5;28mprint\u001b[39m(\u001b[38;5;124mf\u001b[39m\u001b[38;5;124m\"\u001b[39m\u001b[38;5;124mvalor = \u001b[39m\u001b[38;5;132;01m{\u001b[39;00ma\u001b[38;5;132;01m}\u001b[39;00m\u001b[38;5;124m\"\u001b[39m)\n\u001b[0;32m      3\u001b[0m     func(a)\n\u001b[1;32m----> 5\u001b[0m \u001b[38;5;28;43;01mclass\u001b[39;49;00m\u001b[43m \u001b[49m\u001b[38;5;21;43;01mclase\u001b[39;49;00m\u001b[43m(\u001b[49m\u001b[43m)\u001b[49m\u001b[43m:\u001b[49m\n\u001b[0;32m      6\u001b[0m \u001b[43m    \u001b[49m\u001b[38;5;28;43;01mdef\u001b[39;49;00m\u001b[43m \u001b[49m\u001b[38;5;21;43m__init__\u001b[39;49m\u001b[43m(\u001b[49m\u001b[38;5;28;43mself\u001b[39;49m\u001b[43m,\u001b[49m\u001b[43m \u001b[49m\u001b[43ma\u001b[49m\u001b[43m)\u001b[49m\u001b[43m:\u001b[49m\n\u001b[0;32m      7\u001b[0m \u001b[43m        \u001b[49m\u001b[38;5;28;43mself\u001b[39;49m\u001b[38;5;241;43m.\u001b[39;49m\u001b[43mfuncion\u001b[49m\u001b[43m(\u001b[49m\u001b[43ma\u001b[49m\u001b[43m)\u001b[49m\u001b[43m \u001b[49m\n",
      "Cell \u001b[1;32mIn[307], line 9\u001b[0m, in \u001b[0;36mclase\u001b[1;34m()\u001b[0m\n\u001b[0;32m      6\u001b[0m \u001b[38;5;28;01mdef\u001b[39;00m \u001b[38;5;21m__init__\u001b[39m(\u001b[38;5;28mself\u001b[39m, a):\n\u001b[0;32m      7\u001b[0m     \u001b[38;5;28mself\u001b[39m\u001b[38;5;241m.\u001b[39mfuncion(a) \n\u001b[1;32m----> 9\u001b[0m \u001b[43m\u001b[49m\u001b[38;5;129;43m@decorador\u001b[39;49m\n\u001b[0;32m     10\u001b[0m \u001b[43m\u001b[49m\u001b[38;5;28;43;01mdef\u001b[39;49;00m\u001b[43m \u001b[49m\u001b[38;5;21;43mfuncion\u001b[39;49m\u001b[43m(\u001b[49m\u001b[38;5;28;43mself\u001b[39;49m\u001b[43m,\u001b[49m\u001b[43m \u001b[49m\u001b[43ma\u001b[49m\u001b[43m)\u001b[49m\u001b[43m:\u001b[49m\n\u001b[0;32m     11\u001b[0m \u001b[43m    \u001b[49m\u001b[38;5;28;43mprint\u001b[39;49m\u001b[43m(\u001b[49m\u001b[38;5;124;43mf\u001b[39;49m\u001b[38;5;124;43m\"\u001b[39;49m\u001b[38;5;124;43mprueba = \u001b[39;49m\u001b[38;5;132;43;01m{\u001b[39;49;00m\u001b[38;5;28;43mstr\u001b[39;49m\u001b[43m(\u001b[49m\u001b[43ma\u001b[49m\u001b[43m)\u001b[49m\u001b[38;5;132;43;01m}\u001b[39;49;00m\u001b[38;5;124;43m\"\u001b[39;49m\u001b[43m)\u001b[49m\n",
      "Cell \u001b[1;32mIn[307], line 2\u001b[0m, in \u001b[0;36mdecorador\u001b[1;34m(func)\u001b[0m\n\u001b[0;32m      1\u001b[0m \u001b[38;5;28;01mdef\u001b[39;00m \u001b[38;5;21mdecorador\u001b[39m(func):\n\u001b[1;32m----> 2\u001b[0m     \u001b[38;5;28mprint\u001b[39m(\u001b[38;5;124mf\u001b[39m\u001b[38;5;124m\"\u001b[39m\u001b[38;5;124mvalor = \u001b[39m\u001b[38;5;132;01m{\u001b[39;00m\u001b[43ma\u001b[49m\u001b[38;5;132;01m}\u001b[39;00m\u001b[38;5;124m\"\u001b[39m)\n\u001b[0;32m      3\u001b[0m     func(a)\n",
      "\u001b[1;31mNameError\u001b[0m: name 'a' is not defined"
     ]
    }
   ],
   "source": [
    "def decorador(func):\n",
    "    print(f\"valor = {a}\")\n",
    "    func(a)\n",
    "    \n",
    "class clase():\n",
    "    def __init__(self, a):\n",
    "        self.funcion(a) \n",
    "        \n",
    "    @decorador\n",
    "    def funcion(self, a):\n",
    "        print(f\"prueba = {str(a)}\")\n",
    "        \n",
    "obj=clase([1,2,3])"
   ]
  },
  {
   "cell_type": "code",
   "execution_count": 92,
   "id": "146bf553",
   "metadata": {},
   "outputs": [
    {
     "name": "stdout",
     "output_type": "stream",
     "text": [
      "True\n"
     ]
    }
   ],
   "source": [
    "import os\n",
    "from pathlib import Path\n",
    "\n",
    "path = Path(r'C:\\Users\\Windows 10\\Desktop\\UNIQUINDÍO\\5to Semestre\\Parcial2\\data_base3.xlsx')\n",
    "\n",
    "print(path.is_file())"
   ]
  },
  {
   "cell_type": "code",
   "execution_count": 16,
   "id": "229fd534",
   "metadata": {},
   "outputs": [
    {
     "name": "stdout",
     "output_type": "stream",
     "text": [
      "['state', 'P', 'V', 'T']\n"
     ]
    }
   ],
   "source": [
    "L=[('state', b'varchar(255)', 'YES', '', None, ''), \n",
    "   ('P', b'float(7,2)', 'YES', '', None, ''), \n",
    "   ('V', b'float(7,2)', 'YES', '', None, ''), \n",
    "   ('T', b'float(7,2)', 'YES', '', None, '')]\n",
    "L[1][0]\n",
    "len(L)\n",
    "\n",
    "M=[]\n",
    "for i in range(len(L)): \n",
    "    M.append(L[i][0])\n",
    "print(M)"
   ]
  },
  {
   "cell_type": "code",
   "execution_count": 17,
   "id": "de404d52",
   "metadata": {},
   "outputs": [
    {
     "name": "stdout",
     "output_type": "stream",
     "text": [
      "{'12': 'erg', '43f': 'y6', '97': '44', '984': 'rgrrg', '87': 'efrb'}\n"
     ]
    }
   ],
   "source": [
    "df1={'12':'erg','43f':'y6'}\n",
    "df2={'97':'44','984':'rgrrg','87':'efrb'}\n",
    "df={**df1,**df2}\n",
    "print(df)"
   ]
  },
  {
   "cell_type": "code",
   "execution_count": 92,
   "id": "873f81e9",
   "metadata": {},
   "outputs": [
    {
     "name": "stdout",
     "output_type": "stream",
     "text": [
      "[['dfs1', 'dfp1'], ['dfs3', 'dfp3'], ['dfs2', 'dfp2'], ['dfs1', 'dfp1'], ['dfs3', 'dfp3'], ['dfs2', 'dfp2']]\n"
     ]
    }
   ],
   "source": [
    "'''Codigo que me permite ordenar según numero del string en el key de dfs'''\n",
    "import re\n",
    "dfs1='dfs1'\n",
    "dfs2='dfs2'\n",
    "dfs3='dfs3'\n",
    "dfp1='dfp1'\n",
    "dfp2='dfp2'\n",
    "dfp3='dfp3'\n",
    "\n",
    "dfs={'tb_processes1':dfp1,'tb_processes3':dfp3,'tb_states2':dfs2,'tb_states1':dfs1,'tb_states2':dfs2,'tb_states3':dfs3,'tb_processes2':dfp2}\n",
    "ordered=[]\n",
    "\n",
    "'''Voy a organizar las tablas para poder relacionar pares de tablas, una tabla de estados y la otra de los procesos entre esos estados'''\n",
    "'''[[tb_states1,tb_processes1],[tb_states2,tb_processes2],...,[tb_statesn,tb_processesn]]'''\n",
    "'''Los nombres de las pares de tablas que se relacionan deben terminar en un mismo número. Para esto extraigo caracteres numericos del nombre'''\n",
    "for x,y in zip(dfs.keys(),dfs.values()):\n",
    "    i=re.findall(r'\\d',x)[0] # este metodo me retorna una lista de strings con los números del string original x, y me paro en el indice 0 para obtener el primer string(número). En este caso particular, retorna una lista de un solo elemento)\n",
    "    for u,w in zip(dfs.keys(),dfs.values()):\n",
    "        j=re.findall(r'\\d',u)[0]\n",
    "        if j==i and x!=u: # si los nombres tienen el mismo número de terminación pero no son iguales (dfs1 != dfs1).\n",
    "            # Para poner primero tabla de estados, luego tabla de procesos.\n",
    "            if x.find('states') != -1: # si x es el nombre de la tabla de estados.\n",
    "                ordered.append([y,w])\n",
    "            else: # sino x es el nombre de la tabla de procesos.\n",
    "                ordered.append([w,y])\n",
    "            break # no se va a encontrar un tercer nombre con igual número de terminación. No siga buscando/iterando.\n",
    "print(ordered)"
   ]
  },
  {
   "cell_type": "code",
   "execution_count": 56,
   "id": "e33388f4",
   "metadata": {},
   "outputs": [
    {
     "data": {
      "text/plain": [
       "'0'"
      ]
     },
     "execution_count": 56,
     "metadata": {},
     "output_type": "execute_result"
    }
   ],
   "source": [
    "\n",
    "re.findall(r'\\d+',\"tb_st0.2ates123\")[0]"
   ]
  },
  {
   "cell_type": "code",
   "execution_count": 62,
   "id": "f3bb10c7",
   "metadata": {},
   "outputs": [
    {
     "name": "stdout",
     "output_type": "stream",
     "text": [
      "0\n",
      "1\n",
      "2\n"
     ]
    }
   ],
   "source": [
    "for i in range(10):\n",
    "    if i == 3:\n",
    "        break\n",
    "    print(i)"
   ]
  },
  {
   "cell_type": "code",
   "execution_count": 82,
   "id": "b8505d50",
   "metadata": {},
   "outputs": [
    {
     "data": {
      "text/html": [
       "<div>\n",
       "<style scoped>\n",
       "    .dataframe tbody tr th:only-of-type {\n",
       "        vertical-align: middle;\n",
       "    }\n",
       "\n",
       "    .dataframe tbody tr th {\n",
       "        vertical-align: top;\n",
       "    }\n",
       "\n",
       "    .dataframe thead th {\n",
       "        text-align: right;\n",
       "    }\n",
       "</style>\n",
       "<table border=\"1\" class=\"dataframe\">\n",
       "  <thead>\n",
       "    <tr style=\"text-align: right;\">\n",
       "      <th></th>\n",
       "      <th>names</th>\n",
       "      <th>A1</th>\n",
       "      <th>A2</th>\n",
       "      <th>A3</th>\n",
       "      <th>B2</th>\n",
       "      <th>A4</th>\n",
       "      <th>B3</th>\n",
       "    </tr>\n",
       "  </thead>\n",
       "  <tbody>\n",
       "    <tr>\n",
       "      <th>0</th>\n",
       "      <td>a</td>\n",
       "      <td>1</td>\n",
       "      <td>32</td>\n",
       "      <td>1</td>\n",
       "      <td>9</td>\n",
       "      <td>6</td>\n",
       "      <td>2</td>\n",
       "    </tr>\n",
       "    <tr>\n",
       "      <th>1</th>\n",
       "      <td>r</td>\n",
       "      <td>5</td>\n",
       "      <td>7</td>\n",
       "      <td>3</td>\n",
       "      <td>4</td>\n",
       "      <td>5</td>\n",
       "      <td>8</td>\n",
       "    </tr>\n",
       "    <tr>\n",
       "      <th>2</th>\n",
       "      <td>h</td>\n",
       "      <td>79</td>\n",
       "      <td>9</td>\n",
       "      <td>7</td>\n",
       "      <td>6</td>\n",
       "      <td>7</td>\n",
       "      <td>9</td>\n",
       "    </tr>\n",
       "    <tr>\n",
       "      <th>3</th>\n",
       "      <td>m</td>\n",
       "      <td>44</td>\n",
       "      <td>0</td>\n",
       "      <td>9</td>\n",
       "      <td>3</td>\n",
       "      <td>8</td>\n",
       "      <td>5</td>\n",
       "    </tr>\n",
       "    <tr>\n",
       "      <th>4</th>\n",
       "      <td>l</td>\n",
       "      <td>68</td>\n",
       "      <td>32</td>\n",
       "      <td>5</td>\n",
       "      <td>4</td>\n",
       "      <td>9</td>\n",
       "      <td>87</td>\n",
       "    </tr>\n",
       "    <tr>\n",
       "      <th>5</th>\n",
       "      <td>y</td>\n",
       "      <td>5</td>\n",
       "      <td>5</td>\n",
       "      <td>7</td>\n",
       "      <td>3</td>\n",
       "      <td>2</td>\n",
       "      <td>4</td>\n",
       "    </tr>\n",
       "    <tr>\n",
       "      <th>6</th>\n",
       "      <td>r</td>\n",
       "      <td>7</td>\n",
       "      <td>7</td>\n",
       "      <td>7</td>\n",
       "      <td>7</td>\n",
       "      <td>3</td>\n",
       "      <td>2</td>\n",
       "    </tr>\n",
       "    <tr>\n",
       "      <th>7</th>\n",
       "      <td>q</td>\n",
       "      <td>47</td>\n",
       "      <td>9</td>\n",
       "      <td>0</td>\n",
       "      <td>9</td>\n",
       "      <td>8</td>\n",
       "      <td>4</td>\n",
       "    </tr>\n",
       "    <tr>\n",
       "      <th>8</th>\n",
       "      <td>a</td>\n",
       "      <td>4</td>\n",
       "      <td>47</td>\n",
       "      <td>9</td>\n",
       "      <td>1</td>\n",
       "      <td>9</td>\n",
       "      <td>6</td>\n",
       "    </tr>\n",
       "    <tr>\n",
       "      <th>9</th>\n",
       "      <td>q</td>\n",
       "      <td>7</td>\n",
       "      <td>8563</td>\n",
       "      <td>2</td>\n",
       "      <td>1</td>\n",
       "      <td>9</td>\n",
       "      <td>84</td>\n",
       "    </tr>\n",
       "    <tr>\n",
       "      <th>10</th>\n",
       "      <td>a</td>\n",
       "      <td>468</td>\n",
       "      <td>27</td>\n",
       "      <td>1</td>\n",
       "      <td>2</td>\n",
       "      <td>6</td>\n",
       "      <td>2</td>\n",
       "    </tr>\n",
       "    <tr>\n",
       "      <th>11</th>\n",
       "      <td>a</td>\n",
       "      <td>0</td>\n",
       "      <td>57</td>\n",
       "      <td>0</td>\n",
       "      <td>9</td>\n",
       "      <td>4</td>\n",
       "      <td>1</td>\n",
       "    </tr>\n",
       "    <tr>\n",
       "      <th>12</th>\n",
       "      <td>m</td>\n",
       "      <td>85</td>\n",
       "      <td>73</td>\n",
       "      <td>3</td>\n",
       "      <td>0</td>\n",
       "      <td>4</td>\n",
       "      <td>57</td>\n",
       "    </tr>\n",
       "    <tr>\n",
       "      <th>13</th>\n",
       "      <td>kl</td>\n",
       "      <td>43</td>\n",
       "      <td>2</td>\n",
       "      <td>0</td>\n",
       "      <td>7</td>\n",
       "      <td>6</td>\n",
       "      <td>8</td>\n",
       "    </tr>\n",
       "    <tr>\n",
       "      <th>14</th>\n",
       "      <td>i</td>\n",
       "      <td>5</td>\n",
       "      <td>3</td>\n",
       "      <td>0</td>\n",
       "      <td>4</td>\n",
       "      <td>79</td>\n",
       "      <td>42</td>\n",
       "    </tr>\n",
       "    <tr>\n",
       "      <th>15</th>\n",
       "      <td>y</td>\n",
       "      <td>77</td>\n",
       "      <td>6</td>\n",
       "      <td>9</td>\n",
       "      <td>0</td>\n",
       "      <td>9</td>\n",
       "      <td>2</td>\n",
       "    </tr>\n",
       "    <tr>\n",
       "      <th>16</th>\n",
       "      <td>h</td>\n",
       "      <td>4</td>\n",
       "      <td>3</td>\n",
       "      <td>2</td>\n",
       "      <td>0</td>\n",
       "      <td>3</td>\n",
       "      <td>67</td>\n",
       "    </tr>\n",
       "    <tr>\n",
       "      <th>17</th>\n",
       "      <td>a</td>\n",
       "      <td>634</td>\n",
       "      <td>5</td>\n",
       "      <td>3</td>\n",
       "      <td>5</td>\n",
       "      <td>1</td>\n",
       "      <td>4</td>\n",
       "    </tr>\n",
       "    <tr>\n",
       "      <th>18</th>\n",
       "      <td>r</td>\n",
       "      <td>2</td>\n",
       "      <td>7</td>\n",
       "      <td>41</td>\n",
       "      <td>3</td>\n",
       "      <td>8</td>\n",
       "      <td>7</td>\n",
       "    </tr>\n",
       "    <tr>\n",
       "      <th>19</th>\n",
       "      <td>x</td>\n",
       "      <td>3</td>\n",
       "      <td>10</td>\n",
       "      <td>3</td>\n",
       "      <td>58</td>\n",
       "      <td>2</td>\n",
       "      <td>8</td>\n",
       "    </tr>\n",
       "  </tbody>\n",
       "</table>\n",
       "</div>"
      ],
      "text/plain": [
       "   names   A1    A2  A3  B2  A4  B3\n",
       "0      a    1    32   1   9   6   2\n",
       "1      r    5     7   3   4   5   8\n",
       "2      h   79     9   7   6   7   9\n",
       "3      m   44     0   9   3   8   5\n",
       "4      l   68    32   5   4   9  87\n",
       "5      y    5     5   7   3   2   4\n",
       "6      r    7     7   7   7   3   2\n",
       "7      q   47     9   0   9   8   4\n",
       "8      a    4    47   9   1   9   6\n",
       "9      q    7  8563   2   1   9  84\n",
       "10     a  468    27   1   2   6   2\n",
       "11     a    0    57   0   9   4   1\n",
       "12     m   85    73   3   0   4  57\n",
       "13    kl   43     2   0   7   6   8\n",
       "14     i    5     3   0   4  79  42\n",
       "15     y   77     6   9   0   9   2\n",
       "16     h    4     3   2   0   3  67\n",
       "17     a  634     5   3   5   1   4\n",
       "18     r    2     7  41   3   8   7\n",
       "19     x    3    10   3  58   2   8"
      ]
     },
     "metadata": {},
     "output_type": "display_data"
    },
    {
     "name": "stdout",
     "output_type": "stream",
     "text": [
      "a\n",
      "r\n",
      "h\n",
      "m\n",
      "l\n",
      "y\n",
      "r\n",
      "q\n",
      "a\n",
      "q\n",
      "a\n",
      "a\n",
      "m\n",
      "kl\n",
      "i\n",
      "y\n",
      "h\n",
      "a\n",
      "r\n",
      "x\n",
      "siguiente columna\n",
      "1\n",
      "5\n",
      "79\n",
      "44\n",
      "68\n",
      "5\n",
      "7\n",
      "47\n",
      "4\n",
      "7\n",
      "468\n",
      "0\n",
      "85\n",
      "43\n",
      "5\n",
      "77\n",
      "4\n",
      "634\n",
      "2\n",
      "3\n",
      "siguiente columna\n",
      "32\n",
      "7\n",
      "9\n",
      "0\n",
      "32\n",
      "5\n",
      "7\n",
      "9\n",
      "47\n",
      "8563\n",
      "27\n",
      "57\n",
      "73\n",
      "2\n",
      "3\n",
      "6\n",
      "3\n",
      "5\n",
      "7\n",
      "10\n",
      "siguiente columna\n",
      "1\n",
      "3\n",
      "7\n",
      "9\n",
      "5\n",
      "7\n",
      "7\n",
      "0\n",
      "9\n",
      "2\n",
      "1\n",
      "0\n",
      "3\n",
      "0\n",
      "0\n",
      "9\n",
      "2\n",
      "3\n",
      "41\n",
      "3\n",
      "siguiente columna\n",
      "9\n",
      "4\n",
      "6\n",
      "3\n",
      "4\n",
      "3\n",
      "7\n",
      "9\n",
      "1\n",
      "1\n",
      "2\n",
      "9\n",
      "0\n",
      "7\n",
      "4\n",
      "0\n",
      "0\n",
      "5\n",
      "3\n",
      "58\n",
      "siguiente columna\n",
      "6\n",
      "5\n",
      "7\n",
      "8\n",
      "9\n",
      "2\n",
      "3\n",
      "8\n",
      "9\n",
      "9\n",
      "6\n",
      "4\n",
      "4\n",
      "6\n",
      "79\n",
      "9\n",
      "3\n",
      "1\n",
      "8\n",
      "2\n",
      "siguiente columna\n",
      "2\n",
      "8\n",
      "9\n",
      "5\n",
      "87\n",
      "4\n",
      "2\n",
      "4\n",
      "6\n",
      "84\n",
      "2\n",
      "1\n",
      "57\n",
      "8\n",
      "42\n",
      "2\n",
      "67\n",
      "4\n",
      "7\n",
      "8\n",
      "siguiente columna\n"
     ]
    }
   ],
   "source": [
    "import pandas as pd\n",
    "import xlrd\n",
    "\n",
    "df=pd.read_excel('tb_states77.xlsx')\n",
    "display(df)\n",
    "#print(df.columns.values[1])\n",
    "\n",
    "for i in df.columns.values: # itero en los nombres de las columnas (e.g. i='P')\n",
    "    col=df[i].tolist() # columna\n",
    "    n=len()\n",
    "    for j in range(n):\n",
    "        print(j)\n",
    "    print(\"siguiente columna\")\n",
    "    "
   ]
  },
  {
   "cell_type": "code",
   "execution_count": 89,
   "id": "4420f7c1",
   "metadata": {},
   "outputs": [
    {
     "name": "stdout",
     "output_type": "stream",
     "text": [
      "3,13\n"
     ]
    }
   ],
   "source": [
    "n,m=0,10\n",
    "for i in range(3):\n",
    "    n+=i\n",
    "    m+=i\n",
    "print(f\"{n},{m}\")"
   ]
  },
  {
   "cell_type": "code",
   "execution_count": 90,
   "id": "ef5e913c",
   "metadata": {},
   "outputs": [
    {
     "data": {
      "text/plain": [
       "2.718281828459045"
      ]
     },
     "execution_count": 90,
     "metadata": {},
     "output_type": "execute_result"
    }
   ],
   "source": [
    "import math\n",
    "math.e"
   ]
  },
  {
   "cell_type": "code",
   "execution_count": 96,
   "id": "15b52d59",
   "metadata": {},
   "outputs": [
    {
     "name": "stdout",
     "output_type": "stream",
     "text": [
      "...\n",
      "dfs2\n",
      "...\n",
      "['dfs2', 'dfs1', 'dfs3']\n",
      "...\n",
      "Usando filter (menos eficiente.)\n",
      "['dfs2', 'dfs1', 'dfs3']\n",
      "3\n"
     ]
    },
    {
     "data": {
      "text/plain": [
       "[['dfs1', 'dfp1'], ['dfs3', 'dfp3'], ['dfs2', 'dfp2']]"
      ]
     },
     "execution_count": 96,
     "metadata": {},
     "output_type": "execute_result"
    }
   ],
   "source": [
    "'''Codigo que me permite ordenar según numero del string en el key de dfs'''\n",
    "import re\n",
    "dfs1='dfs1'\n",
    "dfs2='dfs2'\n",
    "dfs3='dfs3'\n",
    "dfp1='dfp1'\n",
    "dfp2='dfp2'\n",
    "dfp3='dfp3'\n",
    "\n",
    "dfs={'tb_processes1':dfp1,'tb_processes3':dfp3,'tb_states2':dfs2,'tb_states1':dfs1,'tb_states2':dfs2,'tb_states3':dfs3,'tb_processes2':dfp2}\n",
    "ordered=[]\n",
    "dfs.keys()\n",
    "print(\"...\")\n",
    "print(dfs['tb_states2'])\n",
    "print(\"...\")\n",
    "\n",
    "list_states_tbs=[dfs[i] for i in dfs.keys() if i.find('states') != -1]\n",
    "print(list_states_tbs)\n",
    "print(\"...\")\n",
    "\n",
    "print(\"Usando filter (menos eficiente.)\")\n",
    "list_states_tbs2=[dfs[j] for j in list(filter(lambda i: i.find('states') != -1, list(dfs.keys())))]\n",
    "print(list(list_states_tbs2))\n",
    "\n",
    "'''Voy a organizar las tablas para poder relacionar pares de tablas, una tabla de estados y la otra de los procesos entre esos estados'''\n",
    "'''[[tb_states1,tb_processes1],[tb_states2,tb_processes2],...,[tb_statesn,tb_processesn]]'''\n",
    "'''Los nombres de las pares de tablas que se relacionan deben terminar en un mismo número. Para esto extraigo caracteres numericos del nombre'''\n",
    "for x,y in zip(dfs.keys(),dfs.values()):\n",
    "    i=re.findall(r'\\d',x)[0] # este metodo me retorna una lista de strings con los números del string original x, y me paro en el indice 0 para obtener el primer string(número). En este caso particular, retorna una lista de un solo elemento)\n",
    "    for u,w in zip(dfs.keys(),dfs.values()):\n",
    "        j=re.findall(r'\\d',u)[0]\n",
    "        if j==i and x!=u: # si los nombres tienen el mismo número de terminación pero no son iguales (dfs1 != dfs1).\n",
    "            # Para poner primero tabla de estados, luego tabla de procesos.\n",
    "            if x.find('states') != -1: # si x es el nombre de la tabla de estados.\n",
    "                ordered.append([y,w])\n",
    "            else: # sino x es el nombre de la tabla de procesos.\n",
    "                ordered.append([w,y])\n",
    "            break # no se va a encontrar un tercer nombre con igual número de terminación. No siga buscando/iterando.\n",
    "\n",
    "n=int(len(ordered)/2)\n",
    "print(n)\n",
    "ordered=ordered[:n]\n",
    "ordered\n",
    "\n",
    "# list.remove(element)"
   ]
  },
  {
   "cell_type": "code",
   "execution_count": 73,
   "id": "cd564966",
   "metadata": {},
   "outputs": [
    {
     "name": "stdout",
     "output_type": "stream",
     "text": [
      "[-0.2, 0.0, 0.004]\n",
      "[0, 2, 4, 6, 8, 10] [1, 3, 5, 7, 9, -11]\n"
     ]
    }
   ],
   "source": [
    "try:\n",
    "    print(list(map(lambda x,y,z:(x+y)/z,[1,2,3],[-3,-2,1],[10,100,1000])))\n",
    "except ZeroDivisionError:\n",
    "    print(\"Dividiendo por cero!\")\n",
    "##############################\n",
    "func1D=lambda x:x**2\n",
    "\n",
    "list(map(func1D,[1,2,3,4,5]))\n",
    "\n",
    "eval('5**2/3')\n",
    "\n",
    "#g=lamda x: eval('x**2-1/x')\n",
    "############################\n",
    "lista=[0,1,2,3,4,5,6,7,8,9,10,-11]\n",
    "even=filter(lambda x: x % 2 == 0, lista)\n",
    "odd=filter(lambda x: x % 2 != 0, lista)\n",
    "print(list(even), list(odd))"
   ]
  },
  {
   "cell_type": "code",
   "execution_count": 77,
   "id": "0b425f8b",
   "metadata": {},
   "outputs": [
    {
     "data": {
      "text/plain": [
       "[2, 4, 6]"
      ]
     },
     "execution_count": 77,
     "metadata": {},
     "output_type": "execute_result"
    }
   ],
   "source": [
    "[i for i in [1,2,3,4,5,6] if i%2==0]"
   ]
  },
  {
   "cell_type": "code",
   "execution_count": 93,
   "id": "a0ba6e8c",
   "metadata": {},
   "outputs": [
    {
     "data": {
      "text/plain": [
       "['tb_processes1',\n",
       " 'tb_processes3',\n",
       " 'tb_states2',\n",
       " 'tb_states1',\n",
       " 'tb_states3',\n",
       " 'tb_processes2']"
      ]
     },
     "execution_count": 93,
     "metadata": {},
     "output_type": "execute_result"
    }
   ],
   "source": [
    "dfs={'tb_processes1':dfp1,'tb_processes3':dfp3,'tb_states2':dfs2,'tb_states1':dfs1,'tb_states2':dfs2,'tb_states3':dfs3,'tb_processes2':dfp2}\n",
    "list(dfs.keys())"
   ]
  },
  {
   "cell_type": "code",
   "execution_count": 384,
   "id": "33a03ce2",
   "metadata": {},
   "outputs": [
    {
     "name": "stdout",
     "output_type": "stream",
     "text": [
      "[[1  2  3  4]\n",
      " [5  6  7  8]\n",
      " [9  10  11  12]\n",
      " [13  14  15  16]\n",
      " [17  18  19  20]\n",
      " [21  22  23  24]]\n",
      "[[ 1  2  3  4]\n",
      " [ 5  6  7  8]\n",
      " [ 9 10 11 12]\n",
      " [13 14 15 16]\n",
      " [17 18 19 20]\n",
      " [21 22 23 24]]\n",
      "[[1, 5, 9, 13, 17, 21], [2, 6, 10, 14, 18, 22], [3, 7, 11, 15, 19, 23], [4, 8, 12, 16, 20, 24]]\n",
      "Matriz convertida a cuadrada:\n",
      "[[1  2  3  4  36  51]\n",
      " [5  6  7  8  11  60]\n",
      " [9  10  11  12  96  90]\n",
      " [13  14  15  16  52  47]\n",
      " [17  18  19  20  42  5]\n",
      " [21  22  23  24  48  6]]\n",
      "[[1, 5, 9, 13, 17, 21], [2, 6, 10, 14, 18, 22], [3, 7, 11, 15, 19, 23], [4, 8, 12, 16, 20, 24], [36, 11, 96, 52, 42, 48], [51, 60, 90, 47, 5, 6]]\n",
      "Matriz cuadrada transpuesta:\n",
      "[[1  5  9  13  17  21]\n",
      " [2  6  10  14  18  22]\n",
      " [3  7  11  15  19  23]\n",
      " [4  8  12  16  20  24]\n",
      " [36  11  96  52  42  48]\n",
      " [51  60  90  47  5  6]]\n",
      "Determinante:\n",
      "1.2661217528800096e-28\n",
      "Matriz inversa:\n",
      "[[-2.154271339071539e+16  1.1325434796846628e+16  1.1259205390561718e+16  -1.3006753899074474e+16  5.464771939265448e+16  -4.2682892290272744e+16]\n",
      " [-1.5958532514106026e+17  8.601776253649538e+16  8.55872713956438e+16  -1.036245716624356e+17  4.043429046972607e+17  -3.127380418259041e+17]\n",
      " [3.837987904542664e+17  -2.0601182946353043e+17  -2.0495215896297267e+17  2.4626940502209453e+17  -9.726289675724841e+17  7.535247605226258e+17]\n",
      " [-2.0267075192249075e+17  1.0866863213018845e+17  1.0810568217676714e+17  -1.2963807946058445e+17  5.1363834348256896e+17  -3.98103826406449e+17]\n",
      " [-10.570093457941589  5.654205607475387  5.654205607475387  -6.775700934577944  26.822429906536193  -20.78504672896742]\n",
      " [3.8380062305287423  -2.043613707164653  -2.043613707164653  2.4517133956380834  -9.78816199376733  7.585669781929806]]\n",
      "Autovalores y autovectores:\n",
      "([137.64365325859887, -56.27797305247506, 2.41636045084107, -1.7820406569649372, -4.5000979343643074e-14, -3.561491632042488e-15], [[-0.2684038415669139, -0.42426445229723375, 0.14794031890481402, -0.08341503711344964, 0.2681863803551521, 0.28230245557339606], [-0.2802206801134648, -0.24820303917421682, -0.7908792304491526, -0.6634879529871269, -0.7135438120628856, -0.026557813312963762], [-0.6216121755341255, -0.7357611908447971, 0.5852940775739806, 0.7418914869063583, 0.6225284830603222, -0.7937917400942547], [-0.4358511491262355, -0.1457852160511167, -0.07496767876752927, 0.03499455898039281, -0.177171051352587, 0.5380470978338232], [-0.33599296888266394, 0.27304506741106194, 0.0573229825816307, -0.03368502879199294, -1.0196191159822477e-15, 1.13247663231504e-16], [-0.400220629357552, 0.3482003128253546, -0.03388909044922795, 0.007961730794062994, 6.23946026198092e-16, -5.6623831615752e-17]])\n",
      "La solución del sistema Ax=b, donde\n",
      "b = [[-64.99473429642691], [85.04476817613156], [74.95957742993693], [13.740937856680887], [-67.56547355639299], [50.18195023684413]]\n",
      "A = [[1, 2, 3, 4, 36, 51], [5, 6, 7, 8, 11, 60], [9, 10, 11, 12, 96, 90], [13, 14, 15, 16, 52, 47], [17, 18, 19, 20, 42, 5], [21, 22, 23, 24, 48, 6]]\n",
      "es\n",
      "x = [[-2.8056176255422177e+18], [-2.033417131045553e+19], [4.908519549753771e+19], [-2.5945406561539957e+19], [-1356.710960735713], [499.2570762096476]]\n",
      "\n"
     ]
    }
   ],
   "source": [
    "import numpy as np\n",
    "import random \n",
    "#from numpy.linalg import eig, LinAlgError\n",
    "import pandas as pd\n",
    "\n",
    "def convert_to_string(function_to_decorate):\n",
    "    def wrapper(ref):\n",
    "        func=function_to_decorate(ref)\n",
    "        return str(func)\n",
    "    return wrapper\n",
    "def get_matrix_form(function_to_decorate):\n",
    "    def wrapper(ref):\n",
    "        func=function_to_decorate(ref)\n",
    "        return func.replace('],',']\\n')\n",
    "    return wrapper\n",
    "def replace_comma(function_to_decorate):\n",
    "    def wrapper(ref):\n",
    "        func=function_to_decorate(ref)\n",
    "        return func.replace(',',' ')\n",
    "    return wrapper\n",
    "\n",
    "class Matrix:\n",
    "    def __init__(self,listdf):\n",
    "        self.M=listdf\n",
    "        self.shape=self.__get_shape__(listdf)\n",
    "        pass\n",
    "    @replace_comma\n",
    "    @get_matrix_form\n",
    "    @convert_to_string\n",
    "    def __str__(self):\n",
    "        return self.M \n",
    "    def __get_shape__(self,L):\n",
    "        return [len(L),len(L[0])] # [m,n]\n",
    "    def __sum__(self,otra):\n",
    "        return [list(map(lambda x,y:x+y,self.M[k],otra[k])) for k in range(self.shape[0])]\n",
    "    def __transpose__(self):\n",
    "        T=[]\n",
    "        for j in range(self.shape[1]): T+=[[self.M[i][j] for i in range(self.shape[0])]]\n",
    "        return T\n",
    "\n",
    "'''subclase de mi superclase Matrix'''\n",
    "class SquaredMatrix(Matrix):\n",
    "    def __init__(self,Mx):\n",
    "        m,n=len(Mx),len(Mx[0])\n",
    "        '''super() gives you access to attributes and methods in a superclass from the subclass that inherits from it'''\n",
    "        if m==n: # si es cuadrada...\n",
    "            super().__init__(Mx)\n",
    "        else:\n",
    "            super().__init__(convert_to_squared(Mx,m,n,m-n)) # sino convertir a cuadrada.\n",
    "    def __determinant__(self):\n",
    "        return np.linalg.det(np.array(self.M))\n",
    "    def __inverse__(self):\n",
    "        try:\n",
    "            return np.linalg.inv(np.array(self.M)).tolist()\n",
    "        except LinAlgError:\n",
    "            print(\"Singular matrix. La matrix no tiene inversa.\")\n",
    "            return [[]]\n",
    "    def __eigen__(self):\n",
    "        eigenval,eigenvec=eig(np.array(self.M))\n",
    "        return eigenval.tolist(),eigenvec.tolist()\n",
    "    def __solve__(self,b): # resuelve el sistema Ax=b\n",
    "        x=np.linalg.solve(np.array(self.M),np.array(b))\n",
    "        return x.tolist()\n",
    "    \n",
    "def convert_to_squared(M,m,n,l=None):\n",
    "    '''np.random.randint(arg1,arg2,[m,n]) me da un objeto de tipo 'numpy.ndarray'. Si lo convierto a lista,\n",
    "    obtengo una lista de m-filas por n-columnas con valores aleatorios en el intervalo entre arg1 y arg2.\n",
    "    '''\n",
    "    if l!=None:         \n",
    "        return [M[j]+np.random.randint(0.01,100,[1,l])[0].tolist() for j in range(m)] # agrego l columnas aleatorias.\n",
    "    else:\n",
    "        \n",
    "        return M+[np.random.randint(0.01,100,[1,n]).tolist()[0] for j in range(n-m)] # agrego una fila aleatoria.\n",
    "\n",
    "dict={'P':[1,2,3,4,5],'V':[10,20,30,40,50],'T':[100,200,300,400,500]}\n",
    "\n",
    "df=pd.DataFrame(dict)\n",
    "listdf = df.values.tolist()\n",
    "'''\n",
    "display( df )\n",
    "print( listdf )\n",
    "colP = df['P'].values.tolist()\n",
    "print( colP )\n",
    "matrix = np.array( listdf )\n",
    "print( matrix )\n",
    "print( matrix[0] )\n",
    "print( matrix[0][1])\n",
    "'''\n",
    "obj=Matrix([[1,2,3,4],[5,6,7,8],[9,10,11,12],[13,14,15,16],[17,18,19,20],[21,22,23,24]])\n",
    "print(obj) # usando el método especial __str__()\n",
    "print(np.array(obj.M)) \n",
    "M=obj.M\n",
    "m=obj.shape[0]\n",
    "n=obj.shape[1]\n",
    "print(obj.__transpose__())\n",
    "\n",
    "if m < n: \n",
    "    obj2=SquaredMatrix(convert_to_squared(M,m,n,)) # agrego una fila con valores aleatorios.\n",
    "    print(\"Matriz convertida a cuadrada:\")\n",
    "    print(obj2) # usando el método especial __str__()\n",
    "    pass \n",
    "elif m > n: \n",
    "    obj2=SquaredMatrix(convert_to_squared(M,m,n,m-n)) # # agrego m-n columnas con valores aleatorios.\n",
    "    print(\"Matriz convertida a cuadrada:\")\n",
    "    print(obj2) # usando el método especial __str__()\n",
    "elif m==n: \n",
    "    print(\"La matriz ya es cuadrada!\")\n",
    "    print(obj)\n",
    "    \n",
    "print(obj2.__transpose__())\n",
    "print(\"Matriz cuadrada transpuesta:\")\n",
    "obj2_T=Matrix(obj2.__transpose__())\n",
    "print(obj2_T)\n",
    "print(\"Determinante:\")\n",
    "print(obj2.__determinant__())\n",
    "print(\"Matriz inversa:\")\n",
    "obj2_I=Matrix(obj2.__inverse__())\n",
    "print(obj2_I)\n",
    "print(\"Autovalores y autovectores:\")\n",
    "print(obj2.__eigen__())\n",
    "b=[[random.uniform(-100, 100)] for i in range(m)]\n",
    "print(f\"La solución del sistema Ax=b, donde\\nb = {b}\\nA = {obj2.M}\\nes\")\n",
    "print(f\"x = {obj2.__solve__(b)}\")\n",
    "print()\n",
    "#print(np.array(obj2.M)) \n",
    "    \n",
    "\n"
   ]
  },
  {
   "cell_type": "code",
   "execution_count": 341,
   "id": "0da1c003",
   "metadata": {},
   "outputs": [
    {
     "name": "stdout",
     "output_type": "stream",
     "text": [
      "[[4, 4, 4], [14, 35, 26]]\n",
      "[1, 4, 2, 5]\n",
      "[[1], [4], [2], [5]]\n",
      "[[1, 4], [2, 5], [3, 6]]\n"
     ]
    }
   ],
   "source": [
    "M1=[[1,2,3],[4,5,6]]\n",
    "M2=[[3,2,1],[10,30,20]]\n",
    "print([list(map(lambda x,y:x+y,M1[k],M2[k])) for k in range(len(M1))])\n",
    "\n",
    "j=0\n",
    "[M1[i][j] for i in range(len(M1))]\n",
    "\n",
    "T=[]\n",
    "for j in range(len(M1)):\n",
    "    T+=[M1[i][j] for i in range(len(M1))]\n",
    "print(T)\n",
    "\n",
    "T=[]\n",
    "for j in range(len(M1)):\n",
    "    T+=[[M1[i][j]] for i in range(len(M1))]\n",
    "print(T)\n",
    "\n",
    "T=[]\n",
    "for j in range(len(M1[0])): T+=[[M1[i][j] for i in range(len(M1))]]\n",
    "print(T)"
   ]
  },
  {
   "cell_type": "code",
   "execution_count": null,
   "id": "2bb191e1",
   "metadata": {},
   "outputs": [],
   "source": [
    "def f(A,l=None):\n",
    "    if l:\n",
    "        print(\"llena l columnas.\")\n",
    "    else:\n",
    "        print(\"llena una fila.\")\n",
    "f(5,1)"
   ]
  },
  {
   "cell_type": "code",
   "execution_count": 244,
   "id": "a4e01ab0",
   "metadata": {},
   "outputs": [
    {
     "name": "stdout",
     "output_type": "stream",
     "text": [
      "[23, 43, 47, 87, 90, 4, 11]\n"
     ]
    },
    {
     "data": {
      "text/plain": [
       "[53, 48, 18, 45, 78, 33, 29, 40, 76, 67]"
      ]
     },
     "execution_count": 244,
     "metadata": {},
     "output_type": "execute_result"
    }
   ],
   "source": [
    "import numpy as np\n",
    "import random \n",
    "from numpy.linalg import eig, LinAlgError\n",
    "import pandas as pd\n",
    "\n",
    "M=np.random.randint(0.01,100,[1,7])[0].tolist()\n",
    "M+[np.random.randint(0.01,100,[1,n]).tolist() for j in range(n-m)]\n",
    "print(M)\n",
    "np.random.randint(0.01,100,[1,10]).tolist()[0]"
   ]
  },
  {
   "cell_type": "code",
   "execution_count": 325,
   "id": "e74d654b",
   "metadata": {},
   "outputs": [
    {
     "name": "stdout",
     "output_type": "stream",
     "text": [
      "[[1  2  3]\n",
      " [4  5  6]\n",
      " [7  8  9]\n",
      " [10  11  12]]\n"
     ]
    }
   ],
   "source": [
    "def convert_to_string(function_to_decorate):\n",
    "    def wrapper(ref):\n",
    "        func=function_to_decorate(ref)\n",
    "        return str(func)\n",
    "    return wrapper\n",
    "def get_matrix_form(function_to_decorate):\n",
    "    def wrapper(ref):\n",
    "        func=function_to_decorate(ref)\n",
    "        return func.replace('],',']\\n')\n",
    "    return wrapper\n",
    "def replace_comma(function_to_decorate):\n",
    "    def wrapper(ref):\n",
    "        func=function_to_decorate(ref)\n",
    "        return func.replace(',',' ')\n",
    "    return wrapper\n",
    "\n",
    "class tre(object):\n",
    "    def __init__(self,M):\n",
    "        self.M=M\n",
    "        pass\n",
    "    @replace_comma\n",
    "    @get_matrix_form\n",
    "    @convert_to_string\n",
    "    def __str__(self):\n",
    "        return self.M\n",
    "    \n",
    "obj=tre([[1,2,3],[4,5,6],[7,8,9],[10,11,12]])\n",
    "print(obj)\n",
    "\n",
    "# el tipo de dato de una función se define como el tipo de dato de lo que retorna."
   ]
  },
  {
   "cell_type": "code",
   "execution_count": 321,
   "id": "4884ebd4",
   "metadata": {},
   "outputs": [
    {
     "name": "stdout",
     "output_type": "stream",
     "text": [
      "2\n"
     ]
    }
   ],
   "source": [
    "#Class Decorators: Using Decorators with methods defined in a Class\n",
    "\n",
    "def integer_check(method):\n",
    "    def inner(ref):\n",
    "        if not isinstance(ref._val1, int) or not isinstance(ref._val2, int):\n",
    "            raise TypeError('val1 and val2 must be integers')\n",
    "        else:\n",
    "            return method(ref)\n",
    "    return inner\n",
    "\n",
    "\n",
    "class NumericalOps(object):\n",
    "    def __init__(self, val1, val2):\n",
    "        self._val1 = val1\n",
    "        self._val2 = val2\n",
    "\n",
    "    @integer_check\n",
    "    def multiply_together(self):\n",
    "        return self._val1 * self._val2\n",
    "\n",
    "    #def power(self, exponent):\n",
    "     #   return self.multiply_together() ** exponent\n",
    "\n",
    "# x = NumericalOps(2, 'my_string')\n",
    "\n",
    "# print(x.multiply_together())\n",
    "\n",
    "y = NumericalOps(1, 2)\n",
    "\n",
    "print(y.multiply_together())\n",
    "#print(y.power(3))"
   ]
  },
  {
   "cell_type": "code",
   "execution_count": 338,
   "id": "5e5a1578",
   "metadata": {},
   "outputs": [
    {
     "name": "stdout",
     "output_type": "stream",
     "text": [
      "-7\n",
      "Superclase\n"
     ]
    }
   ],
   "source": [
    "class superclase:\n",
    "    def __init__(self,atr1):\n",
    "        self.atr=atr1\n",
    "    def method1(self):\n",
    "        print(\"Superclase\")\n",
    "class subclase(superclase):\n",
    "    def __init__(self,atr2):\n",
    "        super().__init__(atr2)\n",
    "sub=subclase(-7)\n",
    "print(sub.atr)\n",
    "sub.method1()"
   ]
  },
  {
   "cell_type": "code",
   "execution_count": 371,
   "id": "8402cd04",
   "metadata": {},
   "outputs": [
    {
     "name": "stdout",
     "output_type": "stream",
     "text": [
      "-2.0000000000000004\n",
      "0.0\n"
     ]
    }
   ],
   "source": [
    "import numpy as np\n",
    "import random \n",
    "#from numpy.linalg import eig, LinAlgError\n",
    "import pandas as pd\n",
    "\n",
    "try:\n",
    "    print(np.linalg.det(np.array([[1,2],[3,4]])))\n",
    "    print(np.linalg.det(np.array([[1,2,3],[4,5,6],[7,8,9]])))\n",
    "except LinAlgError:\n",
    "    print(\"Singular matrix. La matrix no tiene inversa.\")\n",
    "\n"
   ]
  },
  {
   "cell_type": "code",
   "execution_count": 382,
   "id": "ab032e27",
   "metadata": {},
   "outputs": [
    {
     "data": {
      "text/plain": [
       "-11.930526989170588"
      ]
     },
     "execution_count": 382,
     "metadata": {},
     "output_type": "execute_result"
    }
   ],
   "source": [
    "import random\n",
    "\n",
    "random.uniform(-100, 100)"
   ]
  },
  {
   "cell_type": "code",
   "execution_count": 61,
   "id": "6caa8145",
   "metadata": {},
   "outputs": [
    {
     "ename": "SyntaxError",
     "evalue": "positional argument follows keyword argument (1887731953.py, line 4)",
     "output_type": "error",
     "traceback": [
      "\u001b[1;36m  Cell \u001b[1;32mIn[61], line 4\u001b[1;36m\u001b[0m\n\u001b[1;33m    funcionX(a=\"a\",2)\u001b[0m\n\u001b[1;37m                    ^\u001b[0m\n\u001b[1;31mSyntaxError\u001b[0m\u001b[1;31m:\u001b[0m positional argument follows keyword argument\n"
     ]
    }
   ],
   "source": []
  },
  {
   "cell_type": "code",
   "execution_count": null,
   "id": "8fe225b3",
   "metadata": {},
   "outputs": [],
   "source": []
  }
 ],
 "metadata": {
  "kernelspec": {
   "display_name": "Python 3 (ipykernel)",
   "language": "python",
   "name": "python3"
  },
  "language_info": {
   "codemirror_mode": {
    "name": "ipython",
    "version": 3
   },
   "file_extension": ".py",
   "mimetype": "text/x-python",
   "name": "python",
   "nbconvert_exporter": "python",
   "pygments_lexer": "ipython3",
   "version": "3.11.2"
  }
 },
 "nbformat": 4,
 "nbformat_minor": 5
}
